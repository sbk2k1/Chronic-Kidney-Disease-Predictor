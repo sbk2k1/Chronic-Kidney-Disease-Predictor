{
  "nbformat": 4,
  "nbformat_minor": 0,
  "metadata": {
    "colab": {
      "name": "Kidney.ipynb",
      "provenance": []
    },
    "kernelspec": {
      "name": "python3",
      "display_name": "Python 3"
    },
    "language_info": {
      "name": "python"
    }
  },
  "cells": [
    {
      "cell_type": "code",
      "metadata": {
        "id": "tjFod-fa_KV0"
      },
      "source": [
        "import pandas as pd\n",
        "import numpy as np\n",
        "import matplotlib.pyplot as plt\n",
        "import seaborn as sns\n",
        "import plotly.express as px\n",
        "from sklearn.preprocessing import LabelEncoder\n",
        "from sklearn.feature_selection import SelectKBest\n",
        "from sklearn.feature_selection import chi2\n",
        "from sklearn.model_selection import train_test_split\n",
        "from xgboost import XGBClassifier\n",
        "from sklearn.model_selection import RandomizedSearchCV\n",
        "from sklearn.metrics import confusion_matrix, accuracy_score"
      ],
      "execution_count": 1,
      "outputs": []
    },
    {
      "cell_type": "code",
      "metadata": {
        "colab": {
          "base_uri": "https://localhost:8080/"
        },
        "id": "YGtpUt-3_aTp",
        "outputId": "4be7e1b3-3aed-4091-e2b2-7b08a3dea759"
      },
      "source": [
        "from google.colab import drive\n",
        "drive.mount('/content/drive')"
      ],
      "execution_count": 2,
      "outputs": [
        {
          "output_type": "stream",
          "name": "stdout",
          "text": [
            "Drive already mounted at /content/drive; to attempt to forcibly remount, call drive.mount(\"/content/drive\", force_remount=True).\n"
          ]
        }
      ]
    },
    {
      "cell_type": "markdown",
      "metadata": {
        "id": "P5h2k5DmFnoH"
      },
      "source": [
        "# Unabbreviating columns "
      ]
    },
    {
      "cell_type": "code",
      "metadata": {
        "id": "DooWVvsz_szL"
      },
      "source": [
        "df= pd.read_csv(r'/content/drive/My Drive/Work/Datasets/Kidney/kidney_disease.csv')"
      ],
      "execution_count": 3,
      "outputs": []
    },
    {
      "cell_type": "code",
      "metadata": {
        "colab": {
          "base_uri": "https://localhost:8080/",
          "height": 0
        },
        "id": "2BTwTnf5AVg9",
        "outputId": "31f7952a-7687-483d-8610-61686cb236bc"
      },
      "source": [
        "df.head()"
      ],
      "execution_count": 4,
      "outputs": [
        {
          "output_type": "execute_result",
          "data": {
            "text/html": [
              "<div>\n",
              "<style scoped>\n",
              "    .dataframe tbody tr th:only-of-type {\n",
              "        vertical-align: middle;\n",
              "    }\n",
              "\n",
              "    .dataframe tbody tr th {\n",
              "        vertical-align: top;\n",
              "    }\n",
              "\n",
              "    .dataframe thead th {\n",
              "        text-align: right;\n",
              "    }\n",
              "</style>\n",
              "<table border=\"1\" class=\"dataframe\">\n",
              "  <thead>\n",
              "    <tr style=\"text-align: right;\">\n",
              "      <th></th>\n",
              "      <th>id</th>\n",
              "      <th>age</th>\n",
              "      <th>bp</th>\n",
              "      <th>sg</th>\n",
              "      <th>al</th>\n",
              "      <th>su</th>\n",
              "      <th>rbc</th>\n",
              "      <th>pc</th>\n",
              "      <th>pcc</th>\n",
              "      <th>ba</th>\n",
              "      <th>bgr</th>\n",
              "      <th>bu</th>\n",
              "      <th>sc</th>\n",
              "      <th>sod</th>\n",
              "      <th>pot</th>\n",
              "      <th>hemo</th>\n",
              "      <th>pcv</th>\n",
              "      <th>wc</th>\n",
              "      <th>rc</th>\n",
              "      <th>htn</th>\n",
              "      <th>dm</th>\n",
              "      <th>cad</th>\n",
              "      <th>appet</th>\n",
              "      <th>pe</th>\n",
              "      <th>ane</th>\n",
              "      <th>classification</th>\n",
              "    </tr>\n",
              "  </thead>\n",
              "  <tbody>\n",
              "    <tr>\n",
              "      <th>0</th>\n",
              "      <td>0</td>\n",
              "      <td>48.0</td>\n",
              "      <td>80.0</td>\n",
              "      <td>1.020</td>\n",
              "      <td>1.0</td>\n",
              "      <td>0.0</td>\n",
              "      <td>NaN</td>\n",
              "      <td>normal</td>\n",
              "      <td>notpresent</td>\n",
              "      <td>notpresent</td>\n",
              "      <td>121.0</td>\n",
              "      <td>36.0</td>\n",
              "      <td>1.2</td>\n",
              "      <td>NaN</td>\n",
              "      <td>NaN</td>\n",
              "      <td>15.4</td>\n",
              "      <td>44</td>\n",
              "      <td>7800</td>\n",
              "      <td>5.2</td>\n",
              "      <td>yes</td>\n",
              "      <td>yes</td>\n",
              "      <td>no</td>\n",
              "      <td>good</td>\n",
              "      <td>no</td>\n",
              "      <td>no</td>\n",
              "      <td>ckd</td>\n",
              "    </tr>\n",
              "    <tr>\n",
              "      <th>1</th>\n",
              "      <td>1</td>\n",
              "      <td>7.0</td>\n",
              "      <td>50.0</td>\n",
              "      <td>1.020</td>\n",
              "      <td>4.0</td>\n",
              "      <td>0.0</td>\n",
              "      <td>NaN</td>\n",
              "      <td>normal</td>\n",
              "      <td>notpresent</td>\n",
              "      <td>notpresent</td>\n",
              "      <td>NaN</td>\n",
              "      <td>18.0</td>\n",
              "      <td>0.8</td>\n",
              "      <td>NaN</td>\n",
              "      <td>NaN</td>\n",
              "      <td>11.3</td>\n",
              "      <td>38</td>\n",
              "      <td>6000</td>\n",
              "      <td>NaN</td>\n",
              "      <td>no</td>\n",
              "      <td>no</td>\n",
              "      <td>no</td>\n",
              "      <td>good</td>\n",
              "      <td>no</td>\n",
              "      <td>no</td>\n",
              "      <td>ckd</td>\n",
              "    </tr>\n",
              "    <tr>\n",
              "      <th>2</th>\n",
              "      <td>2</td>\n",
              "      <td>62.0</td>\n",
              "      <td>80.0</td>\n",
              "      <td>1.010</td>\n",
              "      <td>2.0</td>\n",
              "      <td>3.0</td>\n",
              "      <td>normal</td>\n",
              "      <td>normal</td>\n",
              "      <td>notpresent</td>\n",
              "      <td>notpresent</td>\n",
              "      <td>423.0</td>\n",
              "      <td>53.0</td>\n",
              "      <td>1.8</td>\n",
              "      <td>NaN</td>\n",
              "      <td>NaN</td>\n",
              "      <td>9.6</td>\n",
              "      <td>31</td>\n",
              "      <td>7500</td>\n",
              "      <td>NaN</td>\n",
              "      <td>no</td>\n",
              "      <td>yes</td>\n",
              "      <td>no</td>\n",
              "      <td>poor</td>\n",
              "      <td>no</td>\n",
              "      <td>yes</td>\n",
              "      <td>ckd</td>\n",
              "    </tr>\n",
              "    <tr>\n",
              "      <th>3</th>\n",
              "      <td>3</td>\n",
              "      <td>48.0</td>\n",
              "      <td>70.0</td>\n",
              "      <td>1.005</td>\n",
              "      <td>4.0</td>\n",
              "      <td>0.0</td>\n",
              "      <td>normal</td>\n",
              "      <td>abnormal</td>\n",
              "      <td>present</td>\n",
              "      <td>notpresent</td>\n",
              "      <td>117.0</td>\n",
              "      <td>56.0</td>\n",
              "      <td>3.8</td>\n",
              "      <td>111.0</td>\n",
              "      <td>2.5</td>\n",
              "      <td>11.2</td>\n",
              "      <td>32</td>\n",
              "      <td>6700</td>\n",
              "      <td>3.9</td>\n",
              "      <td>yes</td>\n",
              "      <td>no</td>\n",
              "      <td>no</td>\n",
              "      <td>poor</td>\n",
              "      <td>yes</td>\n",
              "      <td>yes</td>\n",
              "      <td>ckd</td>\n",
              "    </tr>\n",
              "    <tr>\n",
              "      <th>4</th>\n",
              "      <td>4</td>\n",
              "      <td>51.0</td>\n",
              "      <td>80.0</td>\n",
              "      <td>1.010</td>\n",
              "      <td>2.0</td>\n",
              "      <td>0.0</td>\n",
              "      <td>normal</td>\n",
              "      <td>normal</td>\n",
              "      <td>notpresent</td>\n",
              "      <td>notpresent</td>\n",
              "      <td>106.0</td>\n",
              "      <td>26.0</td>\n",
              "      <td>1.4</td>\n",
              "      <td>NaN</td>\n",
              "      <td>NaN</td>\n",
              "      <td>11.6</td>\n",
              "      <td>35</td>\n",
              "      <td>7300</td>\n",
              "      <td>4.6</td>\n",
              "      <td>no</td>\n",
              "      <td>no</td>\n",
              "      <td>no</td>\n",
              "      <td>good</td>\n",
              "      <td>no</td>\n",
              "      <td>no</td>\n",
              "      <td>ckd</td>\n",
              "    </tr>\n",
              "  </tbody>\n",
              "</table>\n",
              "</div>"
            ],
            "text/plain": [
              "   id   age    bp     sg   al   su  ...   dm cad appet   pe  ane  classification\n",
              "0   0  48.0  80.0  1.020  1.0  0.0  ...  yes  no  good   no   no             ckd\n",
              "1   1   7.0  50.0  1.020  4.0  0.0  ...   no  no  good   no   no             ckd\n",
              "2   2  62.0  80.0  1.010  2.0  3.0  ...  yes  no  poor   no  yes             ckd\n",
              "3   3  48.0  70.0  1.005  4.0  0.0  ...   no  no  poor  yes  yes             ckd\n",
              "4   4  51.0  80.0  1.010  2.0  0.0  ...   no  no  good   no   no             ckd\n",
              "\n",
              "[5 rows x 26 columns]"
            ]
          },
          "metadata": {},
          "execution_count": 4
        }
      ]
    },
    {
      "cell_type": "code",
      "metadata": {
        "id": "QbG_M5n1AgXQ"
      },
      "source": [
        "columns= pd.read_csv('/content/drive/My Drive/Work/Datasets/Kidney/data_description.txt', sep='-')\n",
        "columns= columns.reset_index()"
      ],
      "execution_count": 5,
      "outputs": []
    },
    {
      "cell_type": "code",
      "metadata": {
        "colab": {
          "base_uri": "https://localhost:8080/",
          "height": 0
        },
        "id": "0aWbI_I2BH2-",
        "outputId": "f75cfda9-c82a-4258-8efb-f35b9e8087a2"
      },
      "source": [
        "columns.columns= ['cols', 'abb_col_names']\n",
        "columns"
      ],
      "execution_count": 6,
      "outputs": [
        {
          "output_type": "execute_result",
          "data": {
            "text/html": [
              "<div>\n",
              "<style scoped>\n",
              "    .dataframe tbody tr th:only-of-type {\n",
              "        vertical-align: middle;\n",
              "    }\n",
              "\n",
              "    .dataframe tbody tr th {\n",
              "        vertical-align: top;\n",
              "    }\n",
              "\n",
              "    .dataframe thead th {\n",
              "        text-align: right;\n",
              "    }\n",
              "</style>\n",
              "<table border=\"1\" class=\"dataframe\">\n",
              "  <thead>\n",
              "    <tr style=\"text-align: right;\">\n",
              "      <th></th>\n",
              "      <th>cols</th>\n",
              "      <th>abb_col_names</th>\n",
              "    </tr>\n",
              "  </thead>\n",
              "  <tbody>\n",
              "    <tr>\n",
              "      <th>0</th>\n",
              "      <td>id</td>\n",
              "      <td>id</td>\n",
              "    </tr>\n",
              "    <tr>\n",
              "      <th>1</th>\n",
              "      <td>age</td>\n",
              "      <td>age</td>\n",
              "    </tr>\n",
              "    <tr>\n",
              "      <th>2</th>\n",
              "      <td>bp</td>\n",
              "      <td>blood pressure</td>\n",
              "    </tr>\n",
              "    <tr>\n",
              "      <th>3</th>\n",
              "      <td>sg</td>\n",
              "      <td>specific gravity</td>\n",
              "    </tr>\n",
              "    <tr>\n",
              "      <th>4</th>\n",
              "      <td>al</td>\n",
              "      <td>albumin</td>\n",
              "    </tr>\n",
              "    <tr>\n",
              "      <th>5</th>\n",
              "      <td>su</td>\n",
              "      <td>sugar</td>\n",
              "    </tr>\n",
              "    <tr>\n",
              "      <th>6</th>\n",
              "      <td>rbc</td>\n",
              "      <td>red blood cells</td>\n",
              "    </tr>\n",
              "    <tr>\n",
              "      <th>7</th>\n",
              "      <td>pc</td>\n",
              "      <td>pus cell</td>\n",
              "    </tr>\n",
              "    <tr>\n",
              "      <th>8</th>\n",
              "      <td>pcc</td>\n",
              "      <td>pus cell clumps</td>\n",
              "    </tr>\n",
              "    <tr>\n",
              "      <th>9</th>\n",
              "      <td>ba</td>\n",
              "      <td>bacteria</td>\n",
              "    </tr>\n",
              "    <tr>\n",
              "      <th>10</th>\n",
              "      <td>bgr</td>\n",
              "      <td>blood glucose random</td>\n",
              "    </tr>\n",
              "    <tr>\n",
              "      <th>11</th>\n",
              "      <td>bu</td>\n",
              "      <td>blood urea</td>\n",
              "    </tr>\n",
              "    <tr>\n",
              "      <th>12</th>\n",
              "      <td>sc</td>\n",
              "      <td>serum creatinine</td>\n",
              "    </tr>\n",
              "    <tr>\n",
              "      <th>13</th>\n",
              "      <td>sod</td>\n",
              "      <td>sodium</td>\n",
              "    </tr>\n",
              "    <tr>\n",
              "      <th>14</th>\n",
              "      <td>pot</td>\n",
              "      <td>potassium</td>\n",
              "    </tr>\n",
              "    <tr>\n",
              "      <th>15</th>\n",
              "      <td>hemo</td>\n",
              "      <td>haemoglobin</td>\n",
              "    </tr>\n",
              "    <tr>\n",
              "      <th>16</th>\n",
              "      <td>pcv</td>\n",
              "      <td>packed cell volume</td>\n",
              "    </tr>\n",
              "    <tr>\n",
              "      <th>17</th>\n",
              "      <td>wc</td>\n",
              "      <td>white blood cell count</td>\n",
              "    </tr>\n",
              "    <tr>\n",
              "      <th>18</th>\n",
              "      <td>rc</td>\n",
              "      <td>red blood cell count</td>\n",
              "    </tr>\n",
              "    <tr>\n",
              "      <th>19</th>\n",
              "      <td>htn</td>\n",
              "      <td>ypertension</td>\n",
              "    </tr>\n",
              "    <tr>\n",
              "      <th>20</th>\n",
              "      <td>dm</td>\n",
              "      <td>diabetes mellitus</td>\n",
              "    </tr>\n",
              "    <tr>\n",
              "      <th>21</th>\n",
              "      <td>cad</td>\n",
              "      <td>coronary artery disease</td>\n",
              "    </tr>\n",
              "    <tr>\n",
              "      <th>22</th>\n",
              "      <td>appet</td>\n",
              "      <td>appetite</td>\n",
              "    </tr>\n",
              "    <tr>\n",
              "      <th>23</th>\n",
              "      <td>pe</td>\n",
              "      <td>pedal edema</td>\n",
              "    </tr>\n",
              "    <tr>\n",
              "      <th>24</th>\n",
              "      <td>ane</td>\n",
              "      <td>anemia</td>\n",
              "    </tr>\n",
              "    <tr>\n",
              "      <th>25</th>\n",
              "      <td>classification</td>\n",
              "      <td>class</td>\n",
              "    </tr>\n",
              "  </tbody>\n",
              "</table>\n",
              "</div>"
            ],
            "text/plain": [
              "               cols            abb_col_names\n",
              "0               id                        id\n",
              "1              age                       age\n",
              "2               bp            blood pressure\n",
              "3               sg          specific gravity\n",
              "4               al                   albumin\n",
              "5               su                     sugar\n",
              "6              rbc           red blood cells\n",
              "7               pc                  pus cell\n",
              "8              pcc           pus cell clumps\n",
              "9               ba                  bacteria\n",
              "10             bgr      blood glucose random\n",
              "11              bu                blood urea\n",
              "12              sc          serum creatinine\n",
              "13             sod                    sodium\n",
              "14             pot                 potassium\n",
              "15            hemo               haemoglobin\n",
              "16             pcv        packed cell volume\n",
              "17              wc    white blood cell count\n",
              "18              rc      red blood cell count\n",
              "19             htn               ypertension\n",
              "20              dm         diabetes mellitus\n",
              "21             cad   coronary artery disease\n",
              "22           appet                  appetite\n",
              "23              pe               pedal edema\n",
              "24             ane                    anemia\n",
              "25  classification                     class"
            ]
          },
          "metadata": {},
          "execution_count": 6
        }
      ]
    },
    {
      "cell_type": "code",
      "metadata": {
        "colab": {
          "base_uri": "https://localhost:8080/",
          "height": 0
        },
        "id": "W0nqsgNmBy9J",
        "outputId": "aa9326e1-05aa-4421-8e44-f6c25eeecdbe"
      },
      "source": [
        "df.head()"
      ],
      "execution_count": 7,
      "outputs": [
        {
          "output_type": "execute_result",
          "data": {
            "text/html": [
              "<div>\n",
              "<style scoped>\n",
              "    .dataframe tbody tr th:only-of-type {\n",
              "        vertical-align: middle;\n",
              "    }\n",
              "\n",
              "    .dataframe tbody tr th {\n",
              "        vertical-align: top;\n",
              "    }\n",
              "\n",
              "    .dataframe thead th {\n",
              "        text-align: right;\n",
              "    }\n",
              "</style>\n",
              "<table border=\"1\" class=\"dataframe\">\n",
              "  <thead>\n",
              "    <tr style=\"text-align: right;\">\n",
              "      <th></th>\n",
              "      <th>id</th>\n",
              "      <th>age</th>\n",
              "      <th>bp</th>\n",
              "      <th>sg</th>\n",
              "      <th>al</th>\n",
              "      <th>su</th>\n",
              "      <th>rbc</th>\n",
              "      <th>pc</th>\n",
              "      <th>pcc</th>\n",
              "      <th>ba</th>\n",
              "      <th>bgr</th>\n",
              "      <th>bu</th>\n",
              "      <th>sc</th>\n",
              "      <th>sod</th>\n",
              "      <th>pot</th>\n",
              "      <th>hemo</th>\n",
              "      <th>pcv</th>\n",
              "      <th>wc</th>\n",
              "      <th>rc</th>\n",
              "      <th>htn</th>\n",
              "      <th>dm</th>\n",
              "      <th>cad</th>\n",
              "      <th>appet</th>\n",
              "      <th>pe</th>\n",
              "      <th>ane</th>\n",
              "      <th>classification</th>\n",
              "    </tr>\n",
              "  </thead>\n",
              "  <tbody>\n",
              "    <tr>\n",
              "      <th>0</th>\n",
              "      <td>0</td>\n",
              "      <td>48.0</td>\n",
              "      <td>80.0</td>\n",
              "      <td>1.020</td>\n",
              "      <td>1.0</td>\n",
              "      <td>0.0</td>\n",
              "      <td>NaN</td>\n",
              "      <td>normal</td>\n",
              "      <td>notpresent</td>\n",
              "      <td>notpresent</td>\n",
              "      <td>121.0</td>\n",
              "      <td>36.0</td>\n",
              "      <td>1.2</td>\n",
              "      <td>NaN</td>\n",
              "      <td>NaN</td>\n",
              "      <td>15.4</td>\n",
              "      <td>44</td>\n",
              "      <td>7800</td>\n",
              "      <td>5.2</td>\n",
              "      <td>yes</td>\n",
              "      <td>yes</td>\n",
              "      <td>no</td>\n",
              "      <td>good</td>\n",
              "      <td>no</td>\n",
              "      <td>no</td>\n",
              "      <td>ckd</td>\n",
              "    </tr>\n",
              "    <tr>\n",
              "      <th>1</th>\n",
              "      <td>1</td>\n",
              "      <td>7.0</td>\n",
              "      <td>50.0</td>\n",
              "      <td>1.020</td>\n",
              "      <td>4.0</td>\n",
              "      <td>0.0</td>\n",
              "      <td>NaN</td>\n",
              "      <td>normal</td>\n",
              "      <td>notpresent</td>\n",
              "      <td>notpresent</td>\n",
              "      <td>NaN</td>\n",
              "      <td>18.0</td>\n",
              "      <td>0.8</td>\n",
              "      <td>NaN</td>\n",
              "      <td>NaN</td>\n",
              "      <td>11.3</td>\n",
              "      <td>38</td>\n",
              "      <td>6000</td>\n",
              "      <td>NaN</td>\n",
              "      <td>no</td>\n",
              "      <td>no</td>\n",
              "      <td>no</td>\n",
              "      <td>good</td>\n",
              "      <td>no</td>\n",
              "      <td>no</td>\n",
              "      <td>ckd</td>\n",
              "    </tr>\n",
              "    <tr>\n",
              "      <th>2</th>\n",
              "      <td>2</td>\n",
              "      <td>62.0</td>\n",
              "      <td>80.0</td>\n",
              "      <td>1.010</td>\n",
              "      <td>2.0</td>\n",
              "      <td>3.0</td>\n",
              "      <td>normal</td>\n",
              "      <td>normal</td>\n",
              "      <td>notpresent</td>\n",
              "      <td>notpresent</td>\n",
              "      <td>423.0</td>\n",
              "      <td>53.0</td>\n",
              "      <td>1.8</td>\n",
              "      <td>NaN</td>\n",
              "      <td>NaN</td>\n",
              "      <td>9.6</td>\n",
              "      <td>31</td>\n",
              "      <td>7500</td>\n",
              "      <td>NaN</td>\n",
              "      <td>no</td>\n",
              "      <td>yes</td>\n",
              "      <td>no</td>\n",
              "      <td>poor</td>\n",
              "      <td>no</td>\n",
              "      <td>yes</td>\n",
              "      <td>ckd</td>\n",
              "    </tr>\n",
              "    <tr>\n",
              "      <th>3</th>\n",
              "      <td>3</td>\n",
              "      <td>48.0</td>\n",
              "      <td>70.0</td>\n",
              "      <td>1.005</td>\n",
              "      <td>4.0</td>\n",
              "      <td>0.0</td>\n",
              "      <td>normal</td>\n",
              "      <td>abnormal</td>\n",
              "      <td>present</td>\n",
              "      <td>notpresent</td>\n",
              "      <td>117.0</td>\n",
              "      <td>56.0</td>\n",
              "      <td>3.8</td>\n",
              "      <td>111.0</td>\n",
              "      <td>2.5</td>\n",
              "      <td>11.2</td>\n",
              "      <td>32</td>\n",
              "      <td>6700</td>\n",
              "      <td>3.9</td>\n",
              "      <td>yes</td>\n",
              "      <td>no</td>\n",
              "      <td>no</td>\n",
              "      <td>poor</td>\n",
              "      <td>yes</td>\n",
              "      <td>yes</td>\n",
              "      <td>ckd</td>\n",
              "    </tr>\n",
              "    <tr>\n",
              "      <th>4</th>\n",
              "      <td>4</td>\n",
              "      <td>51.0</td>\n",
              "      <td>80.0</td>\n",
              "      <td>1.010</td>\n",
              "      <td>2.0</td>\n",
              "      <td>0.0</td>\n",
              "      <td>normal</td>\n",
              "      <td>normal</td>\n",
              "      <td>notpresent</td>\n",
              "      <td>notpresent</td>\n",
              "      <td>106.0</td>\n",
              "      <td>26.0</td>\n",
              "      <td>1.4</td>\n",
              "      <td>NaN</td>\n",
              "      <td>NaN</td>\n",
              "      <td>11.6</td>\n",
              "      <td>35</td>\n",
              "      <td>7300</td>\n",
              "      <td>4.6</td>\n",
              "      <td>no</td>\n",
              "      <td>no</td>\n",
              "      <td>no</td>\n",
              "      <td>good</td>\n",
              "      <td>no</td>\n",
              "      <td>no</td>\n",
              "      <td>ckd</td>\n",
              "    </tr>\n",
              "  </tbody>\n",
              "</table>\n",
              "</div>"
            ],
            "text/plain": [
              "   id   age    bp     sg   al   su  ...   dm cad appet   pe  ane  classification\n",
              "0   0  48.0  80.0  1.020  1.0  0.0  ...  yes  no  good   no   no             ckd\n",
              "1   1   7.0  50.0  1.020  4.0  0.0  ...   no  no  good   no   no             ckd\n",
              "2   2  62.0  80.0  1.010  2.0  3.0  ...  yes  no  poor   no  yes             ckd\n",
              "3   3  48.0  70.0  1.005  4.0  0.0  ...   no  no  poor  yes  yes             ckd\n",
              "4   4  51.0  80.0  1.010  2.0  0.0  ...   no  no  good   no   no             ckd\n",
              "\n",
              "[5 rows x 26 columns]"
            ]
          },
          "metadata": {},
          "execution_count": 7
        }
      ]
    },
    {
      "cell_type": "code",
      "metadata": {
        "id": "tlVSZG_SCnnN"
      },
      "source": [
        "df.columns= columns['abb_col_names'].values"
      ],
      "execution_count": 8,
      "outputs": []
    },
    {
      "cell_type": "code",
      "metadata": {
        "colab": {
          "base_uri": "https://localhost:8080/",
          "height": 0
        },
        "id": "K-G-eUXXCrhl",
        "outputId": "6811876c-1aab-4446-bada-e0e50ac54c52"
      },
      "source": [
        "df.head()"
      ],
      "execution_count": 9,
      "outputs": [
        {
          "output_type": "execute_result",
          "data": {
            "text/html": [
              "<div>\n",
              "<style scoped>\n",
              "    .dataframe tbody tr th:only-of-type {\n",
              "        vertical-align: middle;\n",
              "    }\n",
              "\n",
              "    .dataframe tbody tr th {\n",
              "        vertical-align: top;\n",
              "    }\n",
              "\n",
              "    .dataframe thead th {\n",
              "        text-align: right;\n",
              "    }\n",
              "</style>\n",
              "<table border=\"1\" class=\"dataframe\">\n",
              "  <thead>\n",
              "    <tr style=\"text-align: right;\">\n",
              "      <th></th>\n",
              "      <th>id</th>\n",
              "      <th>age</th>\n",
              "      <th>blood pressure</th>\n",
              "      <th>specific gravity</th>\n",
              "      <th>albumin</th>\n",
              "      <th>sugar</th>\n",
              "      <th>red blood cells</th>\n",
              "      <th>pus cell</th>\n",
              "      <th>pus cell clumps</th>\n",
              "      <th>bacteria</th>\n",
              "      <th>blood glucose random</th>\n",
              "      <th>blood urea</th>\n",
              "      <th>serum creatinine</th>\n",
              "      <th>sodium</th>\n",
              "      <th>potassium</th>\n",
              "      <th>haemoglobin</th>\n",
              "      <th>packed cell volume</th>\n",
              "      <th>white blood cell count</th>\n",
              "      <th>red blood cell count</th>\n",
              "      <th>ypertension</th>\n",
              "      <th>diabetes mellitus</th>\n",
              "      <th>coronary artery disease</th>\n",
              "      <th>appetite</th>\n",
              "      <th>pedal edema</th>\n",
              "      <th>anemia</th>\n",
              "      <th>class</th>\n",
              "    </tr>\n",
              "  </thead>\n",
              "  <tbody>\n",
              "    <tr>\n",
              "      <th>0</th>\n",
              "      <td>0</td>\n",
              "      <td>48.0</td>\n",
              "      <td>80.0</td>\n",
              "      <td>1.020</td>\n",
              "      <td>1.0</td>\n",
              "      <td>0.0</td>\n",
              "      <td>NaN</td>\n",
              "      <td>normal</td>\n",
              "      <td>notpresent</td>\n",
              "      <td>notpresent</td>\n",
              "      <td>121.0</td>\n",
              "      <td>36.0</td>\n",
              "      <td>1.2</td>\n",
              "      <td>NaN</td>\n",
              "      <td>NaN</td>\n",
              "      <td>15.4</td>\n",
              "      <td>44</td>\n",
              "      <td>7800</td>\n",
              "      <td>5.2</td>\n",
              "      <td>yes</td>\n",
              "      <td>yes</td>\n",
              "      <td>no</td>\n",
              "      <td>good</td>\n",
              "      <td>no</td>\n",
              "      <td>no</td>\n",
              "      <td>ckd</td>\n",
              "    </tr>\n",
              "    <tr>\n",
              "      <th>1</th>\n",
              "      <td>1</td>\n",
              "      <td>7.0</td>\n",
              "      <td>50.0</td>\n",
              "      <td>1.020</td>\n",
              "      <td>4.0</td>\n",
              "      <td>0.0</td>\n",
              "      <td>NaN</td>\n",
              "      <td>normal</td>\n",
              "      <td>notpresent</td>\n",
              "      <td>notpresent</td>\n",
              "      <td>NaN</td>\n",
              "      <td>18.0</td>\n",
              "      <td>0.8</td>\n",
              "      <td>NaN</td>\n",
              "      <td>NaN</td>\n",
              "      <td>11.3</td>\n",
              "      <td>38</td>\n",
              "      <td>6000</td>\n",
              "      <td>NaN</td>\n",
              "      <td>no</td>\n",
              "      <td>no</td>\n",
              "      <td>no</td>\n",
              "      <td>good</td>\n",
              "      <td>no</td>\n",
              "      <td>no</td>\n",
              "      <td>ckd</td>\n",
              "    </tr>\n",
              "    <tr>\n",
              "      <th>2</th>\n",
              "      <td>2</td>\n",
              "      <td>62.0</td>\n",
              "      <td>80.0</td>\n",
              "      <td>1.010</td>\n",
              "      <td>2.0</td>\n",
              "      <td>3.0</td>\n",
              "      <td>normal</td>\n",
              "      <td>normal</td>\n",
              "      <td>notpresent</td>\n",
              "      <td>notpresent</td>\n",
              "      <td>423.0</td>\n",
              "      <td>53.0</td>\n",
              "      <td>1.8</td>\n",
              "      <td>NaN</td>\n",
              "      <td>NaN</td>\n",
              "      <td>9.6</td>\n",
              "      <td>31</td>\n",
              "      <td>7500</td>\n",
              "      <td>NaN</td>\n",
              "      <td>no</td>\n",
              "      <td>yes</td>\n",
              "      <td>no</td>\n",
              "      <td>poor</td>\n",
              "      <td>no</td>\n",
              "      <td>yes</td>\n",
              "      <td>ckd</td>\n",
              "    </tr>\n",
              "    <tr>\n",
              "      <th>3</th>\n",
              "      <td>3</td>\n",
              "      <td>48.0</td>\n",
              "      <td>70.0</td>\n",
              "      <td>1.005</td>\n",
              "      <td>4.0</td>\n",
              "      <td>0.0</td>\n",
              "      <td>normal</td>\n",
              "      <td>abnormal</td>\n",
              "      <td>present</td>\n",
              "      <td>notpresent</td>\n",
              "      <td>117.0</td>\n",
              "      <td>56.0</td>\n",
              "      <td>3.8</td>\n",
              "      <td>111.0</td>\n",
              "      <td>2.5</td>\n",
              "      <td>11.2</td>\n",
              "      <td>32</td>\n",
              "      <td>6700</td>\n",
              "      <td>3.9</td>\n",
              "      <td>yes</td>\n",
              "      <td>no</td>\n",
              "      <td>no</td>\n",
              "      <td>poor</td>\n",
              "      <td>yes</td>\n",
              "      <td>yes</td>\n",
              "      <td>ckd</td>\n",
              "    </tr>\n",
              "    <tr>\n",
              "      <th>4</th>\n",
              "      <td>4</td>\n",
              "      <td>51.0</td>\n",
              "      <td>80.0</td>\n",
              "      <td>1.010</td>\n",
              "      <td>2.0</td>\n",
              "      <td>0.0</td>\n",
              "      <td>normal</td>\n",
              "      <td>normal</td>\n",
              "      <td>notpresent</td>\n",
              "      <td>notpresent</td>\n",
              "      <td>106.0</td>\n",
              "      <td>26.0</td>\n",
              "      <td>1.4</td>\n",
              "      <td>NaN</td>\n",
              "      <td>NaN</td>\n",
              "      <td>11.6</td>\n",
              "      <td>35</td>\n",
              "      <td>7300</td>\n",
              "      <td>4.6</td>\n",
              "      <td>no</td>\n",
              "      <td>no</td>\n",
              "      <td>no</td>\n",
              "      <td>good</td>\n",
              "      <td>no</td>\n",
              "      <td>no</td>\n",
              "      <td>ckd</td>\n",
              "    </tr>\n",
              "  </tbody>\n",
              "</table>\n",
              "</div>"
            ],
            "text/plain": [
              "   id   age  blood pressure  specific gravity  ...  appetite  pedal edema anemia class\n",
              "0   0  48.0            80.0             1.020  ...      good           no     no   ckd\n",
              "1   1   7.0            50.0             1.020  ...      good           no     no   ckd\n",
              "2   2  62.0            80.0             1.010  ...      poor           no    yes   ckd\n",
              "3   3  48.0            70.0             1.005  ...      poor          yes    yes   ckd\n",
              "4   4  51.0            80.0             1.010  ...      good           no     no   ckd\n",
              "\n",
              "[5 rows x 26 columns]"
            ]
          },
          "metadata": {},
          "execution_count": 9
        }
      ]
    },
    {
      "cell_type": "code",
      "metadata": {
        "colab": {
          "base_uri": "https://localhost:8080/"
        },
        "id": "XineswImCvip",
        "outputId": "27b7ae13-723b-4b45-9cf0-2dde9d61e63f"
      },
      "source": [
        "df.dtypes"
      ],
      "execution_count": 10,
      "outputs": [
        {
          "output_type": "execute_result",
          "data": {
            "text/plain": [
              "id                           int64\n",
              "age                        float64\n",
              "blood pressure             float64\n",
              "specific gravity           float64\n",
              "albumin                    float64\n",
              "sugar                      float64\n",
              "red blood cells             object\n",
              " pus cell                   object\n",
              "pus cell clumps             object\n",
              "bacteria                    object\n",
              "blood glucose random       float64\n",
              "blood urea                 float64\n",
              "serum creatinine           float64\n",
              "sodium                     float64\n",
              "potassium                  float64\n",
              "haemoglobin                float64\n",
              "packed cell volume          object\n",
              "white blood cell count      object\n",
              "red blood cell count        object\n",
              "ypertension                 object\n",
              "diabetes mellitus           object\n",
              "coronary artery disease     object\n",
              "appetite                    object\n",
              "pedal edema                 object\n",
              "anemia                      object\n",
              "class                       object\n",
              "dtype: object"
            ]
          },
          "metadata": {},
          "execution_count": 10
        }
      ]
    },
    {
      "cell_type": "code",
      "metadata": {
        "id": "7Bw1ClIHC1cB"
      },
      "source": [
        "def convert_dtype(df, feature):\n",
        "  df[feature]= pd.to_numeric(df[feature], errors= 'coerce')"
      ],
      "execution_count": 11,
      "outputs": []
    },
    {
      "cell_type": "code",
      "metadata": {
        "id": "YsFc8CcQDP0E"
      },
      "source": [
        "features= ['packed cell volume', 'white blood cell count', 'red blood cell count']\n",
        "for feature in features:\n",
        "  convert_dtype(df, feature)"
      ],
      "execution_count": 12,
      "outputs": []
    },
    {
      "cell_type": "code",
      "metadata": {
        "colab": {
          "base_uri": "https://localhost:8080/"
        },
        "id": "fb67i0Y7Dn-V",
        "outputId": "34fccfe4-0d08-4f30-e8cd-3ba803d724c1"
      },
      "source": [
        "df.dtypes"
      ],
      "execution_count": 13,
      "outputs": [
        {
          "output_type": "execute_result",
          "data": {
            "text/plain": [
              "id                           int64\n",
              "age                        float64\n",
              "blood pressure             float64\n",
              "specific gravity           float64\n",
              "albumin                    float64\n",
              "sugar                      float64\n",
              "red blood cells             object\n",
              " pus cell                   object\n",
              "pus cell clumps             object\n",
              "bacteria                    object\n",
              "blood glucose random       float64\n",
              "blood urea                 float64\n",
              "serum creatinine           float64\n",
              "sodium                     float64\n",
              "potassium                  float64\n",
              "haemoglobin                float64\n",
              "packed cell volume         float64\n",
              "white blood cell count     float64\n",
              "red blood cell count       float64\n",
              "ypertension                 object\n",
              "diabetes mellitus           object\n",
              "coronary artery disease     object\n",
              "appetite                    object\n",
              "pedal edema                 object\n",
              "anemia                      object\n",
              "class                       object\n",
              "dtype: object"
            ]
          },
          "metadata": {},
          "execution_count": 13
        }
      ]
    },
    {
      "cell_type": "code",
      "metadata": {
        "id": "9ifIpMHKEKhD"
      },
      "source": [
        "df.drop('id', axis= 1, inplace=True)"
      ],
      "execution_count": 14,
      "outputs": []
    },
    {
      "cell_type": "markdown",
      "metadata": {
        "id": "xwoe28JjF0XV"
      },
      "source": [
        ""
      ]
    },
    {
      "cell_type": "markdown",
      "metadata": {
        "id": "ZYV1jyVbF85u"
      },
      "source": [
        "# Data Cleaning"
      ]
    },
    {
      "cell_type": "code",
      "metadata": {
        "id": "ZT5Np14aGBjS"
      },
      "source": [
        "def extract_cat_num(df):\n",
        "  cat_col= [col for col in df.columns if df[col].dtype== 'object']\n",
        "  num_col= [col for col in df.columns if df[col].dtype!= 'object']\n",
        "  return cat_col, num_col"
      ],
      "execution_count": 15,
      "outputs": []
    },
    {
      "cell_type": "code",
      "metadata": {
        "colab": {
          "base_uri": "https://localhost:8080/"
        },
        "id": "jqMajA3QGtl9",
        "outputId": "aa1d586a-cc76-4fba-9d97-4667bd6465ea"
      },
      "source": [
        "cat_col, num_col= extract_cat_num(df)\n",
        "cat_col"
      ],
      "execution_count": 16,
      "outputs": [
        {
          "output_type": "execute_result",
          "data": {
            "text/plain": [
              "['red blood cells',\n",
              " ' pus cell',\n",
              " 'pus cell clumps',\n",
              " 'bacteria',\n",
              " 'ypertension',\n",
              " 'diabetes mellitus',\n",
              " 'coronary artery disease',\n",
              " 'appetite',\n",
              " 'pedal edema',\n",
              " 'anemia',\n",
              " 'class']"
            ]
          },
          "metadata": {},
          "execution_count": 16
        }
      ]
    },
    {
      "cell_type": "code",
      "metadata": {
        "colab": {
          "base_uri": "https://localhost:8080/"
        },
        "id": "z8ObV9wTGwP1",
        "outputId": "ec57eef8-b1fa-4c16-e050-a1b1598a4103"
      },
      "source": [
        "num_col"
      ],
      "execution_count": 17,
      "outputs": [
        {
          "output_type": "execute_result",
          "data": {
            "text/plain": [
              "['age',\n",
              " 'blood pressure',\n",
              " 'specific gravity',\n",
              " 'albumin',\n",
              " 'sugar',\n",
              " 'blood glucose random',\n",
              " 'blood urea',\n",
              " 'serum creatinine',\n",
              " 'sodium',\n",
              " 'potassium',\n",
              " 'haemoglobin',\n",
              " 'packed cell volume',\n",
              " 'white blood cell count',\n",
              " 'red blood cell count']"
            ]
          },
          "metadata": {},
          "execution_count": 17
        }
      ]
    },
    {
      "cell_type": "code",
      "metadata": {
        "colab": {
          "base_uri": "https://localhost:8080/"
        },
        "id": "CwB8NeNDG62x",
        "outputId": "f3fa5086-660f-474a-b7bf-1e3ff3ac7bfd"
      },
      "source": [
        "for col in cat_col:\n",
        "  print('{} has {} values'.format(col, df[col].unique()))\n",
        "  print('\\n')"
      ],
      "execution_count": 18,
      "outputs": [
        {
          "output_type": "stream",
          "name": "stdout",
          "text": [
            "red blood cells has [nan 'normal' 'abnormal'] values\n",
            "\n",
            "\n",
            " pus cell has ['normal' 'abnormal' nan] values\n",
            "\n",
            "\n",
            "pus cell clumps has ['notpresent' 'present' nan] values\n",
            "\n",
            "\n",
            "bacteria has ['notpresent' 'present' nan] values\n",
            "\n",
            "\n",
            "ypertension has ['yes' 'no' nan] values\n",
            "\n",
            "\n",
            "diabetes mellitus has ['yes' 'no' ' yes' '\\tno' '\\tyes' nan] values\n",
            "\n",
            "\n",
            "coronary artery disease has ['no' 'yes' '\\tno' nan] values\n",
            "\n",
            "\n",
            "appetite has ['good' 'poor' nan] values\n",
            "\n",
            "\n",
            "pedal edema has ['no' 'yes' nan] values\n",
            "\n",
            "\n",
            "anemia has ['no' 'yes' nan] values\n",
            "\n",
            "\n",
            "class has ['ckd' 'ckd\\t' 'notckd'] values\n",
            "\n",
            "\n"
          ]
        }
      ]
    },
    {
      "cell_type": "code",
      "metadata": {
        "id": "IhqRuWhoHRYO"
      },
      "source": [
        "df['diabetes mellitus'].replace(to_replace= {'\\tno': 'no','\\tyes': 'yes'}, inplace=True)\n",
        "df['coronary artery disease'].replace(to_replace= {'\\tno': 'no','\\tyes': 'yes'}, inplace=True)\n",
        "df['class'].replace(to_replace= { 'ckd\\t': 'ckd'}, inplace=True)"
      ],
      "execution_count": 19,
      "outputs": []
    },
    {
      "cell_type": "code",
      "metadata": {
        "colab": {
          "base_uri": "https://localhost:8080/"
        },
        "id": "2H7fVFJfIT6G",
        "outputId": "4d823df9-f909-4fc9-cdc8-833be1adad4a"
      },
      "source": [
        "for col in cat_col:\n",
        "  print('{} has {} values'.format(col, df[col].unique()))\n",
        "  print('\\n')"
      ],
      "execution_count": 20,
      "outputs": [
        {
          "output_type": "stream",
          "name": "stdout",
          "text": [
            "red blood cells has [nan 'normal' 'abnormal'] values\n",
            "\n",
            "\n",
            " pus cell has ['normal' 'abnormal' nan] values\n",
            "\n",
            "\n",
            "pus cell clumps has ['notpresent' 'present' nan] values\n",
            "\n",
            "\n",
            "bacteria has ['notpresent' 'present' nan] values\n",
            "\n",
            "\n",
            "ypertension has ['yes' 'no' nan] values\n",
            "\n",
            "\n",
            "diabetes mellitus has ['yes' 'no' ' yes' nan] values\n",
            "\n",
            "\n",
            "coronary artery disease has ['no' 'yes' nan] values\n",
            "\n",
            "\n",
            "appetite has ['good' 'poor' nan] values\n",
            "\n",
            "\n",
            "pedal edema has ['no' 'yes' nan] values\n",
            "\n",
            "\n",
            "anemia has ['no' 'yes' nan] values\n",
            "\n",
            "\n",
            "class has ['ckd' 'notckd'] values\n",
            "\n",
            "\n"
          ]
        }
      ]
    },
    {
      "cell_type": "code",
      "metadata": {
        "id": "s28r0e30Ic3K"
      },
      "source": [
        ""
      ],
      "execution_count": 20,
      "outputs": []
    },
    {
      "cell_type": "markdown",
      "metadata": {
        "id": "Jstc88u_Ivwg"
      },
      "source": [
        "# Analyzing Distributions"
      ]
    },
    {
      "cell_type": "code",
      "metadata": {
        "colab": {
          "base_uri": "https://localhost:8080/"
        },
        "id": "OaKtyC8pJ16G",
        "outputId": "d64fef75-d9ee-4940-c7c3-cf55d0382e94"
      },
      "source": [
        "len(num_col)"
      ],
      "execution_count": 21,
      "outputs": [
        {
          "output_type": "execute_result",
          "data": {
            "text/plain": [
              "14"
            ]
          },
          "metadata": {},
          "execution_count": 21
        }
      ]
    },
    {
      "cell_type": "code",
      "metadata": {
        "colab": {
          "base_uri": "https://localhost:8080/",
          "height": 0
        },
        "id": "6_lqV5esI0Ax",
        "outputId": "1636aa9b-253b-4d51-f358-9f2c06b9b11f"
      },
      "source": [
        "plt.figure(figsize=(30, 20))\n",
        "for i, feature in enumerate(num_col):\n",
        "  plt.subplot(5,3, i+1)\n",
        "  df[feature].hist()\n",
        "  plt.title(feature)"
      ],
      "execution_count": 22,
      "outputs": [
        {
          "output_type": "display_data",
          "data": {
            "image/png": "[encoded data removed]",
            "text/plain": [
              "<Figure size 2160x1440 with 14 Axes>"
            ]
          },
          "metadata": {
            "needs_background": "light"
          }
        }
      ]
    },
    {
      "cell_type": "code",
      "metadata": {
        "colab": {
          "base_uri": "https://localhost:8080/",
          "height": 0
        },
        "id": "hG0GtgxVJAgy",
        "outputId": "f6b881fa-218e-49b4-8f7d-ab85d448c989"
      },
      "source": [
        "len(cat_col)\n",
        "plt.figure(figsize= (20,20))\n",
        "for i,feature in enumerate(cat_col):\n",
        "  plt.subplot(4,3,i+1)\n",
        "  sns.countplot(df[feature])"
      ],
      "execution_count": 23,
      "outputs": [
        {
          "output_type": "stream",
          "name": "stderr",
          "text": [
            "/usr/local/lib/python3.7/dist-packages/seaborn/_decorators.py:43: FutureWarning:\n",
            "\n",
            "Pass the following variable as a keyword arg: x. From version 0.12, the only valid positional argument will be `data`, and passing other arguments without an explicit keyword will result in an error or misinterpretation.\n",
            "\n",
            "/usr/local/lib/python3.7/dist-packages/seaborn/_decorators.py:43: FutureWarning:\n",
            "\n",
            "Pass the following variable as a keyword arg: x. From version 0.12, the only valid positional argument will be `data`, and passing other arguments without an explicit keyword will result in an error or misinterpretation.\n",
            "\n",
            "/usr/local/lib/python3.7/dist-packages/seaborn/_decorators.py:43: FutureWarning:\n",
            "\n",
            "Pass the following variable as a keyword arg: x. From version 0.12, the only valid positional argument will be `data`, and passing other arguments without an explicit keyword will result in an error or misinterpretation.\n",
            "\n",
            "/usr/local/lib/python3.7/dist-packages/seaborn/_decorators.py:43: FutureWarning:\n",
            "\n",
            "Pass the following variable as a keyword arg: x. From version 0.12, the only valid positional argument will be `data`, and passing other arguments without an explicit keyword will result in an error or misinterpretation.\n",
            "\n",
            "/usr/local/lib/python3.7/dist-packages/seaborn/_decorators.py:43: FutureWarning:\n",
            "\n",
            "Pass the following variable as a keyword arg: x. From version 0.12, the only valid positional argument will be `data`, and passing other arguments without an explicit keyword will result in an error or misinterpretation.\n",
            "\n",
            "/usr/local/lib/python3.7/dist-packages/seaborn/_decorators.py:43: FutureWarning:\n",
            "\n",
            "Pass the following variable as a keyword arg: x. From version 0.12, the only valid positional argument will be `data`, and passing other arguments without an explicit keyword will result in an error or misinterpretation.\n",
            "\n",
            "/usr/local/lib/python3.7/dist-packages/seaborn/_decorators.py:43: FutureWarning:\n",
            "\n",
            "Pass the following variable as a keyword arg: x. From version 0.12, the only valid positional argument will be `data`, and passing other arguments without an explicit keyword will result in an error or misinterpretation.\n",
            "\n",
            "/usr/local/lib/python3.7/dist-packages/seaborn/_decorators.py:43: FutureWarning:\n",
            "\n",
            "Pass the following variable as a keyword arg: x. From version 0.12, the only valid positional argument will be `data`, and passing other arguments without an explicit keyword will result in an error or misinterpretation.\n",
            "\n",
            "/usr/local/lib/python3.7/dist-packages/seaborn/_decorators.py:43: FutureWarning:\n",
            "\n",
            "Pass the following variable as a keyword arg: x. From version 0.12, the only valid positional argument will be `data`, and passing other arguments without an explicit keyword will result in an error or misinterpretation.\n",
            "\n",
            "/usr/local/lib/python3.7/dist-packages/seaborn/_decorators.py:43: FutureWarning:\n",
            "\n",
            "Pass the following variable as a keyword arg: x. From version 0.12, the only valid positional argument will be `data`, and passing other arguments without an explicit keyword will result in an error or misinterpretation.\n",
            "\n",
            "/usr/local/lib/python3.7/dist-packages/seaborn/_decorators.py:43: FutureWarning:\n",
            "\n",
            "Pass the following variable as a keyword arg: x. From version 0.12, the only valid positional argument will be `data`, and passing other arguments without an explicit keyword will result in an error or misinterpretation.\n",
            "\n"
          ]
        },
        {
          "output_type": "display_data",
          "data": {
            "image/png": "[encoded data removed]",
            "text/plain": [
              "<Figure size 1440x1440 with 11 Axes>"
            ]
          },
          "metadata": {
            "needs_background": "light"
          }
        }
      ]
    },
    {
      "cell_type": "code",
      "metadata": {
        "colab": {
          "base_uri": "https://localhost:8080/",
          "height": 0
        },
        "id": "aQkoJkQzLm0S",
        "outputId": "30d21bfa-d56f-4806-cd87-36d82bf1f0e0"
      },
      "source": [
        "sns.countplot(df['class'])"
      ],
      "execution_count": 24,
      "outputs": [
        {
          "output_type": "stream",
          "name": "stderr",
          "text": [
            "/usr/local/lib/python3.7/dist-packages/seaborn/_decorators.py:43: FutureWarning:\n",
            "\n",
            "Pass the following variable as a keyword arg: x. From version 0.12, the only valid positional argument will be `data`, and passing other arguments without an explicit keyword will result in an error or misinterpretation.\n",
            "\n"
          ]
        },
        {
          "output_type": "execute_result",
          "data": {
            "text/plain": [
              "<matplotlib.axes._subplots.AxesSubplot at 0x7f527d5ac0d0>"
            ]
          },
          "metadata": {},
          "execution_count": 24
        },
        {
          "output_type": "display_data",
          "data": {
            "image/png": "[encoded data removed]",
            "text/plain": [
              "<Figure size 432x288 with 1 Axes>"
            ]
          },
          "metadata": {
            "needs_background": "light"
          }
        }
      ]
    },
    {
      "cell_type": "code",
      "metadata": {
        "id": "rrJXg_r1MUN2"
      },
      "source": [
        ""
      ],
      "execution_count": 24,
      "outputs": []
    },
    {
      "cell_type": "markdown",
      "metadata": {
        "id": "uY-UsFnNbWFk"
      },
      "source": [
        "Finding Co-relation within columns"
      ]
    },
    {
      "cell_type": "code",
      "metadata": {
        "colab": {
          "base_uri": "https://localhost:8080/",
          "height": 0
        },
        "id": "1y94TUN6bemu",
        "outputId": "02a4f525-4159-4b46-f281-ccd7bcfd126b"
      },
      "source": [
        "plt.figure(figsize=(10,8))\n",
        "df.corr()\n",
        "sns.heatmap(df.corr(), annot=True)"
      ],
      "execution_count": 25,
      "outputs": [
        {
          "output_type": "execute_result",
          "data": {
            "text/plain": [
              "<matplotlib.axes._subplots.AxesSubplot at 0x7f527d4e0550>"
            ]
          },
          "metadata": {},
          "execution_count": 25
        },
        {
          "output_type": "display_data",
          "data": {
            "image/png": "[encoded data removed]",
            "text/plain": [
              "<Figure size 720x576 with 2 Axes>"
            ]
          },
          "metadata": {
            "needs_background": "light"
          }
        }
      ]
    },
    {
      "cell_type": "code",
      "metadata": {
        "colab": {
          "base_uri": "https://localhost:8080/",
          "height": 0
        },
        "id": "D8Yxs3VnbkoQ",
        "outputId": "bd385257-d585-4e56-8150-3a116d3d9814"
      },
      "source": [
        "df.groupby(['red blood cells', 'class'])['red blood cell count'].agg(['count', 'mean', 'median', 'min', 'max'])"
      ],
      "execution_count": 26,
      "outputs": [
        {
          "output_type": "execute_result",
          "data": {
            "text/html": [
              "<div>\n",
              "<style scoped>\n",
              "    .dataframe tbody tr th:only-of-type {\n",
              "        vertical-align: middle;\n",
              "    }\n",
              "\n",
              "    .dataframe tbody tr th {\n",
              "        vertical-align: top;\n",
              "    }\n",
              "\n",
              "    .dataframe thead th {\n",
              "        text-align: right;\n",
              "    }\n",
              "</style>\n",
              "<table border=\"1\" class=\"dataframe\">\n",
              "  <thead>\n",
              "    <tr style=\"text-align: right;\">\n",
              "      <th></th>\n",
              "      <th></th>\n",
              "      <th>count</th>\n",
              "      <th>mean</th>\n",
              "      <th>median</th>\n",
              "      <th>min</th>\n",
              "      <th>max</th>\n",
              "    </tr>\n",
              "    <tr>\n",
              "      <th>red blood cells</th>\n",
              "      <th>class</th>\n",
              "      <th></th>\n",
              "      <th></th>\n",
              "      <th></th>\n",
              "      <th></th>\n",
              "      <th></th>\n",
              "    </tr>\n",
              "  </thead>\n",
              "  <tbody>\n",
              "    <tr>\n",
              "      <th>abnormal</th>\n",
              "      <th>ckd</th>\n",
              "      <td>25</td>\n",
              "      <td>3.832000</td>\n",
              "      <td>3.7</td>\n",
              "      <td>2.5</td>\n",
              "      <td>5.6</td>\n",
              "    </tr>\n",
              "    <tr>\n",
              "      <th rowspan=\"2\" valign=\"top\">normal</th>\n",
              "      <th>ckd</th>\n",
              "      <td>40</td>\n",
              "      <td>3.782500</td>\n",
              "      <td>3.8</td>\n",
              "      <td>2.1</td>\n",
              "      <td>8.0</td>\n",
              "    </tr>\n",
              "    <tr>\n",
              "      <th>notckd</th>\n",
              "      <td>134</td>\n",
              "      <td>5.368657</td>\n",
              "      <td>5.3</td>\n",
              "      <td>4.4</td>\n",
              "      <td>6.5</td>\n",
              "    </tr>\n",
              "  </tbody>\n",
              "</table>\n",
              "</div>"
            ],
            "text/plain": [
              "                        count      mean  median  min  max\n",
              "red blood cells class                                    \n",
              "abnormal        ckd        25  3.832000     3.7  2.5  5.6\n",
              "normal          ckd        40  3.782500     3.8  2.1  8.0\n",
              "                notckd    134  5.368657     5.3  4.4  6.5"
            ]
          },
          "metadata": {},
          "execution_count": 26
        }
      ]
    },
    {
      "cell_type": "code",
      "metadata": {
        "colab": {
          "base_uri": "https://localhost:8080/",
          "height": 0
        },
        "id": "pNShlnKZcNcK",
        "outputId": "1eb1023d-c7a7-400b-f373-5d18a1fee891"
      },
      "source": [
        "px.violin(df, y='red blood cell count', x='class', color='class')"
      ],
      "execution_count": 27,
      "outputs": [
        {
          "output_type": "display_data",
          "data": {
            "text/html": [
              "<html>\n",
              "<head><meta charset=\"utf-8\" /></head>\n",
              "<body>\n",
              "    <div>\n",
              "            <script src=\"https://cdnjs.cloudflare.com/ajax/libs/mathjax/2.7.5/MathJax.js?config=TeX-AMS-MML_SVG\"></script><script type=\"text/javascript\">if (window.MathJax) {MathJax.Hub.Config({SVG: {font: \"STIX-Web\"}});}</script>\n",
              "                <script type=\"text/javascript\">window.PlotlyConfig = {MathJaxConfig: 'local'};</script>\n",
              "        <script src=\"https://cdn.plot.ly/plotly-latest.min.js\"></script>    \n",
              "            <div id=\"01b4e211-4e51-41a3-a519-2a9b018a8a0f\" class=\"plotly-graph-div\" style=\"height:525px; width:100%;\"></div>\n",
              "            <script type=\"text/javascript\">\n",
              "                \n",
              "                    window.PLOTLYENV=window.PLOTLYENV || {};\n",
              "                    \n",
              "                if (document.getElementById(\"01b4e211-4e51-41a3-a519-2a9b018a8a0f\")) {\n",
              "                    Plotly.newPlot(\n",
              "                        '01b4e211-4e51-41a3-a519-2a9b018a8a0f',\n",
              "                        [{\"alignmentgroup\": \"True\", \"box\": {\"visible\": false}, \"hoverlabel\": {\"namelength\": 0}, \"hovertemplate\": \"class=%{x}<br>red blood cell count=%{y}\", \"legendgroup\": \"class=ckd\", \"marker\": {\"color\": \"#636efa\"}, \"name\": \"class=ckd\", \"offsetgroup\": \"class=ckd\", \"orientation\": \"v\", \"scalegroup\": \"True\", \"showlegend\": true, \"type\": \"violin\", \"x\": [\"ckd\", \"ckd\", \"ckd\", \"ckd\", \"ckd\", \"ckd\", \"ckd\", \"ckd\", \"ckd\", \"ckd\", \"ckd\", \"ckd\", \"ckd\", \"ckd\", \"ckd\", \"ckd\", \"ckd\", \"ckd\", \"ckd\", \"ckd\", \"ckd\", \"ckd\", \"ckd\", \"ckd\", \"ckd\", \"ckd\", \"ckd\", \"ckd\", \"ckd\", \"ckd\", \"ckd\", \"ckd\", \"ckd\", \"ckd\", \"ckd\", \"ckd\", \"ckd\", \"ckd\", \"ckd\", \"ckd\", \"ckd\", \"ckd\", \"ckd\", \"ckd\", \"ckd\", \"ckd\", \"ckd\", \"ckd\", \"ckd\", \"ckd\", \"ckd\", \"ckd\", \"ckd\", \"ckd\", \"ckd\", \"ckd\", \"ckd\", \"ckd\", \"ckd\", \"ckd\", \"ckd\", \"ckd\", \"ckd\", \"ckd\", \"ckd\", \"ckd\", \"ckd\", \"ckd\", \"ckd\", \"ckd\", \"ckd\", \"ckd\", \"ckd\", \"ckd\", \"ckd\", \"ckd\", \"ckd\", \"ckd\", \"ckd\", \"ckd\", \"ckd\", \"ckd\", \"ckd\", \"ckd\", \"ckd\", \"ckd\", \"ckd\", \"ckd\", \"ckd\", \"ckd\", \"ckd\", \"ckd\", \"ckd\", \"ckd\", \"ckd\", \"ckd\", \"ckd\", \"ckd\", \"ckd\", \"ckd\", \"ckd\", \"ckd\", \"ckd\", \"ckd\", \"ckd\", \"ckd\", \"ckd\", \"ckd\", \"ckd\", \"ckd\", \"ckd\", \"ckd\", \"ckd\", \"ckd\", \"ckd\", \"ckd\", \"ckd\", \"ckd\", \"ckd\", \"ckd\", \"ckd\", \"ckd\", \"ckd\", \"ckd\", \"ckd\", \"ckd\", \"ckd\", \"ckd\", \"ckd\", \"ckd\", \"ckd\", \"ckd\", \"ckd\", \"ckd\", \"ckd\", \"ckd\", \"ckd\", \"ckd\", \"ckd\", \"ckd\", \"ckd\", \"ckd\", \"ckd\", \"ckd\", \"ckd\", \"ckd\", \"ckd\", \"ckd\", \"ckd\", \"ckd\", \"ckd\", \"ckd\", \"ckd\", \"ckd\", \"ckd\", \"ckd\", \"ckd\", \"ckd\", \"ckd\", \"ckd\", \"ckd\", \"ckd\", \"ckd\", \"ckd\", \"ckd\", \"ckd\", \"ckd\", \"ckd\", \"ckd\", \"ckd\", \"ckd\", \"ckd\", \"ckd\", \"ckd\", \"ckd\", \"ckd\", \"ckd\", \"ckd\", \"ckd\", \"ckd\", \"ckd\", \"ckd\", \"ckd\", \"ckd\", \"ckd\", \"ckd\", \"ckd\", \"ckd\", \"ckd\", \"ckd\", \"ckd\", \"ckd\", \"ckd\", \"ckd\", \"ckd\", \"ckd\", \"ckd\", \"ckd\", \"ckd\", \"ckd\", \"ckd\", \"ckd\", \"ckd\", \"ckd\", \"ckd\", \"ckd\", \"ckd\", \"ckd\", \"ckd\", \"ckd\", \"ckd\", \"ckd\", \"ckd\", \"ckd\", \"ckd\", \"ckd\", \"ckd\", \"ckd\", \"ckd\", \"ckd\", \"ckd\", \"ckd\", \"ckd\", \"ckd\", \"ckd\", \"ckd\", \"ckd\", \"ckd\", \"ckd\", \"ckd\", \"ckd\", \"ckd\", \"ckd\", \"ckd\", \"ckd\", \"ckd\", \"ckd\", \"ckd\", \"ckd\", \"ckd\", \"ckd\", \"ckd\", \"ckd\", \"ckd\", \"ckd\", \"ckd\", \"ckd\", \"ckd\", \"ckd\", \"ckd\"], \"x0\": \" \", \"xaxis\": \"x\", \"y\": [5.2, null, null, 3.9, 4.6, 4.4, null, 5.0, 4.0, 3.7, null, 3.8, 3.4, null, 2.6, 2.8, null, null, 4.3, 3.7, 3.2, 3.6, 3.4, null, 4.6, 3.7, 4.0, 4.1, null, null, null, 4.0, 4.0, null, null, 4.9, null, 2.5, null, 4.2, 4.1, null, 4.5, 3.1, null, null, 4.7, null, 3.5, 3.5, 3.8, null, 3.7, 4.7, 4.2, null, 3.4, null, 4.3, null, null, null, 3.8, null, null, null, null, null, null, 6.0, 5.2, 3.2, null, null, 3.4, null, 4.0, 3.7, null, 5.0, 3.8, 3.7, null, null, 2.1, null, null, 5.0, 4.7, null, 4.2, 5.6, 3.6, 3.2, 3.9, null, null, 4.0, 2.3, 4.2, null, 3.9, null, 4.2, null, 5.2, null, 4.4, 4.2, null, 4.7, 3.9, null, null, null, 4.3, null, 4.4, null, null, null, null, null, null, 3.6, null, 4.5, 4.3, 2.9, null, 2.7, null, 2.7, 8.0, 3.8, null, null, null, null, null, null, null, null, null, 4.1, 3.3, null, 3.0, null, null, null, null, null, 2.9, 3.0, null, null, 3.9, null, 4.3, 2.4, 4.8, null, 3.2, 5.4, null, null, null, null, null, 4.4, 3.1, 4.9, null, 4.6, 3.4, 3.9, null, null, null, null, 3.7, null, null, 3.6, null, null, null, null, 3.4, 4.8, 3.4, null, 2.8, null, null, 3.5, 3.0, 3.9, 3.2, 3.9, null, null, null, null, null, null, 4.6, 4.9, null, 3.9, null, 3.4, 3.7, 5.2, null, null, 4.3, null, 3.3, null, null, null, 4.6, null, 4.5, 3.4, 3.8, null, 3.8, null, null, null, null, 5.2, null, null, null, null, null, 4.1, 3.9, 3.3, 6.1, 4.6, 2.6, 2.5, null, 4.1, 2.1], \"y0\": \" \", \"yaxis\": \"y\"}, {\"alignmentgroup\": \"True\", \"box\": {\"visible\": false}, \"hoverlabel\": {\"namelength\": 0}, \"hovertemplate\": \"class=%{x}<br>red blood cell count=%{y}\", \"legendgroup\": \"class=notckd\", \"marker\": {\"color\": \"#EF553B\"}, \"name\": \"class=notckd\", \"offsetgroup\": \"class=notckd\", \"orientation\": \"v\", \"scalegroup\": \"True\", \"showlegend\": true, \"type\": \"violin\", \"x\": [\"notckd\", \"notckd\", \"notckd\", \"notckd\", \"notckd\", \"notckd\", \"notckd\", \"notckd\", \"notckd\", \"notckd\", \"notckd\", \"notckd\", \"notckd\", \"notckd\", \"notckd\", \"notckd\", \"notckd\", \"notckd\", \"notckd\", \"notckd\", \"notckd\", \"notckd\", \"notckd\", \"notckd\", \"notckd\", \"notckd\", \"notckd\", \"notckd\", \"notckd\", \"notckd\", \"notckd\", \"notckd\", \"notckd\", \"notckd\", \"notckd\", \"notckd\", \"notckd\", \"notckd\", \"notckd\", \"notckd\", \"notckd\", \"notckd\", \"notckd\", \"notckd\", \"notckd\", \"notckd\", \"notckd\", \"notckd\", \"notckd\", \"notckd\", \"notckd\", \"notckd\", \"notckd\", \"notckd\", \"notckd\", \"notckd\", \"notckd\", \"notckd\", \"notckd\", \"notckd\", \"notckd\", \"notckd\", \"notckd\", \"notckd\", \"notckd\", \"notckd\", \"notckd\", \"notckd\", \"notckd\", \"notckd\", \"notckd\", \"notckd\", \"notckd\", \"notckd\", \"notckd\", \"notckd\", \"notckd\", \"notckd\", \"notckd\", \"notckd\", \"notckd\", \"notckd\", \"notckd\", \"notckd\", \"notckd\", \"notckd\", \"notckd\", \"notckd\", \"notckd\", \"notckd\", \"notckd\", \"notckd\", \"notckd\", \"notckd\", \"notckd\", \"notckd\", \"notckd\", \"notckd\", \"notckd\", \"notckd\", \"notckd\", \"notckd\", \"notckd\", \"notckd\", \"notckd\", \"notckd\", \"notckd\", \"notckd\", \"notckd\", \"notckd\", \"notckd\", \"notckd\", \"notckd\", \"notckd\", \"notckd\", \"notckd\", \"notckd\", \"notckd\", \"notckd\", \"notckd\", \"notckd\", \"notckd\", \"notckd\", \"notckd\", \"notckd\", \"notckd\", \"notckd\", \"notckd\", \"notckd\", \"notckd\", \"notckd\", \"notckd\", \"notckd\", \"notckd\", \"notckd\", \"notckd\", \"notckd\", \"notckd\", \"notckd\", \"notckd\", \"notckd\", \"notckd\", \"notckd\", \"notckd\", \"notckd\", \"notckd\", \"notckd\", \"notckd\", \"notckd\", \"notckd\"], \"x0\": \" \", \"xaxis\": \"x\", \"y\": [4.5, 5.0, 4.7, 6.2, 5.2, 6.3, 5.1, 5.8, 5.5, 5.2, 5.3, 4.9, 5.4, 5.2, 4.5, 5.0, 5.3, 4.8, 4.9, 5.3, 5.0, 4.5, 5.5, null, null, 4.6, 5.5, 4.8, 6.4, 5.6, 5.2, 6.0, 4.8, 5.7, 6.0, 5.9, 6.0, null, 5.1, 5.3, 5.9, 5.7, 5.0, 5.4, 5.8, 6.5, 5.9, 5.2, 4.9, 4.7, 5.8, 5.0, null, 6.1, 4.5, 5.2, 5.7, 4.5, 4.9, 5.9, 5.4, 5.6, 6.1, 4.8, 4.7, 4.4, 5.2, 4.9, 5.3, null, 6.2, 4.8, 4.9, 4.5, null, 6.5, 5.2, 5.8, 6.5, 5.1, null, 4.5, 6.1, 5.5, 4.5, 5.6, 5.2, 6.2, 4.5, 4.9, 5.9, 4.7, 6.3, 5.7, 4.7, 6.4, 5.8, 5.5, 6.4, 6.1, 4.5, 4.7, 5.2, 4.5, 5.1, 4.6, 6.1, 4.9, 5.6, 4.5, 6.2, 5.8, 4.8, 5.2, 4.7, 6.3, 5.3, 6.1, 5.9, 4.8, 5.4, 5.0, 5.5, 4.9, 6.4, 5.6, 5.2, 4.8, 5.5, 5.7, 4.9, 5.9, 6.5, 5.0, 4.5, 5.1, 6.5, 5.2, 6.4, 5.8, 5.3, 6.3, 5.5, 5.4, 4.6, 4.9, 6.2, 5.4, 5.9, 6.1], \"y0\": \" \", \"yaxis\": \"y\"}],\n",
              "                        {\"legend\": {\"tracegroupgap\": 0}, \"margin\": {\"t\": 60}, \"template\": {\"data\": {\"bar\": [{\"error_x\": {\"color\": \"#2a3f5f\"}, \"error_y\": {\"color\": \"#2a3f5f\"}, \"marker\": {\"line\": {\"color\": \"#E5ECF6\", \"width\": 0.5}}, \"type\": \"bar\"}], \"barpolar\": [{\"marker\": {\"line\": {\"color\": \"#E5ECF6\", \"width\": 0.5}}, \"type\": \"barpolar\"}], \"carpet\": [{\"aaxis\": {\"endlinecolor\": \"#2a3f5f\", \"gridcolor\": \"white\", \"linecolor\": \"white\", \"minorgridcolor\": \"white\", \"startlinecolor\": \"#2a3f5f\"}, \"baxis\": {\"endlinecolor\": \"#2a3f5f\", \"gridcolor\": \"white\", \"linecolor\": \"white\", \"minorgridcolor\": \"white\", \"startlinecolor\": \"#2a3f5f\"}, \"type\": \"carpet\"}], \"choropleth\": [{\"colorbar\": {\"outlinewidth\": 0, \"ticks\": \"\"}, \"type\": \"choropleth\"}], \"contour\": [{\"colorbar\": {\"outlinewidth\": 0, \"ticks\": \"\"}, \"colorscale\": [[0.0, \"#0d0887\"], [0.1111111111111111, \"#46039f\"], [0.2222222222222222, \"#7201a8\"], [0.3333333333333333, \"#9c179e\"], [0.4444444444444444, \"#bd3786\"], [0.5555555555555556, \"#d8576b\"], [0.6666666666666666, \"#ed7953\"], [0.7777777777777778, \"#fb9f3a\"], [0.8888888888888888, \"#fdca26\"], [1.0, \"#f0f921\"]], \"type\": \"contour\"}], \"contourcarpet\": [{\"colorbar\": {\"outlinewidth\": 0, \"ticks\": \"\"}, \"type\": \"contourcarpet\"}], \"heatmap\": [{\"colorbar\": {\"outlinewidth\": 0, \"ticks\": \"\"}, \"colorscale\": [[0.0, \"#0d0887\"], [0.1111111111111111, \"#46039f\"], [0.2222222222222222, \"#7201a8\"], [0.3333333333333333, \"#9c179e\"], [0.4444444444444444, \"#bd3786\"], [0.5555555555555556, \"#d8576b\"], [0.6666666666666666, \"#ed7953\"], [0.7777777777777778, \"#fb9f3a\"], [0.8888888888888888, \"#fdca26\"], [1.0, \"#f0f921\"]], \"type\": \"heatmap\"}], \"heatmapgl\": [{\"colorbar\": {\"outlinewidth\": 0, \"ticks\": \"\"}, \"colorscale\": [[0.0, \"#0d0887\"], [0.1111111111111111, \"#46039f\"], [0.2222222222222222, \"#7201a8\"], [0.3333333333333333, \"#9c179e\"], [0.4444444444444444, \"#bd3786\"], [0.5555555555555556, \"#d8576b\"], [0.6666666666666666, \"#ed7953\"], [0.7777777777777778, \"#fb9f3a\"], [0.8888888888888888, \"#fdca26\"], [1.0, \"#f0f921\"]], \"type\": \"heatmapgl\"}], \"histogram\": [{\"marker\": {\"colorbar\": {\"outlinewidth\": 0, \"ticks\": \"\"}}, \"type\": \"histogram\"}], \"histogram2d\": [{\"colorbar\": {\"outlinewidth\": 0, \"ticks\": \"\"}, \"colorscale\": [[0.0, \"#0d0887\"], [0.1111111111111111, \"#46039f\"], [0.2222222222222222, \"#7201a8\"], [0.3333333333333333, \"#9c179e\"], [0.4444444444444444, \"#bd3786\"], [0.5555555555555556, \"#d8576b\"], [0.6666666666666666, \"#ed7953\"], [0.7777777777777778, \"#fb9f3a\"], [0.8888888888888888, \"#fdca26\"], [1.0, \"#f0f921\"]], \"type\": \"histogram2d\"}], \"histogram2dcontour\": [{\"colorbar\": {\"outlinewidth\": 0, \"ticks\": \"\"}, \"colorscale\": [[0.0, \"#0d0887\"], [0.1111111111111111, \"#46039f\"], [0.2222222222222222, \"#7201a8\"], [0.3333333333333333, \"#9c179e\"], [0.4444444444444444, \"#bd3786\"], [0.5555555555555556, \"#d8576b\"], [0.6666666666666666, \"#ed7953\"], [0.7777777777777778, \"#fb9f3a\"], [0.8888888888888888, \"#fdca26\"], [1.0, \"#f0f921\"]], \"type\": \"histogram2dcontour\"}], \"mesh3d\": [{\"colorbar\": {\"outlinewidth\": 0, \"ticks\": \"\"}, \"type\": \"mesh3d\"}], \"parcoords\": [{\"line\": {\"colorbar\": {\"outlinewidth\": 0, \"ticks\": \"\"}}, \"type\": \"parcoords\"}], \"pie\": [{\"automargin\": true, \"type\": \"pie\"}], \"scatter\": [{\"marker\": {\"colorbar\": {\"outlinewidth\": 0, \"ticks\": \"\"}}, \"type\": \"scatter\"}], \"scatter3d\": [{\"line\": {\"colorbar\": {\"outlinewidth\": 0, \"ticks\": \"\"}}, \"marker\": {\"colorbar\": {\"outlinewidth\": 0, \"ticks\": \"\"}}, \"type\": \"scatter3d\"}], \"scattercarpet\": [{\"marker\": {\"colorbar\": {\"outlinewidth\": 0, \"ticks\": \"\"}}, \"type\": \"scattercarpet\"}], \"scattergeo\": [{\"marker\": {\"colorbar\": {\"outlinewidth\": 0, \"ticks\": \"\"}}, \"type\": \"scattergeo\"}], \"scattergl\": [{\"marker\": {\"colorbar\": {\"outlinewidth\": 0, \"ticks\": \"\"}}, \"type\": \"scattergl\"}], \"scattermapbox\": [{\"marker\": {\"colorbar\": {\"outlinewidth\": 0, \"ticks\": \"\"}}, \"type\": \"scattermapbox\"}], \"scatterpolar\": [{\"marker\": {\"colorbar\": {\"outlinewidth\": 0, \"ticks\": \"\"}}, \"type\": \"scatterpolar\"}], \"scatterpolargl\": [{\"marker\": {\"colorbar\": {\"outlinewidth\": 0, \"ticks\": \"\"}}, \"type\": \"scatterpolargl\"}], \"scatterternary\": [{\"marker\": {\"colorbar\": {\"outlinewidth\": 0, \"ticks\": \"\"}}, \"type\": \"scatterternary\"}], \"surface\": [{\"colorbar\": {\"outlinewidth\": 0, \"ticks\": \"\"}, \"colorscale\": [[0.0, \"#0d0887\"], [0.1111111111111111, \"#46039f\"], [0.2222222222222222, \"#7201a8\"], [0.3333333333333333, \"#9c179e\"], [0.4444444444444444, \"#bd3786\"], [0.5555555555555556, \"#d8576b\"], [0.6666666666666666, \"#ed7953\"], [0.7777777777777778, \"#fb9f3a\"], [0.8888888888888888, \"#fdca26\"], [1.0, \"#f0f921\"]], \"type\": \"surface\"}], \"table\": [{\"cells\": {\"fill\": {\"color\": \"#EBF0F8\"}, \"line\": {\"color\": \"white\"}}, \"header\": {\"fill\": {\"color\": \"#C8D4E3\"}, \"line\": {\"color\": \"white\"}}, \"type\": \"table\"}]}, \"layout\": {\"annotationdefaults\": {\"arrowcolor\": \"#2a3f5f\", \"arrowhead\": 0, \"arrowwidth\": 1}, \"coloraxis\": {\"colorbar\": {\"outlinewidth\": 0, \"ticks\": \"\"}}, \"colorscale\": {\"diverging\": [[0, \"#8e0152\"], [0.1, \"#c51b7d\"], [0.2, \"#de77ae\"], [0.3, \"#f1b6da\"], [0.4, \"#fde0ef\"], [0.5, \"#f7f7f7\"], [0.6, \"#e6f5d0\"], [0.7, \"#b8e186\"], [0.8, \"#7fbc41\"], [0.9, \"#4d9221\"], [1, \"#276419\"]], \"sequential\": [[0.0, \"#0d0887\"], [0.1111111111111111, \"#46039f\"], [0.2222222222222222, \"#7201a8\"], [0.3333333333333333, \"#9c179e\"], [0.4444444444444444, \"#bd3786\"], [0.5555555555555556, \"#d8576b\"], [0.6666666666666666, \"#ed7953\"], [0.7777777777777778, \"#fb9f3a\"], [0.8888888888888888, \"#fdca26\"], [1.0, \"#f0f921\"]], \"sequentialminus\": [[0.0, \"#0d0887\"], [0.1111111111111111, \"#46039f\"], [0.2222222222222222, \"#7201a8\"], [0.3333333333333333, \"#9c179e\"], [0.4444444444444444, \"#bd3786\"], [0.5555555555555556, \"#d8576b\"], [0.6666666666666666, \"#ed7953\"], [0.7777777777777778, \"#fb9f3a\"], [0.8888888888888888, \"#fdca26\"], [1.0, \"#f0f921\"]]}, \"colorway\": [\"#636efa\", \"#EF553B\", \"#00cc96\", \"#ab63fa\", \"#FFA15A\", \"#19d3f3\", \"#FF6692\", \"#B6E880\", \"#FF97FF\", \"#FECB52\"], \"font\": {\"color\": \"#2a3f5f\"}, \"geo\": {\"bgcolor\": \"white\", \"lakecolor\": \"white\", \"landcolor\": \"#E5ECF6\", \"showlakes\": true, \"showland\": true, \"subunitcolor\": \"white\"}, \"hoverlabel\": {\"align\": \"left\"}, \"hovermode\": \"closest\", \"mapbox\": {\"style\": \"light\"}, \"paper_bgcolor\": \"white\", \"plot_bgcolor\": \"#E5ECF6\", \"polar\": {\"angularaxis\": {\"gridcolor\": \"white\", \"linecolor\": \"white\", \"ticks\": \"\"}, \"bgcolor\": \"#E5ECF6\", \"radialaxis\": {\"gridcolor\": \"white\", \"linecolor\": \"white\", \"ticks\": \"\"}}, \"scene\": {\"xaxis\": {\"backgroundcolor\": \"#E5ECF6\", \"gridcolor\": \"white\", \"gridwidth\": 2, \"linecolor\": \"white\", \"showbackground\": true, \"ticks\": \"\", \"zerolinecolor\": \"white\"}, \"yaxis\": {\"backgroundcolor\": \"#E5ECF6\", \"gridcolor\": \"white\", \"gridwidth\": 2, \"linecolor\": \"white\", \"showbackground\": true, \"ticks\": \"\", \"zerolinecolor\": \"white\"}, \"zaxis\": {\"backgroundcolor\": \"#E5ECF6\", \"gridcolor\": \"white\", \"gridwidth\": 2, \"linecolor\": \"white\", \"showbackground\": true, \"ticks\": \"\", \"zerolinecolor\": \"white\"}}, \"shapedefaults\": {\"line\": {\"color\": \"#2a3f5f\"}}, \"ternary\": {\"aaxis\": {\"gridcolor\": \"white\", \"linecolor\": \"white\", \"ticks\": \"\"}, \"baxis\": {\"gridcolor\": \"white\", \"linecolor\": \"white\", \"ticks\": \"\"}, \"bgcolor\": \"#E5ECF6\", \"caxis\": {\"gridcolor\": \"white\", \"linecolor\": \"white\", \"ticks\": \"\"}}, \"title\": {\"x\": 0.05}, \"xaxis\": {\"automargin\": true, \"gridcolor\": \"white\", \"linecolor\": \"white\", \"ticks\": \"\", \"title\": {\"standoff\": 15}, \"zerolinecolor\": \"white\", \"zerolinewidth\": 2}, \"yaxis\": {\"automargin\": true, \"gridcolor\": \"white\", \"linecolor\": \"white\", \"ticks\": \"\", \"title\": {\"standoff\": 15}, \"zerolinecolor\": \"white\", \"zerolinewidth\": 2}}}, \"violinmode\": \"group\", \"xaxis\": {\"anchor\": \"y\", \"categoryarray\": [\"ckd\", \"notckd\"], \"categoryorder\": \"array\", \"domain\": [0.0, 1.0], \"title\": {\"text\": \"class\"}}, \"yaxis\": {\"anchor\": \"x\", \"domain\": [0.0, 1.0], \"title\": {\"text\": \"red blood cell count\"}}},\n",
              "                        {\"responsive\": true}\n",
              "                    ).then(function(){\n",
              "                            \n",
              "var gd = document.getElementById('01b4e211-4e51-41a3-a519-2a9b018a8a0f');\n",
              "var x = new MutationObserver(function (mutations, observer) {{\n",
              "        var display = window.getComputedStyle(gd).display;\n",
              "        if (!display || display === 'none') {{\n",
              "            console.log([gd, 'removed!']);\n",
              "            Plotly.purge(gd);\n",
              "            observer.disconnect();\n",
              "        }}\n",
              "}});\n",
              "\n",
              "// Listen for the removal of the full notebook cells\n",
              "var notebookContainer = gd.closest('#notebook-container');\n",
              "if (notebookContainer) {{\n",
              "    x.observe(notebookContainer, {childList: true});\n",
              "}}\n",
              "\n",
              "// Listen for the clearing of the current output cell\n",
              "var outputEl = gd.closest('.output');\n",
              "if (outputEl) {{\n",
              "    x.observe(outputEl, {childList: true});\n",
              "}}\n",
              "\n",
              "                        })\n",
              "                };\n",
              "                \n",
              "            </script>\n",
              "        </div>\n",
              "</body>\n",
              "</html>"
            ]
          },
          "metadata": {}
        }
      ]
    },
    {
      "cell_type": "code",
      "metadata": {
        "colab": {
          "base_uri": "https://localhost:8080/",
          "height": 0
        },
        "id": "NiUfn32Vdhww",
        "outputId": "81a60f20-92b6-4984-99e6-2e96758a3240"
      },
      "source": [
        "px.scatter(df, x='haemoglobin', y='packed cell volume')"
      ],
      "execution_count": 28,
      "outputs": [
        {
          "output_type": "display_data",
          "data": {
            "text/html": [
              "<html>\n",
              "<head><meta charset=\"utf-8\" /></head>\n",
              "<body>\n",
              "    <div>\n",
              "            <script src=\"https://cdnjs.cloudflare.com/ajax/libs/mathjax/2.7.5/MathJax.js?config=TeX-AMS-MML_SVG\"></script><script type=\"text/javascript\">if (window.MathJax) {MathJax.Hub.Config({SVG: {font: \"STIX-Web\"}});}</script>\n",
              "                <script type=\"text/javascript\">window.PlotlyConfig = {MathJaxConfig: 'local'};</script>\n",
              "        <script src=\"https://cdn.plot.ly/plotly-latest.min.js\"></script>    \n",
              "            <div id=\"1de41607-6ab5-44b8-bdb0-c0c74cc48fda\" class=\"plotly-graph-div\" style=\"height:525px; width:100%;\"></div>\n",
              "            <script type=\"text/javascript\">\n",
              "                \n",
              "                    window.PLOTLYENV=window.PLOTLYENV || {};\n",
              "                    \n",
              "                if (document.getElementById(\"1de41607-6ab5-44b8-bdb0-c0c74cc48fda\")) {\n",
              "                    Plotly.newPlot(\n",
              "                        '1de41607-6ab5-44b8-bdb0-c0c74cc48fda',\n",
              "                        [{\"hoverlabel\": {\"namelength\": 0}, \"hovertemplate\": \"haemoglobin=%{x}<br>packed cell volume=%{y}\", \"legendgroup\": \"\", \"marker\": {\"color\": \"#636efa\", \"symbol\": \"circle\"}, \"mode\": \"markers\", \"name\": \"\", \"showlegend\": false, \"type\": \"scatter\", \"x\": [15.4, 11.3, 9.6, 11.2, 11.6, 12.2, 12.4, 12.4, 10.8, 9.5, 9.4, 10.8, 9.7, 9.8, 5.6, 7.6, 12.6, 12.1, 12.7, 10.3, 7.7, 10.9, 9.8, null, 11.1, 9.9, 11.6, 12.5, null, 12.9, null, 10.1, 11.3, 10.1, null, 12.0, 10.3, 9.7, 12.5, 13.0, 11.1, null, 9.7, 7.9, 9.7, 9.3, 12.4, 15.0, 10.0, 9.7, 8.6, 10.3, 10.9, 13.6, 13.0, 9.5, 10.2, null, 10.5, 6.6, null, null, 11.0, 7.5, 9.8, 15.0, null, null, 10.9, 15.6, 15.2, 9.8, 10.3, 4.8, 9.1, 8.1, 10.3, 11.9, 10.1, 13.5, 10.8, 8.3, null, null, 7.1, 9.9, null, 11.1, null, null, 13.0, 16.1, 10.4, 9.2, 11.6, null, 11.2, 10.0, 6.2, 11.2, null, 11.3, 13.9, 10.2, null, 14.1, 6.0, 11.2, 11.8, 11.7, 11.7, 10.0, 10.8, null, 12.1, 12.4, null, 12.5, 11.4, null, 12.6, 15.0, 6.0, 14.0, 9.1, null, 12.0, 11.4, 8.1, 11.1, 8.2, 11.8, 8.6, 12.0, 10.8, 13.2, 9.3, 10.0, null, 11.1, null, 6.1, null, null, 11.1, 8.0, null, 7.9, null, 10.5, 12.3, 9.6, 10.9, 8.3, 8.4, 11.1, null, 12.6, 10.9, 10.4, 10.9, 14.3, 9.8, 9.0, 14.3, null, null, 12.7, 11.0, 8.7, 12.5, 8.7, 10.6, 13.1, 11.0, null, 8.3, 13.2, 9.8, 11.9, 10.3, 10.0, 11.3, null, 11.3, 12.0, null, 10.7, 12.2, 9.5, 9.9, 9.1, null, 5.5, null, 5.8, 8.1, 6.8, 11.2, 8.8, 12.0, 7.9, 8.0, 8.5, 8.8, 12.6, 13.8, 12.0, 12.3, 11.5, 7.3, null, 10.9, 10.9, 13.7, null, 12.8, 12.2, 11.8, 9.8, 11.9, null, null, 13.0, null, 11.5, 7.9, 11.3, null, 9.6, null, 11.5, null, null, 15.0, 7.9, 9.1, 12.7, 9.4, 11.9, 11.4, 10.4, 9.4, 13.4, 12.2, 6.3, 8.6, null, 12.6, 3.1, 15.0, 17.0, 15.9, 15.4, 13.0, 13.6, 14.5, 14.0, 13.9, 16.1, 14.1, 17.0, 15.5, 16.2, 14.4, 14.2, 13.2, 13.9, 16.3, 15.0, 14.3, 13.8, 14.8, null, 14.4, 16.5, 14.0, 15.7, 14.5, 16.3, 13.3, 15.5, 14.6, 16.4, 16.9, 16.0, 14.7, 13.4, 15.9, 16.6, 14.8, 14.9, 16.7, 14.9, 14.3, 15.0, 16.8, 15.8, 13.5, 15.1, 15.0, 16.9, 14.8, 17.0, 13.1, 17.1, 15.2, 13.6, 13.9, 17.2, 13.2, 13.7, 15.3, 17.3, 15.6, 13.8, 15.4, 15.0, 17.4, null, 15.7, 13.9, 16.0, 15.9, null, 14.0, 15.8, 13.4, null, 14.1, null, 13.5, 15.3, 17.7, 15.4, 14.2, 15.2, 14.0, 17.8, 13.3, 14.3, 13.4, 15.0, 16.2, 14.4, 13.5, 15.5, 17.8, 13.6, 14.5, 16.1, 17.5, 15.0, 13.6, 14.6, 15.0, 17.1, 13.6, 13.0, 17.2, 14.7, 13.7, 15.0, 17.8, 14.8, null, 15.0, 17.4, 14.9, 13.6, 16.2, 17.6, 15.0, 13.7, 16.3, 15.1, 16.4, 13.8, 15.2, 16.1, 15.3, 16.6, 16.8, 13.9, 15.4, 16.5, 16.4, 16.7, 15.5, 17.0, 15.0, 15.6, 14.8, 13.0, 14.1, 15.7, 16.5, 15.8, 14.2, 15.8], \"xaxis\": \"x\", \"y\": [44.0, 38.0, 31.0, 32.0, 35.0, 39.0, 36.0, 44.0, 33.0, 29.0, 28.0, 32.0, 28.0, null, 16.0, 24.0, null, null, 37.0, 30.0, 24.0, 32.0, 32.0, null, 39.0, 29.0, 35.0, 37.0, null, 38.0, null, 30.0, 34.0, 29.0, null, 36.0, 32.0, 28.0, null, 40.0, 32.0, null, 33.0, 24.0, 28.0, null, 37.0, 45.0, 29.0, 29.0, 28.0, 33.0, 34.0, 40.0, 40.0, 28.0, 30.0, null, 33.0, null, null, null, 33.0, 27.0, null, 48.0, null, null, 37.0, 52.0, 44.0, 28.0, null, 14.0, 29.0, null, 36.0, 34.0, 30.0, 40.0, 31.0, 29.0, null, null, 22.0, null, null, 32.0, null, null, 40.0, 52.0, 33.0, 30.0, 36.0, null, 36.0, 32.0, 18.0, 32.0, null, 33.0, 52.0, 36.0, null, 42.0, 17.0, 34.0, 37.0, null, 34.0, 32.0, 33.0, null, null, 44.0, null, 37.0, null, null, null, 46.0, null, 42.0, 28.0, null, 37.0, 35.0, 23.0, null, 22.0, 36.0, 24.0, 37.0, 33.0, 39.0, null, 29.0, null, 33.0, null, 19.0, null, null, 33.0, 24.0, null, 25.0, null, 32.0, 41.0, 30.0, 32.0, 22.0, 26.0, 36.0, null, 39.0, 31.0, 35.0, 35.0, 42.0, 37.0, 27.0, 40.0, null, null, 42.0, 39.0, 27.0, 33.0, 26.0, 34.0, 41.0, 35.0, null, 23.0, 41.0, 34.0, 39.0, 28.0, 30.0, 35.0, null, 31.0, 34.0, null, 34.0, 38.0, 29.0, 30.0, 26.0, null, 15.0, null, null, 24.0, null, 30.0, 25.0, 37.0, 21.0, 24.0, null, 31.0, 43.0, 41.0, 41.0, 41.0, null, 20.0, null, 31.0, 34.0, 43.0, null, 38.0, 36.0, 34.0, 28.0, 36.0, null, null, 38.0, null, 35.0, 26.0, 36.0, null, 31.0, null, 35.0, null, null, 44.0, 26.0, 25.0, 40.0, 28.0, 39.0, 36.0, 31.0, 28.0, 47.0, 40.0, 19.0, 26.0, null, 37.0, 9.0, 48.0, 52.0, 46.0, 42.0, 49.0, 52.0, 41.0, 46.0, 44.0, 45.0, 45.0, 41.0, 43.0, 45.0, 50.0, 48.0, 41.0, 48.0, 53.0, 48.0, 41.0, 42.0, 42.0, null, 44.0, 43.0, 41.0, 50.0, 44.0, 48.0, 52.0, 41.0, 44.0, 43.0, 52.0, 41.0, 44.0, 43.0, 50.0, 43.0, 52.0, 41.0, 52.0, 48.0, 40.0, 50.0, 41.0, 45.0, 48.0, 52.0, 43.0, 41.0, 48.0, 50.0, 45.0, 41.0, 52.0, 44.0, 48.0, 40.0, 44.0, 45.0, 48.0, 52.0, 41.0, 48.0, 48.0, 40.0, 52.0, null, 44.0, 48.0, 43.0, 45.0, null, 50.0, 41.0, 44.0, 45.0, 48.0, 42.0, 46.0, 44.0, 46.0, 43.0, 48.0, 40.0, 52.0, 44.0, 48.0, 43.0, 41.0, 50.0, 50.0, 42.0, 42.0, 52.0, 43.0, 44.0, 52.0, 43.0, 40.0, 48.0, 51.0, 41.0, 52.0, 47.0, 42.0, 45.0, 53.0, 43.0, 54.0, 40.0, 44.0, 45.0, null, 46.0, 50.0, 45.0, 46.0, 50.0, 51.0, 52.0, 47.0, 40.0, 48.0, 53.0, 49.0, 42.0, 50.0, 54.0, 40.0, 51.0, 49.0, 42.0, 52.0, 43.0, 50.0, 46.0, 52.0, 52.0, 44.0, 46.0, 54.0, 45.0, 47.0, 54.0, 49.0, 51.0, 53.0], \"yaxis\": \"y\"}],\n",
              "                        {\"legend\": {\"tracegroupgap\": 0}, \"margin\": {\"t\": 60}, \"template\": {\"data\": {\"bar\": [{\"error_x\": {\"color\": \"#2a3f5f\"}, \"error_y\": {\"color\": \"#2a3f5f\"}, \"marker\": {\"line\": {\"color\": \"#E5ECF6\", \"width\": 0.5}}, \"type\": \"bar\"}], \"barpolar\": [{\"marker\": {\"line\": {\"color\": \"#E5ECF6\", \"width\": 0.5}}, \"type\": \"barpolar\"}], \"carpet\": [{\"aaxis\": {\"endlinecolor\": \"#2a3f5f\", \"gridcolor\": \"white\", \"linecolor\": \"white\", \"minorgridcolor\": \"white\", \"startlinecolor\": \"#2a3f5f\"}, \"baxis\": {\"endlinecolor\": \"#2a3f5f\", \"gridcolor\": \"white\", \"linecolor\": \"white\", \"minorgridcolor\": \"white\", \"startlinecolor\": \"#2a3f5f\"}, \"type\": \"carpet\"}], \"choropleth\": [{\"colorbar\": {\"outlinewidth\": 0, \"ticks\": \"\"}, \"type\": \"choropleth\"}], \"contour\": [{\"colorbar\": {\"outlinewidth\": 0, \"ticks\": \"\"}, \"colorscale\": [[0.0, \"#0d0887\"], [0.1111111111111111, \"#46039f\"], [0.2222222222222222, \"#7201a8\"], [0.3333333333333333, \"#9c179e\"], [0.4444444444444444, \"#bd3786\"], [0.5555555555555556, \"#d8576b\"], [0.6666666666666666, \"#ed7953\"], [0.7777777777777778, \"#fb9f3a\"], [0.8888888888888888, \"#fdca26\"], [1.0, \"#f0f921\"]], \"type\": \"contour\"}], \"contourcarpet\": [{\"colorbar\": {\"outlinewidth\": 0, \"ticks\": \"\"}, \"type\": \"contourcarpet\"}], \"heatmap\": [{\"colorbar\": {\"outlinewidth\": 0, \"ticks\": \"\"}, \"colorscale\": [[0.0, \"#0d0887\"], [0.1111111111111111, \"#46039f\"], [0.2222222222222222, \"#7201a8\"], [0.3333333333333333, \"#9c179e\"], [0.4444444444444444, \"#bd3786\"], [0.5555555555555556, \"#d8576b\"], [0.6666666666666666, \"#ed7953\"], [0.7777777777777778, \"#fb9f3a\"], [0.8888888888888888, \"#fdca26\"], [1.0, \"#f0f921\"]], \"type\": \"heatmap\"}], \"heatmapgl\": [{\"colorbar\": {\"outlinewidth\": 0, \"ticks\": \"\"}, \"colorscale\": [[0.0, \"#0d0887\"], [0.1111111111111111, \"#46039f\"], [0.2222222222222222, \"#7201a8\"], [0.3333333333333333, \"#9c179e\"], [0.4444444444444444, \"#bd3786\"], [0.5555555555555556, \"#d8576b\"], [0.6666666666666666, \"#ed7953\"], [0.7777777777777778, \"#fb9f3a\"], [0.8888888888888888, \"#fdca26\"], [1.0, \"#f0f921\"]], \"type\": \"heatmapgl\"}], \"histogram\": [{\"marker\": {\"colorbar\": {\"outlinewidth\": 0, \"ticks\": \"\"}}, \"type\": \"histogram\"}], \"histogram2d\": [{\"colorbar\": {\"outlinewidth\": 0, \"ticks\": \"\"}, \"colorscale\": [[0.0, \"#0d0887\"], [0.1111111111111111, \"#46039f\"], [0.2222222222222222, \"#7201a8\"], [0.3333333333333333, \"#9c179e\"], [0.4444444444444444, \"#bd3786\"], [0.5555555555555556, \"#d8576b\"], [0.6666666666666666, \"#ed7953\"], [0.7777777777777778, \"#fb9f3a\"], [0.8888888888888888, \"#fdca26\"], [1.0, \"#f0f921\"]], \"type\": \"histogram2d\"}], \"histogram2dcontour\": [{\"colorbar\": {\"outlinewidth\": 0, \"ticks\": \"\"}, \"colorscale\": [[0.0, \"#0d0887\"], [0.1111111111111111, \"#46039f\"], [0.2222222222222222, \"#7201a8\"], [0.3333333333333333, \"#9c179e\"], [0.4444444444444444, \"#bd3786\"], [0.5555555555555556, \"#d8576b\"], [0.6666666666666666, \"#ed7953\"], [0.7777777777777778, \"#fb9f3a\"], [0.8888888888888888, \"#fdca26\"], [1.0, \"#f0f921\"]], \"type\": \"histogram2dcontour\"}], \"mesh3d\": [{\"colorbar\": {\"outlinewidth\": 0, \"ticks\": \"\"}, \"type\": \"mesh3d\"}], \"parcoords\": [{\"line\": {\"colorbar\": {\"outlinewidth\": 0, \"ticks\": \"\"}}, \"type\": \"parcoords\"}], \"pie\": [{\"automargin\": true, \"type\": \"pie\"}], \"scatter\": [{\"marker\": {\"colorbar\": {\"outlinewidth\": 0, \"ticks\": \"\"}}, \"type\": \"scatter\"}], \"scatter3d\": [{\"line\": {\"colorbar\": {\"outlinewidth\": 0, \"ticks\": \"\"}}, \"marker\": {\"colorbar\": {\"outlinewidth\": 0, \"ticks\": \"\"}}, \"type\": \"scatter3d\"}], \"scattercarpet\": [{\"marker\": {\"colorbar\": {\"outlinewidth\": 0, \"ticks\": \"\"}}, \"type\": \"scattercarpet\"}], \"scattergeo\": [{\"marker\": {\"colorbar\": {\"outlinewidth\": 0, \"ticks\": \"\"}}, \"type\": \"scattergeo\"}], \"scattergl\": [{\"marker\": {\"colorbar\": {\"outlinewidth\": 0, \"ticks\": \"\"}}, \"type\": \"scattergl\"}], \"scattermapbox\": [{\"marker\": {\"colorbar\": {\"outlinewidth\": 0, \"ticks\": \"\"}}, \"type\": \"scattermapbox\"}], \"scatterpolar\": [{\"marker\": {\"colorbar\": {\"outlinewidth\": 0, \"ticks\": \"\"}}, \"type\": \"scatterpolar\"}], \"scatterpolargl\": [{\"marker\": {\"colorbar\": {\"outlinewidth\": 0, \"ticks\": \"\"}}, \"type\": \"scatterpolargl\"}], \"scatterternary\": [{\"marker\": {\"colorbar\": {\"outlinewidth\": 0, \"ticks\": \"\"}}, \"type\": \"scatterternary\"}], \"surface\": [{\"colorbar\": {\"outlinewidth\": 0, \"ticks\": \"\"}, \"colorscale\": [[0.0, \"#0d0887\"], [0.1111111111111111, \"#46039f\"], [0.2222222222222222, \"#7201a8\"], [0.3333333333333333, \"#9c179e\"], [0.4444444444444444, \"#bd3786\"], [0.5555555555555556, \"#d8576b\"], [0.6666666666666666, \"#ed7953\"], [0.7777777777777778, \"#fb9f3a\"], [0.8888888888888888, \"#fdca26\"], [1.0, \"#f0f921\"]], \"type\": \"surface\"}], \"table\": [{\"cells\": {\"fill\": {\"color\": \"#EBF0F8\"}, \"line\": {\"color\": \"white\"}}, \"header\": {\"fill\": {\"color\": \"#C8D4E3\"}, \"line\": {\"color\": \"white\"}}, \"type\": \"table\"}]}, \"layout\": {\"annotationdefaults\": {\"arrowcolor\": \"#2a3f5f\", \"arrowhead\": 0, \"arrowwidth\": 1}, \"coloraxis\": {\"colorbar\": {\"outlinewidth\": 0, \"ticks\": \"\"}}, \"colorscale\": {\"diverging\": [[0, \"#8e0152\"], [0.1, \"#c51b7d\"], [0.2, \"#de77ae\"], [0.3, \"#f1b6da\"], [0.4, \"#fde0ef\"], [0.5, \"#f7f7f7\"], [0.6, \"#e6f5d0\"], [0.7, \"#b8e186\"], [0.8, \"#7fbc41\"], [0.9, \"#4d9221\"], [1, \"#276419\"]], \"sequential\": [[0.0, \"#0d0887\"], [0.1111111111111111, \"#46039f\"], [0.2222222222222222, \"#7201a8\"], [0.3333333333333333, \"#9c179e\"], [0.4444444444444444, \"#bd3786\"], [0.5555555555555556, \"#d8576b\"], [0.6666666666666666, \"#ed7953\"], [0.7777777777777778, \"#fb9f3a\"], [0.8888888888888888, \"#fdca26\"], [1.0, \"#f0f921\"]], \"sequentialminus\": [[0.0, \"#0d0887\"], [0.1111111111111111, \"#46039f\"], [0.2222222222222222, \"#7201a8\"], [0.3333333333333333, \"#9c179e\"], [0.4444444444444444, \"#bd3786\"], [0.5555555555555556, \"#d8576b\"], [0.6666666666666666, \"#ed7953\"], [0.7777777777777778, \"#fb9f3a\"], [0.8888888888888888, \"#fdca26\"], [1.0, \"#f0f921\"]]}, \"colorway\": [\"#636efa\", \"#EF553B\", \"#00cc96\", \"#ab63fa\", \"#FFA15A\", \"#19d3f3\", \"#FF6692\", \"#B6E880\", \"#FF97FF\", \"#FECB52\"], \"font\": {\"color\": \"#2a3f5f\"}, \"geo\": {\"bgcolor\": \"white\", \"lakecolor\": \"white\", \"landcolor\": \"#E5ECF6\", \"showlakes\": true, \"showland\": true, \"subunitcolor\": \"white\"}, \"hoverlabel\": {\"align\": \"left\"}, \"hovermode\": \"closest\", \"mapbox\": {\"style\": \"light\"}, \"paper_bgcolor\": \"white\", \"plot_bgcolor\": \"#E5ECF6\", \"polar\": {\"angularaxis\": {\"gridcolor\": \"white\", \"linecolor\": \"white\", \"ticks\": \"\"}, \"bgcolor\": \"#E5ECF6\", \"radialaxis\": {\"gridcolor\": \"white\", \"linecolor\": \"white\", \"ticks\": \"\"}}, \"scene\": {\"xaxis\": {\"backgroundcolor\": \"#E5ECF6\", \"gridcolor\": \"white\", \"gridwidth\": 2, \"linecolor\": \"white\", \"showbackground\": true, \"ticks\": \"\", \"zerolinecolor\": \"white\"}, \"yaxis\": {\"backgroundcolor\": \"#E5ECF6\", \"gridcolor\": \"white\", \"gridwidth\": 2, \"linecolor\": \"white\", \"showbackground\": true, \"ticks\": \"\", \"zerolinecolor\": \"white\"}, \"zaxis\": {\"backgroundcolor\": \"#E5ECF6\", \"gridcolor\": \"white\", \"gridwidth\": 2, \"linecolor\": \"white\", \"showbackground\": true, \"ticks\": \"\", \"zerolinecolor\": \"white\"}}, \"shapedefaults\": {\"line\": {\"color\": \"#2a3f5f\"}}, \"ternary\": {\"aaxis\": {\"gridcolor\": \"white\", \"linecolor\": \"white\", \"ticks\": \"\"}, \"baxis\": {\"gridcolor\": \"white\", \"linecolor\": \"white\", \"ticks\": \"\"}, \"bgcolor\": \"#E5ECF6\", \"caxis\": {\"gridcolor\": \"white\", \"linecolor\": \"white\", \"ticks\": \"\"}}, \"title\": {\"x\": 0.05}, \"xaxis\": {\"automargin\": true, \"gridcolor\": \"white\", \"linecolor\": \"white\", \"ticks\": \"\", \"title\": {\"standoff\": 15}, \"zerolinecolor\": \"white\", \"zerolinewidth\": 2}, \"yaxis\": {\"automargin\": true, \"gridcolor\": \"white\", \"linecolor\": \"white\", \"ticks\": \"\", \"title\": {\"standoff\": 15}, \"zerolinecolor\": \"white\", \"zerolinewidth\": 2}}}, \"xaxis\": {\"anchor\": \"y\", \"domain\": [0.0, 1.0], \"title\": {\"text\": \"haemoglobin\"}}, \"yaxis\": {\"anchor\": \"x\", \"domain\": [0.0, 1.0], \"title\": {\"text\": \"packed cell volume\"}}},\n",
              "                        {\"responsive\": true}\n",
              "                    ).then(function(){\n",
              "                            \n",
              "var gd = document.getElementById('1de41607-6ab5-44b8-bdb0-c0c74cc48fda');\n",
              "var x = new MutationObserver(function (mutations, observer) {{\n",
              "        var display = window.getComputedStyle(gd).display;\n",
              "        if (!display || display === 'none') {{\n",
              "            console.log([gd, 'removed!']);\n",
              "            Plotly.purge(gd);\n",
              "            observer.disconnect();\n",
              "        }}\n",
              "}});\n",
              "\n",
              "// Listen for the removal of the full notebook cells\n",
              "var notebookContainer = gd.closest('#notebook-container');\n",
              "if (notebookContainer) {{\n",
              "    x.observe(notebookContainer, {childList: true});\n",
              "}}\n",
              "\n",
              "// Listen for the clearing of the current output cell\n",
              "var outputEl = gd.closest('.output');\n",
              "if (outputEl) {{\n",
              "    x.observe(outputEl, {childList: true});\n",
              "}}\n",
              "\n",
              "                        })\n",
              "                };\n",
              "                \n",
              "            </script>\n",
              "        </div>\n",
              "</body>\n",
              "</html>"
            ]
          },
          "metadata": {}
        }
      ]
    },
    {
      "cell_type": "code",
      "metadata": {
        "colab": {
          "base_uri": "https://localhost:8080/",
          "height": 0
        },
        "id": "WNrxii3gePKA",
        "outputId": "5d54a8f4-8604-4c29-e90d-3355568c4934"
      },
      "source": [
        "grid= sns.FacetGrid(df, hue='class', aspect=2)\n",
        "grid.map(sns.kdeplot, 'red blood cell count')\n",
        "grid.add_legend()"
      ],
      "execution_count": 29,
      "outputs": [
        {
          "output_type": "execute_result",
          "data": {
            "text/plain": [
              "<seaborn.axisgrid.FacetGrid at 0x7f5273dec7d0>"
            ]
          },
          "metadata": {},
          "execution_count": 29
        },
        {
          "output_type": "display_data",
          "data": {
            "image/png": "[encoded data removed]",
            "text/plain": [
              "<Figure size 501.875x216 with 1 Axes>"
            ]
          },
          "metadata": {
            "needs_background": "light"
          }
        }
      ]
    },
    {
      "cell_type": "markdown",
      "metadata": {
        "id": "oKJ_wkLNfD46"
      },
      "source": [
        "Automating the Analysis"
      ]
    },
    {
      "cell_type": "code",
      "metadata": {
        "id": "qLCuIE4fewon"
      },
      "source": [
        "def violin(col):\n",
        "  fig= px.violin(df, y=col, x='class', color='class', box=True)\n",
        "  return fig.show()"
      ],
      "execution_count": 30,
      "outputs": []
    },
    {
      "cell_type": "code",
      "metadata": {
        "id": "x1yQRDKWfY6y"
      },
      "source": [
        "def scatters(col1, col2):\n",
        "  fig= px.scatter(df, x=col1, y=col2, color='class')\n",
        "  return fig.show()"
      ],
      "execution_count": 31,
      "outputs": []
    },
    {
      "cell_type": "code",
      "metadata": {
        "id": "iAidSJo3fm9S"
      },
      "source": [
        "def kde_plot(feature):\n",
        "  grid= sns.FacetGrid(df, hue='class', aspect=2)\n",
        "  grid.map(sns.kdeplot, feature)\n",
        "  grid.add_legend()"
      ],
      "execution_count": 32,
      "outputs": []
    },
    {
      "cell_type": "code",
      "metadata": {
        "colab": {
          "base_uri": "https://localhost:8080/",
          "height": 0
        },
        "id": "teMz14Yjf3oE",
        "outputId": "0cd26749-af51-4e75-892a-cc1d17268335"
      },
      "source": [
        "kde_plot('red blood cell count')"
      ],
      "execution_count": 33,
      "outputs": [
        {
          "output_type": "display_data",
          "data": {
            "image/png": "[encoded data removed]",
            "text/plain": [
              "<Figure size 501.875x216 with 1 Axes>"
            ]
          },
          "metadata": {
            "needs_background": "light"
          }
        }
      ]
    },
    {
      "cell_type": "code",
      "metadata": {
        "id": "anjWf1XRf5_F"
      },
      "source": [
        ""
      ],
      "execution_count": 33,
      "outputs": []
    },
    {
      "cell_type": "markdown",
      "metadata": {
        "id": "4OrtxsffgB6k"
      },
      "source": [
        "# Exploratory Data analysis"
      ]
    },
    {
      "cell_type": "code",
      "metadata": {
        "colab": {
          "base_uri": "https://localhost:8080/"
        },
        "id": "WWBmocBKgF7Y",
        "outputId": "58cdc3b4-6d95-4b9d-ff47-89dacb7ce76b"
      },
      "source": [
        "df.columns"
      ],
      "execution_count": 34,
      "outputs": [
        {
          "output_type": "execute_result",
          "data": {
            "text/plain": [
              "Index(['age', 'blood pressure', 'specific gravity', 'albumin', 'sugar',\n",
              "       'red blood cells', ' pus cell', 'pus cell clumps', 'bacteria',\n",
              "       'blood glucose random', 'blood urea', 'serum creatinine', 'sodium',\n",
              "       'potassium', 'haemoglobin', 'packed cell volume',\n",
              "       'white blood cell count', 'red blood cell count', 'ypertension',\n",
              "       'diabetes mellitus', 'coronary artery disease', 'appetite',\n",
              "       'pedal edema', 'anemia', 'class'],\n",
              "      dtype='object')"
            ]
          },
          "metadata": {},
          "execution_count": 34
        }
      ]
    },
    {
      "cell_type": "code",
      "metadata": {
        "colab": {
          "base_uri": "https://localhost:8080/",
          "height": 0
        },
        "id": "xmxm3vPZghnW",
        "outputId": "b17dac8a-5fd9-4d6f-b728-89a1132f437c"
      },
      "source": [
        "kde_plot('red blood cell count')"
      ],
      "execution_count": 35,
      "outputs": [
        {
          "output_type": "display_data",
          "data": {
            "image/png": "[encoded data removed]",
            "text/plain": [
              "<Figure size 501.875x216 with 1 Axes>"
            ]
          },
          "metadata": {
            "needs_background": "light"
          }
        }
      ]
    },
    {
      "cell_type": "markdown",
      "metadata": {
        "id": "5-QK_qxbgo_g"
      },
      "source": [
        "A person with chronic kidney disease usually has a lower RBC count than a person without a chronic kidney disease"
      ]
    },
    {
      "cell_type": "code",
      "metadata": {
        "colab": {
          "base_uri": "https://localhost:8080/",
          "height": 0
        },
        "id": "uPoohXlzgnyV",
        "outputId": "3993dcf8-3cd9-4aee-eb8d-6a83b583901b"
      },
      "source": [
        "kde_plot('haemoglobin')"
      ],
      "execution_count": 36,
      "outputs": [
        {
          "output_type": "display_data",
          "data": {
            "image/png": "[encoded data removed]",
            "text/plain": [
              "<Figure size 501.875x216 with 1 Axes>"
            ]
          },
          "metadata": {
            "needs_background": "light"
          }
        }
      ]
    },
    {
      "cell_type": "markdown",
      "metadata": {
        "id": "TURYZMYYg6Ry"
      },
      "source": [
        "A person with chronic kidney disease usually has lower haemoglobin than a person without a chronic kidney disease"
      ]
    },
    {
      "cell_type": "code",
      "metadata": {
        "colab": {
          "base_uri": "https://localhost:8080/",
          "height": 0
        },
        "id": "UID3xZ6Cg2Nn",
        "outputId": "6c2355d9-835e-4015-afb6-51104ae88ea7"
      },
      "source": [
        "scatters('red blood cell count', 'packed cell volume')"
      ],
      "execution_count": 37,
      "outputs": [
        {
          "output_type": "display_data",
          "data": {
            "text/html": [
              "<html>\n",
              "<head><meta charset=\"utf-8\" /></head>\n",
              "<body>\n",
              "    <div>\n",
              "            <script src=\"https://cdnjs.cloudflare.com/ajax/libs/mathjax/2.7.5/MathJax.js?config=TeX-AMS-MML_SVG\"></script><script type=\"text/javascript\">if (window.MathJax) {MathJax.Hub.Config({SVG: {font: \"STIX-Web\"}});}</script>\n",
              "                <script type=\"text/javascript\">window.PlotlyConfig = {MathJaxConfig: 'local'};</script>\n",
              "        <script src=\"https://cdn.plot.ly/plotly-latest.min.js\"></script>    \n",
              "            <div id=\"e1f21a56-aec8-47ac-925a-b881e7047488\" class=\"plotly-graph-div\" style=\"height:525px; width:100%;\"></div>\n",
              "            <script type=\"text/javascript\">\n",
              "                \n",
              "                    window.PLOTLYENV=window.PLOTLYENV || {};\n",
              "                    \n",
              "                if (document.getElementById(\"e1f21a56-aec8-47ac-925a-b881e7047488\")) {\n",
              "                    Plotly.newPlot(\n",
              "                        'e1f21a56-aec8-47ac-925a-b881e7047488',\n",
              "                        [{\"hoverlabel\": {\"namelength\": 0}, \"hovertemplate\": \"class=ckd<br>red blood cell count=%{x}<br>packed cell volume=%{y}\", \"legendgroup\": \"class=ckd\", \"marker\": {\"color\": \"#636efa\", \"symbol\": \"circle\"}, \"mode\": \"markers\", \"name\": \"class=ckd\", \"showlegend\": true, \"type\": \"scatter\", \"x\": [5.2, null, null, 3.9, 4.6, 4.4, null, 5.0, 4.0, 3.7, null, 3.8, 3.4, null, 2.6, 2.8, null, null, 4.3, 3.7, 3.2, 3.6, 3.4, null, 4.6, 3.7, 4.0, 4.1, null, null, null, 4.0, 4.0, null, null, 4.9, null, 2.5, null, 4.2, 4.1, null, 4.5, 3.1, null, null, 4.7, null, 3.5, 3.5, 3.8, null, 3.7, 4.7, 4.2, null, 3.4, null, 4.3, null, null, null, 3.8, null, null, null, null, null, null, 6.0, 5.2, 3.2, null, null, 3.4, null, 4.0, 3.7, null, 5.0, 3.8, 3.7, null, null, 2.1, null, null, 5.0, 4.7, null, 4.2, 5.6, 3.6, 3.2, 3.9, null, null, 4.0, 2.3, 4.2, null, 3.9, null, 4.2, null, 5.2, null, 4.4, 4.2, null, 4.7, 3.9, null, null, null, 4.3, null, 4.4, null, null, null, null, null, null, 3.6, null, 4.5, 4.3, 2.9, null, 2.7, null, 2.7, 8.0, 3.8, null, null, null, null, null, null, null, null, null, 4.1, 3.3, null, 3.0, null, null, null, null, null, 2.9, 3.0, null, null, 3.9, null, 4.3, 2.4, 4.8, null, 3.2, 5.4, null, null, null, null, null, 4.4, 3.1, 4.9, null, 4.6, 3.4, 3.9, null, null, null, null, 3.7, null, null, 3.6, null, null, null, null, 3.4, 4.8, 3.4, null, 2.8, null, null, 3.5, 3.0, 3.9, 3.2, 3.9, null, null, null, null, null, null, 4.6, 4.9, null, 3.9, null, 3.4, 3.7, 5.2, null, null, 4.3, null, 3.3, null, null, null, 4.6, null, 4.5, 3.4, 3.8, null, 3.8, null, null, null, null, 5.2, null, null, null, null, null, 4.1, 3.9, 3.3, 6.1, 4.6, 2.6, 2.5, null, 4.1, 2.1], \"xaxis\": \"x\", \"y\": [44.0, 38.0, 31.0, 32.0, 35.0, 39.0, 36.0, 44.0, 33.0, 29.0, 28.0, 32.0, 28.0, null, 16.0, 24.0, null, null, 37.0, 30.0, 24.0, 32.0, 32.0, null, 39.0, 29.0, 35.0, 37.0, null, 38.0, null, 30.0, 34.0, 29.0, null, 36.0, 32.0, 28.0, null, 40.0, 32.0, null, 33.0, 24.0, 28.0, null, 37.0, 45.0, 29.0, 29.0, 28.0, 33.0, 34.0, 40.0, 40.0, 28.0, 30.0, null, 33.0, null, null, null, 33.0, 27.0, null, 48.0, null, null, 37.0, 52.0, 44.0, 28.0, null, 14.0, 29.0, null, 36.0, 34.0, 30.0, 40.0, 31.0, 29.0, null, null, 22.0, null, null, 32.0, null, null, 40.0, 52.0, 33.0, 30.0, 36.0, null, 36.0, 32.0, 18.0, 32.0, null, 33.0, 52.0, 36.0, null, 42.0, 17.0, 34.0, 37.0, null, 34.0, 32.0, 33.0, null, null, 44.0, null, 37.0, null, null, null, 46.0, null, 42.0, 28.0, null, 37.0, 35.0, 23.0, null, 22.0, 36.0, 24.0, 37.0, 33.0, 39.0, null, 29.0, null, 33.0, null, 19.0, null, null, 33.0, 24.0, null, 25.0, null, 32.0, 41.0, 30.0, 32.0, 22.0, 26.0, 36.0, null, 39.0, 31.0, 35.0, 35.0, 42.0, 37.0, 27.0, 40.0, null, null, 42.0, 39.0, 27.0, 33.0, 26.0, 34.0, 41.0, 35.0, null, 23.0, 41.0, 34.0, 39.0, 28.0, 30.0, 35.0, null, 31.0, 34.0, null, 34.0, 38.0, 29.0, 30.0, 26.0, null, 15.0, null, null, 24.0, null, 30.0, 25.0, 37.0, 21.0, 24.0, null, 31.0, 43.0, 41.0, 41.0, 41.0, null, 20.0, null, 31.0, 34.0, 43.0, null, 38.0, 36.0, 34.0, 28.0, 36.0, null, null, 38.0, null, 35.0, 26.0, 36.0, null, 31.0, null, 35.0, null, null, 44.0, 26.0, 25.0, 40.0, 28.0, 39.0, 36.0, 31.0, 28.0, 47.0, 40.0, 19.0, 26.0, null, 37.0, 9.0], \"yaxis\": \"y\"}, {\"hoverlabel\": {\"namelength\": 0}, \"hovertemplate\": \"class=notckd<br>red blood cell count=%{x}<br>packed cell volume=%{y}\", \"legendgroup\": \"class=notckd\", \"marker\": {\"color\": \"#EF553B\", \"symbol\": \"circle\"}, \"mode\": \"markers\", \"name\": \"class=notckd\", \"showlegend\": true, \"type\": \"scatter\", \"x\": [4.5, 5.0, 4.7, 6.2, 5.2, 6.3, 5.1, 5.8, 5.5, 5.2, 5.3, 4.9, 5.4, 5.2, 4.5, 5.0, 5.3, 4.8, 4.9, 5.3, 5.0, 4.5, 5.5, null, null, 4.6, 5.5, 4.8, 6.4, 5.6, 5.2, 6.0, 4.8, 5.7, 6.0, 5.9, 6.0, null, 5.1, 5.3, 5.9, 5.7, 5.0, 5.4, 5.8, 6.5, 5.9, 5.2, 4.9, 4.7, 5.8, 5.0, null, 6.1, 4.5, 5.2, 5.7, 4.5, 4.9, 5.9, 5.4, 5.6, 6.1, 4.8, 4.7, 4.4, 5.2, 4.9, 5.3, null, 6.2, 4.8, 4.9, 4.5, null, 6.5, 5.2, 5.8, 6.5, 5.1, null, 4.5, 6.1, 5.5, 4.5, 5.6, 5.2, 6.2, 4.5, 4.9, 5.9, 4.7, 6.3, 5.7, 4.7, 6.4, 5.8, 5.5, 6.4, 6.1, 4.5, 4.7, 5.2, 4.5, 5.1, 4.6, 6.1, 4.9, 5.6, 4.5, 6.2, 5.8, 4.8, 5.2, 4.7, 6.3, 5.3, 6.1, 5.9, 4.8, 5.4, 5.0, 5.5, 4.9, 6.4, 5.6, 5.2, 4.8, 5.5, 5.7, 4.9, 5.9, 6.5, 5.0, 4.5, 5.1, 6.5, 5.2, 6.4, 5.8, 5.3, 6.3, 5.5, 5.4, 4.6, 4.9, 6.2, 5.4, 5.9, 6.1], \"xaxis\": \"x\", \"y\": [48.0, 52.0, 46.0, 42.0, 49.0, 52.0, 41.0, 46.0, 44.0, 45.0, 45.0, 41.0, 43.0, 45.0, 50.0, 48.0, 41.0, 48.0, 53.0, 48.0, 41.0, 42.0, 42.0, null, 44.0, 43.0, 41.0, 50.0, 44.0, 48.0, 52.0, 41.0, 44.0, 43.0, 52.0, 41.0, 44.0, 43.0, 50.0, 43.0, 52.0, 41.0, 52.0, 48.0, 40.0, 50.0, 41.0, 45.0, 48.0, 52.0, 43.0, 41.0, 48.0, 50.0, 45.0, 41.0, 52.0, 44.0, 48.0, 40.0, 44.0, 45.0, 48.0, 52.0, 41.0, 48.0, 48.0, 40.0, 52.0, null, 44.0, 48.0, 43.0, 45.0, null, 50.0, 41.0, 44.0, 45.0, 48.0, 42.0, 46.0, 44.0, 46.0, 43.0, 48.0, 40.0, 52.0, 44.0, 48.0, 43.0, 41.0, 50.0, 50.0, 42.0, 42.0, 52.0, 43.0, 44.0, 52.0, 43.0, 40.0, 48.0, 51.0, 41.0, 52.0, 47.0, 42.0, 45.0, 53.0, 43.0, 54.0, 40.0, 44.0, 45.0, null, 46.0, 50.0, 45.0, 46.0, 50.0, 51.0, 52.0, 47.0, 40.0, 48.0, 53.0, 49.0, 42.0, 50.0, 54.0, 40.0, 51.0, 49.0, 42.0, 52.0, 43.0, 50.0, 46.0, 52.0, 52.0, 44.0, 46.0, 54.0, 45.0, 47.0, 54.0, 49.0, 51.0, 53.0], \"yaxis\": \"y\"}],\n",
              "                        {\"legend\": {\"tracegroupgap\": 0}, \"margin\": {\"t\": 60}, \"template\": {\"data\": {\"bar\": [{\"error_x\": {\"color\": \"#2a3f5f\"}, \"error_y\": {\"color\": \"#2a3f5f\"}, \"marker\": {\"line\": {\"color\": \"#E5ECF6\", \"width\": 0.5}}, \"type\": \"bar\"}], \"barpolar\": [{\"marker\": {\"line\": {\"color\": \"#E5ECF6\", \"width\": 0.5}}, \"type\": \"barpolar\"}], \"carpet\": [{\"aaxis\": {\"endlinecolor\": \"#2a3f5f\", \"gridcolor\": \"white\", \"linecolor\": \"white\", \"minorgridcolor\": \"white\", \"startlinecolor\": \"#2a3f5f\"}, \"baxis\": {\"endlinecolor\": \"#2a3f5f\", \"gridcolor\": \"white\", \"linecolor\": \"white\", \"minorgridcolor\": \"white\", \"startlinecolor\": \"#2a3f5f\"}, \"type\": \"carpet\"}], \"choropleth\": [{\"colorbar\": {\"outlinewidth\": 0, \"ticks\": \"\"}, \"type\": \"choropleth\"}], \"contour\": [{\"colorbar\": {\"outlinewidth\": 0, \"ticks\": \"\"}, \"colorscale\": [[0.0, \"#0d0887\"], [0.1111111111111111, \"#46039f\"], [0.2222222222222222, \"#7201a8\"], [0.3333333333333333, \"#9c179e\"], [0.4444444444444444, \"#bd3786\"], [0.5555555555555556, \"#d8576b\"], [0.6666666666666666, \"#ed7953\"], [0.7777777777777778, \"#fb9f3a\"], [0.8888888888888888, \"#fdca26\"], [1.0, \"#f0f921\"]], \"type\": \"contour\"}], \"contourcarpet\": [{\"colorbar\": {\"outlinewidth\": 0, \"ticks\": \"\"}, \"type\": \"contourcarpet\"}], \"heatmap\": [{\"colorbar\": {\"outlinewidth\": 0, \"ticks\": \"\"}, \"colorscale\": [[0.0, \"#0d0887\"], [0.1111111111111111, \"#46039f\"], [0.2222222222222222, \"#7201a8\"], [0.3333333333333333, \"#9c179e\"], [0.4444444444444444, \"#bd3786\"], [0.5555555555555556, \"#d8576b\"], [0.6666666666666666, \"#ed7953\"], [0.7777777777777778, \"#fb9f3a\"], [0.8888888888888888, \"#fdca26\"], [1.0, \"#f0f921\"]], \"type\": \"heatmap\"}], \"heatmapgl\": [{\"colorbar\": {\"outlinewidth\": 0, \"ticks\": \"\"}, \"colorscale\": [[0.0, \"#0d0887\"], [0.1111111111111111, \"#46039f\"], [0.2222222222222222, \"#7201a8\"], [0.3333333333333333, \"#9c179e\"], [0.4444444444444444, \"#bd3786\"], [0.5555555555555556, \"#d8576b\"], [0.6666666666666666, \"#ed7953\"], [0.7777777777777778, \"#fb9f3a\"], [0.8888888888888888, \"#fdca26\"], [1.0, \"#f0f921\"]], \"type\": \"heatmapgl\"}], \"histogram\": [{\"marker\": {\"colorbar\": {\"outlinewidth\": 0, \"ticks\": \"\"}}, \"type\": \"histogram\"}], \"histogram2d\": [{\"colorbar\": {\"outlinewidth\": 0, \"ticks\": \"\"}, \"colorscale\": [[0.0, \"#0d0887\"], [0.1111111111111111, \"#46039f\"], [0.2222222222222222, \"#7201a8\"], [0.3333333333333333, \"#9c179e\"], [0.4444444444444444, \"#bd3786\"], [0.5555555555555556, \"#d8576b\"], [0.6666666666666666, \"#ed7953\"], [0.7777777777777778, \"#fb9f3a\"], [0.8888888888888888, \"#fdca26\"], [1.0, \"#f0f921\"]], \"type\": \"histogram2d\"}], \"histogram2dcontour\": [{\"colorbar\": {\"outlinewidth\": 0, \"ticks\": \"\"}, \"colorscale\": [[0.0, \"#0d0887\"], [0.1111111111111111, \"#46039f\"], [0.2222222222222222, \"#7201a8\"], [0.3333333333333333, \"#9c179e\"], [0.4444444444444444, \"#bd3786\"], [0.5555555555555556, \"#d8576b\"], [0.6666666666666666, \"#ed7953\"], [0.7777777777777778, \"#fb9f3a\"], [0.8888888888888888, \"#fdca26\"], [1.0, \"#f0f921\"]], \"type\": \"histogram2dcontour\"}], \"mesh3d\": [{\"colorbar\": {\"outlinewidth\": 0, \"ticks\": \"\"}, \"type\": \"mesh3d\"}], \"parcoords\": [{\"line\": {\"colorbar\": {\"outlinewidth\": 0, \"ticks\": \"\"}}, \"type\": \"parcoords\"}], \"pie\": [{\"automargin\": true, \"type\": \"pie\"}], \"scatter\": [{\"marker\": {\"colorbar\": {\"outlinewidth\": 0, \"ticks\": \"\"}}, \"type\": \"scatter\"}], \"scatter3d\": [{\"line\": {\"colorbar\": {\"outlinewidth\": 0, \"ticks\": \"\"}}, \"marker\": {\"colorbar\": {\"outlinewidth\": 0, \"ticks\": \"\"}}, \"type\": \"scatter3d\"}], \"scattercarpet\": [{\"marker\": {\"colorbar\": {\"outlinewidth\": 0, \"ticks\": \"\"}}, \"type\": \"scattercarpet\"}], \"scattergeo\": [{\"marker\": {\"colorbar\": {\"outlinewidth\": 0, \"ticks\": \"\"}}, \"type\": \"scattergeo\"}], \"scattergl\": [{\"marker\": {\"colorbar\": {\"outlinewidth\": 0, \"ticks\": \"\"}}, \"type\": \"scattergl\"}], \"scattermapbox\": [{\"marker\": {\"colorbar\": {\"outlinewidth\": 0, \"ticks\": \"\"}}, \"type\": \"scattermapbox\"}], \"scatterpolar\": [{\"marker\": {\"colorbar\": {\"outlinewidth\": 0, \"ticks\": \"\"}}, \"type\": \"scatterpolar\"}], \"scatterpolargl\": [{\"marker\": {\"colorbar\": {\"outlinewidth\": 0, \"ticks\": \"\"}}, \"type\": \"scatterpolargl\"}], \"scatterternary\": [{\"marker\": {\"colorbar\": {\"outlinewidth\": 0, \"ticks\": \"\"}}, \"type\": \"scatterternary\"}], \"surface\": [{\"colorbar\": {\"outlinewidth\": 0, \"ticks\": \"\"}, \"colorscale\": [[0.0, \"#0d0887\"], [0.1111111111111111, \"#46039f\"], [0.2222222222222222, \"#7201a8\"], [0.3333333333333333, \"#9c179e\"], [0.4444444444444444, \"#bd3786\"], [0.5555555555555556, \"#d8576b\"], [0.6666666666666666, \"#ed7953\"], [0.7777777777777778, \"#fb9f3a\"], [0.8888888888888888, \"#fdca26\"], [1.0, \"#f0f921\"]], \"type\": \"surface\"}], \"table\": [{\"cells\": {\"fill\": {\"color\": \"#EBF0F8\"}, \"line\": {\"color\": \"white\"}}, \"header\": {\"fill\": {\"color\": \"#C8D4E3\"}, \"line\": {\"color\": \"white\"}}, \"type\": \"table\"}]}, \"layout\": {\"annotationdefaults\": {\"arrowcolor\": \"#2a3f5f\", \"arrowhead\": 0, \"arrowwidth\": 1}, \"coloraxis\": {\"colorbar\": {\"outlinewidth\": 0, \"ticks\": \"\"}}, \"colorscale\": {\"diverging\": [[0, \"#8e0152\"], [0.1, \"#c51b7d\"], [0.2, \"#de77ae\"], [0.3, \"#f1b6da\"], [0.4, \"#fde0ef\"], [0.5, \"#f7f7f7\"], [0.6, \"#e6f5d0\"], [0.7, \"#b8e186\"], [0.8, \"#7fbc41\"], [0.9, \"#4d9221\"], [1, \"#276419\"]], \"sequential\": [[0.0, \"#0d0887\"], [0.1111111111111111, \"#46039f\"], [0.2222222222222222, \"#7201a8\"], [0.3333333333333333, \"#9c179e\"], [0.4444444444444444, \"#bd3786\"], [0.5555555555555556, \"#d8576b\"], [0.6666666666666666, \"#ed7953\"], [0.7777777777777778, \"#fb9f3a\"], [0.8888888888888888, \"#fdca26\"], [1.0, \"#f0f921\"]], \"sequentialminus\": [[0.0, \"#0d0887\"], [0.1111111111111111, \"#46039f\"], [0.2222222222222222, \"#7201a8\"], [0.3333333333333333, \"#9c179e\"], [0.4444444444444444, \"#bd3786\"], [0.5555555555555556, \"#d8576b\"], [0.6666666666666666, \"#ed7953\"], [0.7777777777777778, \"#fb9f3a\"], [0.8888888888888888, \"#fdca26\"], [1.0, \"#f0f921\"]]}, \"colorway\": [\"#636efa\", \"#EF553B\", \"#00cc96\", \"#ab63fa\", \"#FFA15A\", \"#19d3f3\", \"#FF6692\", \"#B6E880\", \"#FF97FF\", \"#FECB52\"], \"font\": {\"color\": \"#2a3f5f\"}, \"geo\": {\"bgcolor\": \"white\", \"lakecolor\": \"white\", \"landcolor\": \"#E5ECF6\", \"showlakes\": true, \"showland\": true, \"subunitcolor\": \"white\"}, \"hoverlabel\": {\"align\": \"left\"}, \"hovermode\": \"closest\", \"mapbox\": {\"style\": \"light\"}, \"paper_bgcolor\": \"white\", \"plot_bgcolor\": \"#E5ECF6\", \"polar\": {\"angularaxis\": {\"gridcolor\": \"white\", \"linecolor\": \"white\", \"ticks\": \"\"}, \"bgcolor\": \"#E5ECF6\", \"radialaxis\": {\"gridcolor\": \"white\", \"linecolor\": \"white\", \"ticks\": \"\"}}, \"scene\": {\"xaxis\": {\"backgroundcolor\": \"#E5ECF6\", \"gridcolor\": \"white\", \"gridwidth\": 2, \"linecolor\": \"white\", \"showbackground\": true, \"ticks\": \"\", \"zerolinecolor\": \"white\"}, \"yaxis\": {\"backgroundcolor\": \"#E5ECF6\", \"gridcolor\": \"white\", \"gridwidth\": 2, \"linecolor\": \"white\", \"showbackground\": true, \"ticks\": \"\", \"zerolinecolor\": \"white\"}, \"zaxis\": {\"backgroundcolor\": \"#E5ECF6\", \"gridcolor\": \"white\", \"gridwidth\": 2, \"linecolor\": \"white\", \"showbackground\": true, \"ticks\": \"\", \"zerolinecolor\": \"white\"}}, \"shapedefaults\": {\"line\": {\"color\": \"#2a3f5f\"}}, \"ternary\": {\"aaxis\": {\"gridcolor\": \"white\", \"linecolor\": \"white\", \"ticks\": \"\"}, \"baxis\": {\"gridcolor\": \"white\", \"linecolor\": \"white\", \"ticks\": \"\"}, \"bgcolor\": \"#E5ECF6\", \"caxis\": {\"gridcolor\": \"white\", \"linecolor\": \"white\", \"ticks\": \"\"}}, \"title\": {\"x\": 0.05}, \"xaxis\": {\"automargin\": true, \"gridcolor\": \"white\", \"linecolor\": \"white\", \"ticks\": \"\", \"title\": {\"standoff\": 15}, \"zerolinecolor\": \"white\", \"zerolinewidth\": 2}, \"yaxis\": {\"automargin\": true, \"gridcolor\": \"white\", \"linecolor\": \"white\", \"ticks\": \"\", \"title\": {\"standoff\": 15}, \"zerolinecolor\": \"white\", \"zerolinewidth\": 2}}}, \"xaxis\": {\"anchor\": \"y\", \"domain\": [0.0, 1.0], \"title\": {\"text\": \"red blood cell count\"}}, \"yaxis\": {\"anchor\": \"x\", \"domain\": [0.0, 1.0], \"title\": {\"text\": \"packed cell volume\"}}},\n",
              "                        {\"responsive\": true}\n",
              "                    ).then(function(){\n",
              "                            \n",
              "var gd = document.getElementById('e1f21a56-aec8-47ac-925a-b881e7047488');\n",
              "var x = new MutationObserver(function (mutations, observer) {{\n",
              "        var display = window.getComputedStyle(gd).display;\n",
              "        if (!display || display === 'none') {{\n",
              "            console.log([gd, 'removed!']);\n",
              "            Plotly.purge(gd);\n",
              "            observer.disconnect();\n",
              "        }}\n",
              "}});\n",
              "\n",
              "// Listen for the removal of the full notebook cells\n",
              "var notebookContainer = gd.closest('#notebook-container');\n",
              "if (notebookContainer) {{\n",
              "    x.observe(notebookContainer, {childList: true});\n",
              "}}\n",
              "\n",
              "// Listen for the clearing of the current output cell\n",
              "var outputEl = gd.closest('.output');\n",
              "if (outputEl) {{\n",
              "    x.observe(outputEl, {childList: true});\n",
              "}}\n",
              "\n",
              "                        })\n",
              "                };\n",
              "                \n",
              "            </script>\n",
              "        </div>\n",
              "</body>\n",
              "</html>"
            ]
          },
          "metadata": {}
        }
      ]
    },
    {
      "cell_type": "markdown",
      "metadata": {
        "id": "qQvGoNExhQNX"
      },
      "source": [
        "People with chronic kidney disease almost follows a linear trend. People without that have non-linearity in the data"
      ]
    },
    {
      "cell_type": "code",
      "metadata": {
        "colab": {
          "base_uri": "https://localhost:8080/",
          "height": 0
        },
        "id": "lKvv38ghh0EP",
        "outputId": "f962e6e0-d537-494c-e969-74b8147c9b51"
      },
      "source": [
        "scatters('red blood cell count', 'haemoglobin')"
      ],
      "execution_count": 38,
      "outputs": [
        {
          "output_type": "display_data",
          "data": {
            "text/html": [
              "<html>\n",
              "<head><meta charset=\"utf-8\" /></head>\n",
              "<body>\n",
              "    <div>\n",
              "            <script src=\"https://cdnjs.cloudflare.com/ajax/libs/mathjax/2.7.5/MathJax.js?config=TeX-AMS-MML_SVG\"></script><script type=\"text/javascript\">if (window.MathJax) {MathJax.Hub.Config({SVG: {font: \"STIX-Web\"}});}</script>\n",
              "                <script type=\"text/javascript\">window.PlotlyConfig = {MathJaxConfig: 'local'};</script>\n",
              "        <script src=\"https://cdn.plot.ly/plotly-latest.min.js\"></script>    \n",
              "            <div id=\"5b63218e-227f-48b9-995e-a5565ec0ce66\" class=\"plotly-graph-div\" style=\"height:525px; width:100%;\"></div>\n",
              "            <script type=\"text/javascript\">\n",
              "                \n",
              "                    window.PLOTLYENV=window.PLOTLYENV || {};\n",
              "                    \n",
              "                if (document.getElementById(\"5b63218e-227f-48b9-995e-a5565ec0ce66\")) {\n",
              "                    Plotly.newPlot(\n",
              "                        '5b63218e-227f-48b9-995e-a5565ec0ce66',\n",
              "                        [{\"hoverlabel\": {\"namelength\": 0}, \"hovertemplate\": \"class=ckd<br>red blood cell count=%{x}<br>haemoglobin=%{y}\", \"legendgroup\": \"class=ckd\", \"marker\": {\"color\": \"#636efa\", \"symbol\": \"circle\"}, \"mode\": \"markers\", \"name\": \"class=ckd\", \"showlegend\": true, \"type\": \"scatter\", \"x\": [5.2, null, null, 3.9, 4.6, 4.4, null, 5.0, 4.0, 3.7, null, 3.8, 3.4, null, 2.6, 2.8, null, null, 4.3, 3.7, 3.2, 3.6, 3.4, null, 4.6, 3.7, 4.0, 4.1, null, null, null, 4.0, 4.0, null, null, 4.9, null, 2.5, null, 4.2, 4.1, null, 4.5, 3.1, null, null, 4.7, null, 3.5, 3.5, 3.8, null, 3.7, 4.7, 4.2, null, 3.4, null, 4.3, null, null, null, 3.8, null, null, null, null, null, null, 6.0, 5.2, 3.2, null, null, 3.4, null, 4.0, 3.7, null, 5.0, 3.8, 3.7, null, null, 2.1, null, null, 5.0, 4.7, null, 4.2, 5.6, 3.6, 3.2, 3.9, null, null, 4.0, 2.3, 4.2, null, 3.9, null, 4.2, null, 5.2, null, 4.4, 4.2, null, 4.7, 3.9, null, null, null, 4.3, null, 4.4, null, null, null, null, null, null, 3.6, null, 4.5, 4.3, 2.9, null, 2.7, null, 2.7, 8.0, 3.8, null, null, null, null, null, null, null, null, null, 4.1, 3.3, null, 3.0, null, null, null, null, null, 2.9, 3.0, null, null, 3.9, null, 4.3, 2.4, 4.8, null, 3.2, 5.4, null, null, null, null, null, 4.4, 3.1, 4.9, null, 4.6, 3.4, 3.9, null, null, null, null, 3.7, null, null, 3.6, null, null, null, null, 3.4, 4.8, 3.4, null, 2.8, null, null, 3.5, 3.0, 3.9, 3.2, 3.9, null, null, null, null, null, null, 4.6, 4.9, null, 3.9, null, 3.4, 3.7, 5.2, null, null, 4.3, null, 3.3, null, null, null, 4.6, null, 4.5, 3.4, 3.8, null, 3.8, null, null, null, null, 5.2, null, null, null, null, null, 4.1, 3.9, 3.3, 6.1, 4.6, 2.6, 2.5, null, 4.1, 2.1], \"xaxis\": \"x\", \"y\": [15.4, 11.3, 9.6, 11.2, 11.6, 12.2, 12.4, 12.4, 10.8, 9.5, 9.4, 10.8, 9.7, 9.8, 5.6, 7.6, 12.6, 12.1, 12.7, 10.3, 7.7, 10.9, 9.8, null, 11.1, 9.9, 11.6, 12.5, null, 12.9, null, 10.1, 11.3, 10.1, null, 12.0, 10.3, 9.7, 12.5, 13.0, 11.1, null, 9.7, 7.9, 9.7, 9.3, 12.4, 15.0, 10.0, 9.7, 8.6, 10.3, 10.9, 13.6, 13.0, 9.5, 10.2, null, 10.5, 6.6, null, null, 11.0, 7.5, 9.8, 15.0, null, null, 10.9, 15.6, 15.2, 9.8, 10.3, 4.8, 9.1, 8.1, 10.3, 11.9, 10.1, 13.5, 10.8, 8.3, null, null, 7.1, 9.9, null, 11.1, null, null, 13.0, 16.1, 10.4, 9.2, 11.6, null, 11.2, 10.0, 6.2, 11.2, null, 11.3, 13.9, 10.2, null, 14.1, 6.0, 11.2, 11.8, 11.7, 11.7, 10.0, 10.8, null, 12.1, 12.4, null, 12.5, 11.4, null, 12.6, 15.0, 6.0, 14.0, 9.1, null, 12.0, 11.4, 8.1, 11.1, 8.2, 11.8, 8.6, 12.0, 10.8, 13.2, 9.3, 10.0, null, 11.1, null, 6.1, null, null, 11.1, 8.0, null, 7.9, null, 10.5, 12.3, 9.6, 10.9, 8.3, 8.4, 11.1, null, 12.6, 10.9, 10.4, 10.9, 14.3, 9.8, 9.0, 14.3, null, null, 12.7, 11.0, 8.7, 12.5, 8.7, 10.6, 13.1, 11.0, null, 8.3, 13.2, 9.8, 11.9, 10.3, 10.0, 11.3, null, 11.3, 12.0, null, 10.7, 12.2, 9.5, 9.9, 9.1, null, 5.5, null, 5.8, 8.1, 6.8, 11.2, 8.8, 12.0, 7.9, 8.0, 8.5, 8.8, 12.6, 13.8, 12.0, 12.3, 11.5, 7.3, null, 10.9, 10.9, 13.7, null, 12.8, 12.2, 11.8, 9.8, 11.9, null, null, 13.0, null, 11.5, 7.9, 11.3, null, 9.6, null, 11.5, null, null, 15.0, 7.9, 9.1, 12.7, 9.4, 11.9, 11.4, 10.4, 9.4, 13.4, 12.2, 6.3, 8.6, null, 12.6, 3.1], \"yaxis\": \"y\"}, {\"hoverlabel\": {\"namelength\": 0}, \"hovertemplate\": \"class=notckd<br>red blood cell count=%{x}<br>haemoglobin=%{y}\", \"legendgroup\": \"class=notckd\", \"marker\": {\"color\": \"#EF553B\", \"symbol\": \"circle\"}, \"mode\": \"markers\", \"name\": \"class=notckd\", \"showlegend\": true, \"type\": \"scatter\", \"x\": [4.5, 5.0, 4.7, 6.2, 5.2, 6.3, 5.1, 5.8, 5.5, 5.2, 5.3, 4.9, 5.4, 5.2, 4.5, 5.0, 5.3, 4.8, 4.9, 5.3, 5.0, 4.5, 5.5, null, null, 4.6, 5.5, 4.8, 6.4, 5.6, 5.2, 6.0, 4.8, 5.7, 6.0, 5.9, 6.0, null, 5.1, 5.3, 5.9, 5.7, 5.0, 5.4, 5.8, 6.5, 5.9, 5.2, 4.9, 4.7, 5.8, 5.0, null, 6.1, 4.5, 5.2, 5.7, 4.5, 4.9, 5.9, 5.4, 5.6, 6.1, 4.8, 4.7, 4.4, 5.2, 4.9, 5.3, null, 6.2, 4.8, 4.9, 4.5, null, 6.5, 5.2, 5.8, 6.5, 5.1, null, 4.5, 6.1, 5.5, 4.5, 5.6, 5.2, 6.2, 4.5, 4.9, 5.9, 4.7, 6.3, 5.7, 4.7, 6.4, 5.8, 5.5, 6.4, 6.1, 4.5, 4.7, 5.2, 4.5, 5.1, 4.6, 6.1, 4.9, 5.6, 4.5, 6.2, 5.8, 4.8, 5.2, 4.7, 6.3, 5.3, 6.1, 5.9, 4.8, 5.4, 5.0, 5.5, 4.9, 6.4, 5.6, 5.2, 4.8, 5.5, 5.7, 4.9, 5.9, 6.5, 5.0, 4.5, 5.1, 6.5, 5.2, 6.4, 5.8, 5.3, 6.3, 5.5, 5.4, 4.6, 4.9, 6.2, 5.4, 5.9, 6.1], \"xaxis\": \"x\", \"y\": [15.0, 17.0, 15.9, 15.4, 13.0, 13.6, 14.5, 14.0, 13.9, 16.1, 14.1, 17.0, 15.5, 16.2, 14.4, 14.2, 13.2, 13.9, 16.3, 15.0, 14.3, 13.8, 14.8, null, 14.4, 16.5, 14.0, 15.7, 14.5, 16.3, 13.3, 15.5, 14.6, 16.4, 16.9, 16.0, 14.7, 13.4, 15.9, 16.6, 14.8, 14.9, 16.7, 14.9, 14.3, 15.0, 16.8, 15.8, 13.5, 15.1, 15.0, 16.9, 14.8, 17.0, 13.1, 17.1, 15.2, 13.6, 13.9, 17.2, 13.2, 13.7, 15.3, 17.3, 15.6, 13.8, 15.4, 15.0, 17.4, null, 15.7, 13.9, 16.0, 15.9, null, 14.0, 15.8, 13.4, null, 14.1, null, 13.5, 15.3, 17.7, 15.4, 14.2, 15.2, 14.0, 17.8, 13.3, 14.3, 13.4, 15.0, 16.2, 14.4, 13.5, 15.5, 17.8, 13.6, 14.5, 16.1, 17.5, 15.0, 13.6, 14.6, 15.0, 17.1, 13.6, 13.0, 17.2, 14.7, 13.7, 15.0, 17.8, 14.8, null, 15.0, 17.4, 14.9, 13.6, 16.2, 17.6, 15.0, 13.7, 16.3, 15.1, 16.4, 13.8, 15.2, 16.1, 15.3, 16.6, 16.8, 13.9, 15.4, 16.5, 16.4, 16.7, 15.5, 17.0, 15.0, 15.6, 14.8, 13.0, 14.1, 15.7, 16.5, 15.8, 14.2, 15.8], \"yaxis\": \"y\"}],\n",
              "                        {\"legend\": {\"tracegroupgap\": 0}, \"margin\": {\"t\": 60}, \"template\": {\"data\": {\"bar\": [{\"error_x\": {\"color\": \"#2a3f5f\"}, \"error_y\": {\"color\": \"#2a3f5f\"}, \"marker\": {\"line\": {\"color\": \"#E5ECF6\", \"width\": 0.5}}, \"type\": \"bar\"}], \"barpolar\": [{\"marker\": {\"line\": {\"color\": \"#E5ECF6\", \"width\": 0.5}}, \"type\": \"barpolar\"}], \"carpet\": [{\"aaxis\": {\"endlinecolor\": \"#2a3f5f\", \"gridcolor\": \"white\", \"linecolor\": \"white\", \"minorgridcolor\": \"white\", \"startlinecolor\": \"#2a3f5f\"}, \"baxis\": {\"endlinecolor\": \"#2a3f5f\", \"gridcolor\": \"white\", \"linecolor\": \"white\", \"minorgridcolor\": \"white\", \"startlinecolor\": \"#2a3f5f\"}, \"type\": \"carpet\"}], \"choropleth\": [{\"colorbar\": {\"outlinewidth\": 0, \"ticks\": \"\"}, \"type\": \"choropleth\"}], \"contour\": [{\"colorbar\": {\"outlinewidth\": 0, \"ticks\": \"\"}, \"colorscale\": [[0.0, \"#0d0887\"], [0.1111111111111111, \"#46039f\"], [0.2222222222222222, \"#7201a8\"], [0.3333333333333333, \"#9c179e\"], [0.4444444444444444, \"#bd3786\"], [0.5555555555555556, \"#d8576b\"], [0.6666666666666666, \"#ed7953\"], [0.7777777777777778, \"#fb9f3a\"], [0.8888888888888888, \"#fdca26\"], [1.0, \"#f0f921\"]], \"type\": \"contour\"}], \"contourcarpet\": [{\"colorbar\": {\"outlinewidth\": 0, \"ticks\": \"\"}, \"type\": \"contourcarpet\"}], \"heatmap\": [{\"colorbar\": {\"outlinewidth\": 0, \"ticks\": \"\"}, \"colorscale\": [[0.0, \"#0d0887\"], [0.1111111111111111, \"#46039f\"], [0.2222222222222222, \"#7201a8\"], [0.3333333333333333, \"#9c179e\"], [0.4444444444444444, \"#bd3786\"], [0.5555555555555556, \"#d8576b\"], [0.6666666666666666, \"#ed7953\"], [0.7777777777777778, \"#fb9f3a\"], [0.8888888888888888, \"#fdca26\"], [1.0, \"#f0f921\"]], \"type\": \"heatmap\"}], \"heatmapgl\": [{\"colorbar\": {\"outlinewidth\": 0, \"ticks\": \"\"}, \"colorscale\": [[0.0, \"#0d0887\"], [0.1111111111111111, \"#46039f\"], [0.2222222222222222, \"#7201a8\"], [0.3333333333333333, \"#9c179e\"], [0.4444444444444444, \"#bd3786\"], [0.5555555555555556, \"#d8576b\"], [0.6666666666666666, \"#ed7953\"], [0.7777777777777778, \"#fb9f3a\"], [0.8888888888888888, \"#fdca26\"], [1.0, \"#f0f921\"]], \"type\": \"heatmapgl\"}], \"histogram\": [{\"marker\": {\"colorbar\": {\"outlinewidth\": 0, \"ticks\": \"\"}}, \"type\": \"histogram\"}], \"histogram2d\": [{\"colorbar\": {\"outlinewidth\": 0, \"ticks\": \"\"}, \"colorscale\": [[0.0, \"#0d0887\"], [0.1111111111111111, \"#46039f\"], [0.2222222222222222, \"#7201a8\"], [0.3333333333333333, \"#9c179e\"], [0.4444444444444444, \"#bd3786\"], [0.5555555555555556, \"#d8576b\"], [0.6666666666666666, \"#ed7953\"], [0.7777777777777778, \"#fb9f3a\"], [0.8888888888888888, \"#fdca26\"], [1.0, \"#f0f921\"]], \"type\": \"histogram2d\"}], \"histogram2dcontour\": [{\"colorbar\": {\"outlinewidth\": 0, \"ticks\": \"\"}, \"colorscale\": [[0.0, \"#0d0887\"], [0.1111111111111111, \"#46039f\"], [0.2222222222222222, \"#7201a8\"], [0.3333333333333333, \"#9c179e\"], [0.4444444444444444, \"#bd3786\"], [0.5555555555555556, \"#d8576b\"], [0.6666666666666666, \"#ed7953\"], [0.7777777777777778, \"#fb9f3a\"], [0.8888888888888888, \"#fdca26\"], [1.0, \"#f0f921\"]], \"type\": \"histogram2dcontour\"}], \"mesh3d\": [{\"colorbar\": {\"outlinewidth\": 0, \"ticks\": \"\"}, \"type\": \"mesh3d\"}], \"parcoords\": [{\"line\": {\"colorbar\": {\"outlinewidth\": 0, \"ticks\": \"\"}}, \"type\": \"parcoords\"}], \"pie\": [{\"automargin\": true, \"type\": \"pie\"}], \"scatter\": [{\"marker\": {\"colorbar\": {\"outlinewidth\": 0, \"ticks\": \"\"}}, \"type\": \"scatter\"}], \"scatter3d\": [{\"line\": {\"colorbar\": {\"outlinewidth\": 0, \"ticks\": \"\"}}, \"marker\": {\"colorbar\": {\"outlinewidth\": 0, \"ticks\": \"\"}}, \"type\": \"scatter3d\"}], \"scattercarpet\": [{\"marker\": {\"colorbar\": {\"outlinewidth\": 0, \"ticks\": \"\"}}, \"type\": \"scattercarpet\"}], \"scattergeo\": [{\"marker\": {\"colorbar\": {\"outlinewidth\": 0, \"ticks\": \"\"}}, \"type\": \"scattergeo\"}], \"scattergl\": [{\"marker\": {\"colorbar\": {\"outlinewidth\": 0, \"ticks\": \"\"}}, \"type\": \"scattergl\"}], \"scattermapbox\": [{\"marker\": {\"colorbar\": {\"outlinewidth\": 0, \"ticks\": \"\"}}, \"type\": \"scattermapbox\"}], \"scatterpolar\": [{\"marker\": {\"colorbar\": {\"outlinewidth\": 0, \"ticks\": \"\"}}, \"type\": \"scatterpolar\"}], \"scatterpolargl\": [{\"marker\": {\"colorbar\": {\"outlinewidth\": 0, \"ticks\": \"\"}}, \"type\": \"scatterpolargl\"}], \"scatterternary\": [{\"marker\": {\"colorbar\": {\"outlinewidth\": 0, \"ticks\": \"\"}}, \"type\": \"scatterternary\"}], \"surface\": [{\"colorbar\": {\"outlinewidth\": 0, \"ticks\": \"\"}, \"colorscale\": [[0.0, \"#0d0887\"], [0.1111111111111111, \"#46039f\"], [0.2222222222222222, \"#7201a8\"], [0.3333333333333333, \"#9c179e\"], [0.4444444444444444, \"#bd3786\"], [0.5555555555555556, \"#d8576b\"], [0.6666666666666666, \"#ed7953\"], [0.7777777777777778, \"#fb9f3a\"], [0.8888888888888888, \"#fdca26\"], [1.0, \"#f0f921\"]], \"type\": \"surface\"}], \"table\": [{\"cells\": {\"fill\": {\"color\": \"#EBF0F8\"}, \"line\": {\"color\": \"white\"}}, \"header\": {\"fill\": {\"color\": \"#C8D4E3\"}, \"line\": {\"color\": \"white\"}}, \"type\": \"table\"}]}, \"layout\": {\"annotationdefaults\": {\"arrowcolor\": \"#2a3f5f\", \"arrowhead\": 0, \"arrowwidth\": 1}, \"coloraxis\": {\"colorbar\": {\"outlinewidth\": 0, \"ticks\": \"\"}}, \"colorscale\": {\"diverging\": [[0, \"#8e0152\"], [0.1, \"#c51b7d\"], [0.2, \"#de77ae\"], [0.3, \"#f1b6da\"], [0.4, \"#fde0ef\"], [0.5, \"#f7f7f7\"], [0.6, \"#e6f5d0\"], [0.7, \"#b8e186\"], [0.8, \"#7fbc41\"], [0.9, \"#4d9221\"], [1, \"#276419\"]], \"sequential\": [[0.0, \"#0d0887\"], [0.1111111111111111, \"#46039f\"], [0.2222222222222222, \"#7201a8\"], [0.3333333333333333, \"#9c179e\"], [0.4444444444444444, \"#bd3786\"], [0.5555555555555556, \"#d8576b\"], [0.6666666666666666, \"#ed7953\"], [0.7777777777777778, \"#fb9f3a\"], [0.8888888888888888, \"#fdca26\"], [1.0, \"#f0f921\"]], \"sequentialminus\": [[0.0, \"#0d0887\"], [0.1111111111111111, \"#46039f\"], [0.2222222222222222, \"#7201a8\"], [0.3333333333333333, \"#9c179e\"], [0.4444444444444444, \"#bd3786\"], [0.5555555555555556, \"#d8576b\"], [0.6666666666666666, \"#ed7953\"], [0.7777777777777778, \"#fb9f3a\"], [0.8888888888888888, \"#fdca26\"], [1.0, \"#f0f921\"]]}, \"colorway\": [\"#636efa\", \"#EF553B\", \"#00cc96\", \"#ab63fa\", \"#FFA15A\", \"#19d3f3\", \"#FF6692\", \"#B6E880\", \"#FF97FF\", \"#FECB52\"], \"font\": {\"color\": \"#2a3f5f\"}, \"geo\": {\"bgcolor\": \"white\", \"lakecolor\": \"white\", \"landcolor\": \"#E5ECF6\", \"showlakes\": true, \"showland\": true, \"subunitcolor\": \"white\"}, \"hoverlabel\": {\"align\": \"left\"}, \"hovermode\": \"closest\", \"mapbox\": {\"style\": \"light\"}, \"paper_bgcolor\": \"white\", \"plot_bgcolor\": \"#E5ECF6\", \"polar\": {\"angularaxis\": {\"gridcolor\": \"white\", \"linecolor\": \"white\", \"ticks\": \"\"}, \"bgcolor\": \"#E5ECF6\", \"radialaxis\": {\"gridcolor\": \"white\", \"linecolor\": \"white\", \"ticks\": \"\"}}, \"scene\": {\"xaxis\": {\"backgroundcolor\": \"#E5ECF6\", \"gridcolor\": \"white\", \"gridwidth\": 2, \"linecolor\": \"white\", \"showbackground\": true, \"ticks\": \"\", \"zerolinecolor\": \"white\"}, \"yaxis\": {\"backgroundcolor\": \"#E5ECF6\", \"gridcolor\": \"white\", \"gridwidth\": 2, \"linecolor\": \"white\", \"showbackground\": true, \"ticks\": \"\", \"zerolinecolor\": \"white\"}, \"zaxis\": {\"backgroundcolor\": \"#E5ECF6\", \"gridcolor\": \"white\", \"gridwidth\": 2, \"linecolor\": \"white\", \"showbackground\": true, \"ticks\": \"\", \"zerolinecolor\": \"white\"}}, \"shapedefaults\": {\"line\": {\"color\": \"#2a3f5f\"}}, \"ternary\": {\"aaxis\": {\"gridcolor\": \"white\", \"linecolor\": \"white\", \"ticks\": \"\"}, \"baxis\": {\"gridcolor\": \"white\", \"linecolor\": \"white\", \"ticks\": \"\"}, \"bgcolor\": \"#E5ECF6\", \"caxis\": {\"gridcolor\": \"white\", \"linecolor\": \"white\", \"ticks\": \"\"}}, \"title\": {\"x\": 0.05}, \"xaxis\": {\"automargin\": true, \"gridcolor\": \"white\", \"linecolor\": \"white\", \"ticks\": \"\", \"title\": {\"standoff\": 15}, \"zerolinecolor\": \"white\", \"zerolinewidth\": 2}, \"yaxis\": {\"automargin\": true, \"gridcolor\": \"white\", \"linecolor\": \"white\", \"ticks\": \"\", \"title\": {\"standoff\": 15}, \"zerolinecolor\": \"white\", \"zerolinewidth\": 2}}}, \"xaxis\": {\"anchor\": \"y\", \"domain\": [0.0, 1.0], \"title\": {\"text\": \"red blood cell count\"}}, \"yaxis\": {\"anchor\": \"x\", \"domain\": [0.0, 1.0], \"title\": {\"text\": \"haemoglobin\"}}},\n",
              "                        {\"responsive\": true}\n",
              "                    ).then(function(){\n",
              "                            \n",
              "var gd = document.getElementById('5b63218e-227f-48b9-995e-a5565ec0ce66');\n",
              "var x = new MutationObserver(function (mutations, observer) {{\n",
              "        var display = window.getComputedStyle(gd).display;\n",
              "        if (!display || display === 'none') {{\n",
              "            console.log([gd, 'removed!']);\n",
              "            Plotly.purge(gd);\n",
              "            observer.disconnect();\n",
              "        }}\n",
              "}});\n",
              "\n",
              "// Listen for the removal of the full notebook cells\n",
              "var notebookContainer = gd.closest('#notebook-container');\n",
              "if (notebookContainer) {{\n",
              "    x.observe(notebookContainer, {childList: true});\n",
              "}}\n",
              "\n",
              "// Listen for the clearing of the current output cell\n",
              "var outputEl = gd.closest('.output');\n",
              "if (outputEl) {{\n",
              "    x.observe(outputEl, {childList: true});\n",
              "}}\n",
              "\n",
              "                        })\n",
              "                };\n",
              "                \n",
              "            </script>\n",
              "        </div>\n",
              "</body>\n",
              "</html>"
            ]
          },
          "metadata": {}
        }
      ]
    },
    {
      "cell_type": "markdown",
      "metadata": {
        "id": "kSqB6EWjh31U"
      },
      "source": [
        "People with chronic kidney disease almost follows a linear trend. People without that have non-linearity in the data. Similar to previous one"
      ]
    },
    {
      "cell_type": "code",
      "metadata": {
        "colab": {
          "base_uri": "https://localhost:8080/",
          "height": 0
        },
        "id": "2gKMI71ch-dQ",
        "outputId": "e2e8180e-12b3-401a-d5df-e0e719bbc96a"
      },
      "source": [
        "scatters('packed cell volume', 'haemoglobin')"
      ],
      "execution_count": 39,
      "outputs": [
        {
          "output_type": "display_data",
          "data": {
            "text/html": [
              "<html>\n",
              "<head><meta charset=\"utf-8\" /></head>\n",
              "<body>\n",
              "    <div>\n",
              "            <script src=\"https://cdnjs.cloudflare.com/ajax/libs/mathjax/2.7.5/MathJax.js?config=TeX-AMS-MML_SVG\"></script><script type=\"text/javascript\">if (window.MathJax) {MathJax.Hub.Config({SVG: {font: \"STIX-Web\"}});}</script>\n",
              "                <script type=\"text/javascript\">window.PlotlyConfig = {MathJaxConfig: 'local'};</script>\n",
              "        <script src=\"https://cdn.plot.ly/plotly-latest.min.js\"></script>    \n",
              "            <div id=\"2372c160-2a9a-43a8-8f77-e80912b1fad3\" class=\"plotly-graph-div\" style=\"height:525px; width:100%;\"></div>\n",
              "            <script type=\"text/javascript\">\n",
              "                \n",
              "                    window.PLOTLYENV=window.PLOTLYENV || {};\n",
              "                    \n",
              "                if (document.getElementById(\"2372c160-2a9a-43a8-8f77-e80912b1fad3\")) {\n",
              "                    Plotly.newPlot(\n",
              "                        '2372c160-2a9a-43a8-8f77-e80912b1fad3',\n",
              "                        [{\"hoverlabel\": {\"namelength\": 0}, \"hovertemplate\": \"class=ckd<br>packed cell volume=%{x}<br>haemoglobin=%{y}\", \"legendgroup\": \"class=ckd\", \"marker\": {\"color\": \"#636efa\", \"symbol\": \"circle\"}, \"mode\": \"markers\", \"name\": \"class=ckd\", \"showlegend\": true, \"type\": \"scatter\", \"x\": [44.0, 38.0, 31.0, 32.0, 35.0, 39.0, 36.0, 44.0, 33.0, 29.0, 28.0, 32.0, 28.0, null, 16.0, 24.0, null, null, 37.0, 30.0, 24.0, 32.0, 32.0, null, 39.0, 29.0, 35.0, 37.0, null, 38.0, null, 30.0, 34.0, 29.0, null, 36.0, 32.0, 28.0, null, 40.0, 32.0, null, 33.0, 24.0, 28.0, null, 37.0, 45.0, 29.0, 29.0, 28.0, 33.0, 34.0, 40.0, 40.0, 28.0, 30.0, null, 33.0, null, null, null, 33.0, 27.0, null, 48.0, null, null, 37.0, 52.0, 44.0, 28.0, null, 14.0, 29.0, null, 36.0, 34.0, 30.0, 40.0, 31.0, 29.0, null, null, 22.0, null, null, 32.0, null, null, 40.0, 52.0, 33.0, 30.0, 36.0, null, 36.0, 32.0, 18.0, 32.0, null, 33.0, 52.0, 36.0, null, 42.0, 17.0, 34.0, 37.0, null, 34.0, 32.0, 33.0, null, null, 44.0, null, 37.0, null, null, null, 46.0, null, 42.0, 28.0, null, 37.0, 35.0, 23.0, null, 22.0, 36.0, 24.0, 37.0, 33.0, 39.0, null, 29.0, null, 33.0, null, 19.0, null, null, 33.0, 24.0, null, 25.0, null, 32.0, 41.0, 30.0, 32.0, 22.0, 26.0, 36.0, null, 39.0, 31.0, 35.0, 35.0, 42.0, 37.0, 27.0, 40.0, null, null, 42.0, 39.0, 27.0, 33.0, 26.0, 34.0, 41.0, 35.0, null, 23.0, 41.0, 34.0, 39.0, 28.0, 30.0, 35.0, null, 31.0, 34.0, null, 34.0, 38.0, 29.0, 30.0, 26.0, null, 15.0, null, null, 24.0, null, 30.0, 25.0, 37.0, 21.0, 24.0, null, 31.0, 43.0, 41.0, 41.0, 41.0, null, 20.0, null, 31.0, 34.0, 43.0, null, 38.0, 36.0, 34.0, 28.0, 36.0, null, null, 38.0, null, 35.0, 26.0, 36.0, null, 31.0, null, 35.0, null, null, 44.0, 26.0, 25.0, 40.0, 28.0, 39.0, 36.0, 31.0, 28.0, 47.0, 40.0, 19.0, 26.0, null, 37.0, 9.0], \"xaxis\": \"x\", \"y\": [15.4, 11.3, 9.6, 11.2, 11.6, 12.2, 12.4, 12.4, 10.8, 9.5, 9.4, 10.8, 9.7, 9.8, 5.6, 7.6, 12.6, 12.1, 12.7, 10.3, 7.7, 10.9, 9.8, null, 11.1, 9.9, 11.6, 12.5, null, 12.9, null, 10.1, 11.3, 10.1, null, 12.0, 10.3, 9.7, 12.5, 13.0, 11.1, null, 9.7, 7.9, 9.7, 9.3, 12.4, 15.0, 10.0, 9.7, 8.6, 10.3, 10.9, 13.6, 13.0, 9.5, 10.2, null, 10.5, 6.6, null, null, 11.0, 7.5, 9.8, 15.0, null, null, 10.9, 15.6, 15.2, 9.8, 10.3, 4.8, 9.1, 8.1, 10.3, 11.9, 10.1, 13.5, 10.8, 8.3, null, null, 7.1, 9.9, null, 11.1, null, null, 13.0, 16.1, 10.4, 9.2, 11.6, null, 11.2, 10.0, 6.2, 11.2, null, 11.3, 13.9, 10.2, null, 14.1, 6.0, 11.2, 11.8, 11.7, 11.7, 10.0, 10.8, null, 12.1, 12.4, null, 12.5, 11.4, null, 12.6, 15.0, 6.0, 14.0, 9.1, null, 12.0, 11.4, 8.1, 11.1, 8.2, 11.8, 8.6, 12.0, 10.8, 13.2, 9.3, 10.0, null, 11.1, null, 6.1, null, null, 11.1, 8.0, null, 7.9, null, 10.5, 12.3, 9.6, 10.9, 8.3, 8.4, 11.1, null, 12.6, 10.9, 10.4, 10.9, 14.3, 9.8, 9.0, 14.3, null, null, 12.7, 11.0, 8.7, 12.5, 8.7, 10.6, 13.1, 11.0, null, 8.3, 13.2, 9.8, 11.9, 10.3, 10.0, 11.3, null, 11.3, 12.0, null, 10.7, 12.2, 9.5, 9.9, 9.1, null, 5.5, null, 5.8, 8.1, 6.8, 11.2, 8.8, 12.0, 7.9, 8.0, 8.5, 8.8, 12.6, 13.8, 12.0, 12.3, 11.5, 7.3, null, 10.9, 10.9, 13.7, null, 12.8, 12.2, 11.8, 9.8, 11.9, null, null, 13.0, null, 11.5, 7.9, 11.3, null, 9.6, null, 11.5, null, null, 15.0, 7.9, 9.1, 12.7, 9.4, 11.9, 11.4, 10.4, 9.4, 13.4, 12.2, 6.3, 8.6, null, 12.6, 3.1], \"yaxis\": \"y\"}, {\"hoverlabel\": {\"namelength\": 0}, \"hovertemplate\": \"class=notckd<br>packed cell volume=%{x}<br>haemoglobin=%{y}\", \"legendgroup\": \"class=notckd\", \"marker\": {\"color\": \"#EF553B\", \"symbol\": \"circle\"}, \"mode\": \"markers\", \"name\": \"class=notckd\", \"showlegend\": true, \"type\": \"scatter\", \"x\": [48.0, 52.0, 46.0, 42.0, 49.0, 52.0, 41.0, 46.0, 44.0, 45.0, 45.0, 41.0, 43.0, 45.0, 50.0, 48.0, 41.0, 48.0, 53.0, 48.0, 41.0, 42.0, 42.0, null, 44.0, 43.0, 41.0, 50.0, 44.0, 48.0, 52.0, 41.0, 44.0, 43.0, 52.0, 41.0, 44.0, 43.0, 50.0, 43.0, 52.0, 41.0, 52.0, 48.0, 40.0, 50.0, 41.0, 45.0, 48.0, 52.0, 43.0, 41.0, 48.0, 50.0, 45.0, 41.0, 52.0, 44.0, 48.0, 40.0, 44.0, 45.0, 48.0, 52.0, 41.0, 48.0, 48.0, 40.0, 52.0, null, 44.0, 48.0, 43.0, 45.0, null, 50.0, 41.0, 44.0, 45.0, 48.0, 42.0, 46.0, 44.0, 46.0, 43.0, 48.0, 40.0, 52.0, 44.0, 48.0, 43.0, 41.0, 50.0, 50.0, 42.0, 42.0, 52.0, 43.0, 44.0, 52.0, 43.0, 40.0, 48.0, 51.0, 41.0, 52.0, 47.0, 42.0, 45.0, 53.0, 43.0, 54.0, 40.0, 44.0, 45.0, null, 46.0, 50.0, 45.0, 46.0, 50.0, 51.0, 52.0, 47.0, 40.0, 48.0, 53.0, 49.0, 42.0, 50.0, 54.0, 40.0, 51.0, 49.0, 42.0, 52.0, 43.0, 50.0, 46.0, 52.0, 52.0, 44.0, 46.0, 54.0, 45.0, 47.0, 54.0, 49.0, 51.0, 53.0], \"xaxis\": \"x\", \"y\": [15.0, 17.0, 15.9, 15.4, 13.0, 13.6, 14.5, 14.0, 13.9, 16.1, 14.1, 17.0, 15.5, 16.2, 14.4, 14.2, 13.2, 13.9, 16.3, 15.0, 14.3, 13.8, 14.8, null, 14.4, 16.5, 14.0, 15.7, 14.5, 16.3, 13.3, 15.5, 14.6, 16.4, 16.9, 16.0, 14.7, 13.4, 15.9, 16.6, 14.8, 14.9, 16.7, 14.9, 14.3, 15.0, 16.8, 15.8, 13.5, 15.1, 15.0, 16.9, 14.8, 17.0, 13.1, 17.1, 15.2, 13.6, 13.9, 17.2, 13.2, 13.7, 15.3, 17.3, 15.6, 13.8, 15.4, 15.0, 17.4, null, 15.7, 13.9, 16.0, 15.9, null, 14.0, 15.8, 13.4, null, 14.1, null, 13.5, 15.3, 17.7, 15.4, 14.2, 15.2, 14.0, 17.8, 13.3, 14.3, 13.4, 15.0, 16.2, 14.4, 13.5, 15.5, 17.8, 13.6, 14.5, 16.1, 17.5, 15.0, 13.6, 14.6, 15.0, 17.1, 13.6, 13.0, 17.2, 14.7, 13.7, 15.0, 17.8, 14.8, null, 15.0, 17.4, 14.9, 13.6, 16.2, 17.6, 15.0, 13.7, 16.3, 15.1, 16.4, 13.8, 15.2, 16.1, 15.3, 16.6, 16.8, 13.9, 15.4, 16.5, 16.4, 16.7, 15.5, 17.0, 15.0, 15.6, 14.8, 13.0, 14.1, 15.7, 16.5, 15.8, 14.2, 15.8], \"yaxis\": \"y\"}],\n",
              "                        {\"legend\": {\"tracegroupgap\": 0}, \"margin\": {\"t\": 60}, \"template\": {\"data\": {\"bar\": [{\"error_x\": {\"color\": \"#2a3f5f\"}, \"error_y\": {\"color\": \"#2a3f5f\"}, \"marker\": {\"line\": {\"color\": \"#E5ECF6\", \"width\": 0.5}}, \"type\": \"bar\"}], \"barpolar\": [{\"marker\": {\"line\": {\"color\": \"#E5ECF6\", \"width\": 0.5}}, \"type\": \"barpolar\"}], \"carpet\": [{\"aaxis\": {\"endlinecolor\": \"#2a3f5f\", \"gridcolor\": \"white\", \"linecolor\": \"white\", \"minorgridcolor\": \"white\", \"startlinecolor\": \"#2a3f5f\"}, \"baxis\": {\"endlinecolor\": \"#2a3f5f\", \"gridcolor\": \"white\", \"linecolor\": \"white\", \"minorgridcolor\": \"white\", \"startlinecolor\": \"#2a3f5f\"}, \"type\": \"carpet\"}], \"choropleth\": [{\"colorbar\": {\"outlinewidth\": 0, \"ticks\": \"\"}, \"type\": \"choropleth\"}], \"contour\": [{\"colorbar\": {\"outlinewidth\": 0, \"ticks\": \"\"}, \"colorscale\": [[0.0, \"#0d0887\"], [0.1111111111111111, \"#46039f\"], [0.2222222222222222, \"#7201a8\"], [0.3333333333333333, \"#9c179e\"], [0.4444444444444444, \"#bd3786\"], [0.5555555555555556, \"#d8576b\"], [0.6666666666666666, \"#ed7953\"], [0.7777777777777778, \"#fb9f3a\"], [0.8888888888888888, \"#fdca26\"], [1.0, \"#f0f921\"]], \"type\": \"contour\"}], \"contourcarpet\": [{\"colorbar\": {\"outlinewidth\": 0, \"ticks\": \"\"}, \"type\": \"contourcarpet\"}], \"heatmap\": [{\"colorbar\": {\"outlinewidth\": 0, \"ticks\": \"\"}, \"colorscale\": [[0.0, \"#0d0887\"], [0.1111111111111111, \"#46039f\"], [0.2222222222222222, \"#7201a8\"], [0.3333333333333333, \"#9c179e\"], [0.4444444444444444, \"#bd3786\"], [0.5555555555555556, \"#d8576b\"], [0.6666666666666666, \"#ed7953\"], [0.7777777777777778, \"#fb9f3a\"], [0.8888888888888888, \"#fdca26\"], [1.0, \"#f0f921\"]], \"type\": \"heatmap\"}], \"heatmapgl\": [{\"colorbar\": {\"outlinewidth\": 0, \"ticks\": \"\"}, \"colorscale\": [[0.0, \"#0d0887\"], [0.1111111111111111, \"#46039f\"], [0.2222222222222222, \"#7201a8\"], [0.3333333333333333, \"#9c179e\"], [0.4444444444444444, \"#bd3786\"], [0.5555555555555556, \"#d8576b\"], [0.6666666666666666, \"#ed7953\"], [0.7777777777777778, \"#fb9f3a\"], [0.8888888888888888, \"#fdca26\"], [1.0, \"#f0f921\"]], \"type\": \"heatmapgl\"}], \"histogram\": [{\"marker\": {\"colorbar\": {\"outlinewidth\": 0, \"ticks\": \"\"}}, \"type\": \"histogram\"}], \"histogram2d\": [{\"colorbar\": {\"outlinewidth\": 0, \"ticks\": \"\"}, \"colorscale\": [[0.0, \"#0d0887\"], [0.1111111111111111, \"#46039f\"], [0.2222222222222222, \"#7201a8\"], [0.3333333333333333, \"#9c179e\"], [0.4444444444444444, \"#bd3786\"], [0.5555555555555556, \"#d8576b\"], [0.6666666666666666, \"#ed7953\"], [0.7777777777777778, \"#fb9f3a\"], [0.8888888888888888, \"#fdca26\"], [1.0, \"#f0f921\"]], \"type\": \"histogram2d\"}], \"histogram2dcontour\": [{\"colorbar\": {\"outlinewidth\": 0, \"ticks\": \"\"}, \"colorscale\": [[0.0, \"#0d0887\"], [0.1111111111111111, \"#46039f\"], [0.2222222222222222, \"#7201a8\"], [0.3333333333333333, \"#9c179e\"], [0.4444444444444444, \"#bd3786\"], [0.5555555555555556, \"#d8576b\"], [0.6666666666666666, \"#ed7953\"], [0.7777777777777778, \"#fb9f3a\"], [0.8888888888888888, \"#fdca26\"], [1.0, \"#f0f921\"]], \"type\": \"histogram2dcontour\"}], \"mesh3d\": [{\"colorbar\": {\"outlinewidth\": 0, \"ticks\": \"\"}, \"type\": \"mesh3d\"}], \"parcoords\": [{\"line\": {\"colorbar\": {\"outlinewidth\": 0, \"ticks\": \"\"}}, \"type\": \"parcoords\"}], \"pie\": [{\"automargin\": true, \"type\": \"pie\"}], \"scatter\": [{\"marker\": {\"colorbar\": {\"outlinewidth\": 0, \"ticks\": \"\"}}, \"type\": \"scatter\"}], \"scatter3d\": [{\"line\": {\"colorbar\": {\"outlinewidth\": 0, \"ticks\": \"\"}}, \"marker\": {\"colorbar\": {\"outlinewidth\": 0, \"ticks\": \"\"}}, \"type\": \"scatter3d\"}], \"scattercarpet\": [{\"marker\": {\"colorbar\": {\"outlinewidth\": 0, \"ticks\": \"\"}}, \"type\": \"scattercarpet\"}], \"scattergeo\": [{\"marker\": {\"colorbar\": {\"outlinewidth\": 0, \"ticks\": \"\"}}, \"type\": \"scattergeo\"}], \"scattergl\": [{\"marker\": {\"colorbar\": {\"outlinewidth\": 0, \"ticks\": \"\"}}, \"type\": \"scattergl\"}], \"scattermapbox\": [{\"marker\": {\"colorbar\": {\"outlinewidth\": 0, \"ticks\": \"\"}}, \"type\": \"scattermapbox\"}], \"scatterpolar\": [{\"marker\": {\"colorbar\": {\"outlinewidth\": 0, \"ticks\": \"\"}}, \"type\": \"scatterpolar\"}], \"scatterpolargl\": [{\"marker\": {\"colorbar\": {\"outlinewidth\": 0, \"ticks\": \"\"}}, \"type\": \"scatterpolargl\"}], \"scatterternary\": [{\"marker\": {\"colorbar\": {\"outlinewidth\": 0, \"ticks\": \"\"}}, \"type\": \"scatterternary\"}], \"surface\": [{\"colorbar\": {\"outlinewidth\": 0, \"ticks\": \"\"}, \"colorscale\": [[0.0, \"#0d0887\"], [0.1111111111111111, \"#46039f\"], [0.2222222222222222, \"#7201a8\"], [0.3333333333333333, \"#9c179e\"], [0.4444444444444444, \"#bd3786\"], [0.5555555555555556, \"#d8576b\"], [0.6666666666666666, \"#ed7953\"], [0.7777777777777778, \"#fb9f3a\"], [0.8888888888888888, \"#fdca26\"], [1.0, \"#f0f921\"]], \"type\": \"surface\"}], \"table\": [{\"cells\": {\"fill\": {\"color\": \"#EBF0F8\"}, \"line\": {\"color\": \"white\"}}, \"header\": {\"fill\": {\"color\": \"#C8D4E3\"}, \"line\": {\"color\": \"white\"}}, \"type\": \"table\"}]}, \"layout\": {\"annotationdefaults\": {\"arrowcolor\": \"#2a3f5f\", \"arrowhead\": 0, \"arrowwidth\": 1}, \"coloraxis\": {\"colorbar\": {\"outlinewidth\": 0, \"ticks\": \"\"}}, \"colorscale\": {\"diverging\": [[0, \"#8e0152\"], [0.1, \"#c51b7d\"], [0.2, \"#de77ae\"], [0.3, \"#f1b6da\"], [0.4, \"#fde0ef\"], [0.5, \"#f7f7f7\"], [0.6, \"#e6f5d0\"], [0.7, \"#b8e186\"], [0.8, \"#7fbc41\"], [0.9, \"#4d9221\"], [1, \"#276419\"]], \"sequential\": [[0.0, \"#0d0887\"], [0.1111111111111111, \"#46039f\"], [0.2222222222222222, \"#7201a8\"], [0.3333333333333333, \"#9c179e\"], [0.4444444444444444, \"#bd3786\"], [0.5555555555555556, \"#d8576b\"], [0.6666666666666666, \"#ed7953\"], [0.7777777777777778, \"#fb9f3a\"], [0.8888888888888888, \"#fdca26\"], [1.0, \"#f0f921\"]], \"sequentialminus\": [[0.0, \"#0d0887\"], [0.1111111111111111, \"#46039f\"], [0.2222222222222222, \"#7201a8\"], [0.3333333333333333, \"#9c179e\"], [0.4444444444444444, \"#bd3786\"], [0.5555555555555556, \"#d8576b\"], [0.6666666666666666, \"#ed7953\"], [0.7777777777777778, \"#fb9f3a\"], [0.8888888888888888, \"#fdca26\"], [1.0, \"#f0f921\"]]}, \"colorway\": [\"#636efa\", \"#EF553B\", \"#00cc96\", \"#ab63fa\", \"#FFA15A\", \"#19d3f3\", \"#FF6692\", \"#B6E880\", \"#FF97FF\", \"#FECB52\"], \"font\": {\"color\": \"#2a3f5f\"}, \"geo\": {\"bgcolor\": \"white\", \"lakecolor\": \"white\", \"landcolor\": \"#E5ECF6\", \"showlakes\": true, \"showland\": true, \"subunitcolor\": \"white\"}, \"hoverlabel\": {\"align\": \"left\"}, \"hovermode\": \"closest\", \"mapbox\": {\"style\": \"light\"}, \"paper_bgcolor\": \"white\", \"plot_bgcolor\": \"#E5ECF6\", \"polar\": {\"angularaxis\": {\"gridcolor\": \"white\", \"linecolor\": \"white\", \"ticks\": \"\"}, \"bgcolor\": \"#E5ECF6\", \"radialaxis\": {\"gridcolor\": \"white\", \"linecolor\": \"white\", \"ticks\": \"\"}}, \"scene\": {\"xaxis\": {\"backgroundcolor\": \"#E5ECF6\", \"gridcolor\": \"white\", \"gridwidth\": 2, \"linecolor\": \"white\", \"showbackground\": true, \"ticks\": \"\", \"zerolinecolor\": \"white\"}, \"yaxis\": {\"backgroundcolor\": \"#E5ECF6\", \"gridcolor\": \"white\", \"gridwidth\": 2, \"linecolor\": \"white\", \"showbackground\": true, \"ticks\": \"\", \"zerolinecolor\": \"white\"}, \"zaxis\": {\"backgroundcolor\": \"#E5ECF6\", \"gridcolor\": \"white\", \"gridwidth\": 2, \"linecolor\": \"white\", \"showbackground\": true, \"ticks\": \"\", \"zerolinecolor\": \"white\"}}, \"shapedefaults\": {\"line\": {\"color\": \"#2a3f5f\"}}, \"ternary\": {\"aaxis\": {\"gridcolor\": \"white\", \"linecolor\": \"white\", \"ticks\": \"\"}, \"baxis\": {\"gridcolor\": \"white\", \"linecolor\": \"white\", \"ticks\": \"\"}, \"bgcolor\": \"#E5ECF6\", \"caxis\": {\"gridcolor\": \"white\", \"linecolor\": \"white\", \"ticks\": \"\"}}, \"title\": {\"x\": 0.05}, \"xaxis\": {\"automargin\": true, \"gridcolor\": \"white\", \"linecolor\": \"white\", \"ticks\": \"\", \"title\": {\"standoff\": 15}, \"zerolinecolor\": \"white\", \"zerolinewidth\": 2}, \"yaxis\": {\"automargin\": true, \"gridcolor\": \"white\", \"linecolor\": \"white\", \"ticks\": \"\", \"title\": {\"standoff\": 15}, \"zerolinecolor\": \"white\", \"zerolinewidth\": 2}}}, \"xaxis\": {\"anchor\": \"y\", \"domain\": [0.0, 1.0], \"title\": {\"text\": \"packed cell volume\"}}, \"yaxis\": {\"anchor\": \"x\", \"domain\": [0.0, 1.0], \"title\": {\"text\": \"haemoglobin\"}}},\n",
              "                        {\"responsive\": true}\n",
              "                    ).then(function(){\n",
              "                            \n",
              "var gd = document.getElementById('2372c160-2a9a-43a8-8f77-e80912b1fad3');\n",
              "var x = new MutationObserver(function (mutations, observer) {{\n",
              "        var display = window.getComputedStyle(gd).display;\n",
              "        if (!display || display === 'none') {{\n",
              "            console.log([gd, 'removed!']);\n",
              "            Plotly.purge(gd);\n",
              "            observer.disconnect();\n",
              "        }}\n",
              "}});\n",
              "\n",
              "// Listen for the removal of the full notebook cells\n",
              "var notebookContainer = gd.closest('#notebook-container');\n",
              "if (notebookContainer) {{\n",
              "    x.observe(notebookContainer, {childList: true});\n",
              "}}\n",
              "\n",
              "// Listen for the clearing of the current output cell\n",
              "var outputEl = gd.closest('.output');\n",
              "if (outputEl) {{\n",
              "    x.observe(outputEl, {childList: true});\n",
              "}}\n",
              "\n",
              "                        })\n",
              "                };\n",
              "                \n",
              "            </script>\n",
              "        </div>\n",
              "</body>\n",
              "</html>"
            ]
          },
          "metadata": {}
        }
      ]
    },
    {
      "cell_type": "markdown",
      "metadata": {
        "id": "icS37tItiJcx"
      },
      "source": [
        "People with chronic kidney disease almost follows a linear trend. People without that have non-linearity in the data. Similar to the two above. Moreover (almost) haemoglobin < 13 means chronic kidney disease. And that between 13 and 18 means no chronic kidney disease"
      ]
    },
    {
      "cell_type": "code",
      "metadata": {
        "colab": {
          "base_uri": "https://localhost:8080/",
          "height": 0
        },
        "id": "4pPMphIgiPl6",
        "outputId": "b15401e2-29e9-4862-8ef6-8e791e013ee6"
      },
      "source": [
        "violin('red blood cell count')"
      ],
      "execution_count": 40,
      "outputs": [
        {
          "output_type": "display_data",
          "data": {
            "text/html": [
              "<html>\n",
              "<head><meta charset=\"utf-8\" /></head>\n",
              "<body>\n",
              "    <div>\n",
              "            <script src=\"https://cdnjs.cloudflare.com/ajax/libs/mathjax/2.7.5/MathJax.js?config=TeX-AMS-MML_SVG\"></script><script type=\"text/javascript\">if (window.MathJax) {MathJax.Hub.Config({SVG: {font: \"STIX-Web\"}});}</script>\n",
              "                <script type=\"text/javascript\">window.PlotlyConfig = {MathJaxConfig: 'local'};</script>\n",
              "        <script src=\"https://cdn.plot.ly/plotly-latest.min.js\"></script>    \n",
              "            <div id=\"bce381db-59c4-4346-8a51-39bafed44e23\" class=\"plotly-graph-div\" style=\"height:525px; width:100%;\"></div>\n",
              "            <script type=\"text/javascript\">\n",
              "                \n",
              "                    window.PLOTLYENV=window.PLOTLYENV || {};\n",
              "                    \n",
              "                if (document.getElementById(\"bce381db-59c4-4346-8a51-39bafed44e23\")) {\n",
              "                    Plotly.newPlot(\n",
              "                        'bce381db-59c4-4346-8a51-39bafed44e23',\n",
              "                        [{\"alignmentgroup\": \"True\", \"box\": {\"visible\": true}, \"hoverlabel\": {\"namelength\": 0}, \"hovertemplate\": \"class=%{x}<br>red blood cell count=%{y}\", \"legendgroup\": \"class=ckd\", \"marker\": {\"color\": \"#636efa\"}, \"name\": \"class=ckd\", \"offsetgroup\": \"class=ckd\", \"orientation\": \"v\", \"scalegroup\": \"True\", \"showlegend\": true, \"type\": \"violin\", \"x\": [\"ckd\", \"ckd\", \"ckd\", \"ckd\", \"ckd\", \"ckd\", \"ckd\", \"ckd\", \"ckd\", \"ckd\", \"ckd\", \"ckd\", \"ckd\", \"ckd\", \"ckd\", \"ckd\", \"ckd\", \"ckd\", \"ckd\", \"ckd\", \"ckd\", \"ckd\", \"ckd\", \"ckd\", \"ckd\", \"ckd\", \"ckd\", \"ckd\", \"ckd\", \"ckd\", \"ckd\", \"ckd\", \"ckd\", \"ckd\", \"ckd\", \"ckd\", \"ckd\", \"ckd\", \"ckd\", \"ckd\", \"ckd\", \"ckd\", \"ckd\", \"ckd\", \"ckd\", \"ckd\", \"ckd\", \"ckd\", \"ckd\", \"ckd\", \"ckd\", \"ckd\", \"ckd\", \"ckd\", \"ckd\", \"ckd\", \"ckd\", \"ckd\", \"ckd\", \"ckd\", \"ckd\", \"ckd\", \"ckd\", \"ckd\", \"ckd\", \"ckd\", \"ckd\", \"ckd\", \"ckd\", \"ckd\", \"ckd\", \"ckd\", \"ckd\", \"ckd\", \"ckd\", \"ckd\", \"ckd\", \"ckd\", \"ckd\", \"ckd\", \"ckd\", \"ckd\", \"ckd\", \"ckd\", \"ckd\", \"ckd\", \"ckd\", \"ckd\", \"ckd\", \"ckd\", \"ckd\", \"ckd\", \"ckd\", \"ckd\", \"ckd\", \"ckd\", \"ckd\", \"ckd\", \"ckd\", \"ckd\", \"ckd\", \"ckd\", \"ckd\", \"ckd\", \"ckd\", \"ckd\", \"ckd\", \"ckd\", \"ckd\", \"ckd\", \"ckd\", \"ckd\", \"ckd\", \"ckd\", \"ckd\", \"ckd\", \"ckd\", \"ckd\", \"ckd\", \"ckd\", \"ckd\", \"ckd\", \"ckd\", \"ckd\", \"ckd\", \"ckd\", \"ckd\", \"ckd\", \"ckd\", \"ckd\", \"ckd\", \"ckd\", \"ckd\", \"ckd\", \"ckd\", \"ckd\", \"ckd\", \"ckd\", \"ckd\", \"ckd\", \"ckd\", \"ckd\", \"ckd\", \"ckd\", \"ckd\", \"ckd\", \"ckd\", \"ckd\", \"ckd\", \"ckd\", \"ckd\", \"ckd\", \"ckd\", \"ckd\", \"ckd\", \"ckd\", \"ckd\", \"ckd\", \"ckd\", \"ckd\", \"ckd\", \"ckd\", \"ckd\", \"ckd\", \"ckd\", \"ckd\", \"ckd\", \"ckd\", \"ckd\", \"ckd\", \"ckd\", \"ckd\", \"ckd\", \"ckd\", \"ckd\", \"ckd\", \"ckd\", \"ckd\", \"ckd\", \"ckd\", \"ckd\", \"ckd\", \"ckd\", \"ckd\", \"ckd\", \"ckd\", \"ckd\", \"ckd\", \"ckd\", \"ckd\", \"ckd\", \"ckd\", \"ckd\", \"ckd\", \"ckd\", \"ckd\", \"ckd\", \"ckd\", \"ckd\", \"ckd\", \"ckd\", \"ckd\", \"ckd\", \"ckd\", \"ckd\", \"ckd\", \"ckd\", \"ckd\", \"ckd\", \"ckd\", \"ckd\", \"ckd\", \"ckd\", \"ckd\", \"ckd\", \"ckd\", \"ckd\", \"ckd\", \"ckd\", \"ckd\", \"ckd\", \"ckd\", \"ckd\", \"ckd\", \"ckd\", \"ckd\", \"ckd\", \"ckd\", \"ckd\", \"ckd\", \"ckd\", \"ckd\", \"ckd\", \"ckd\", \"ckd\", \"ckd\", \"ckd\", \"ckd\", \"ckd\", \"ckd\", \"ckd\", \"ckd\", \"ckd\", \"ckd\", \"ckd\", \"ckd\", \"ckd\", \"ckd\", \"ckd\", \"ckd\"], \"x0\": \" \", \"xaxis\": \"x\", \"y\": [5.2, null, null, 3.9, 4.6, 4.4, null, 5.0, 4.0, 3.7, null, 3.8, 3.4, null, 2.6, 2.8, null, null, 4.3, 3.7, 3.2, 3.6, 3.4, null, 4.6, 3.7, 4.0, 4.1, null, null, null, 4.0, 4.0, null, null, 4.9, null, 2.5, null, 4.2, 4.1, null, 4.5, 3.1, null, null, 4.7, null, 3.5, 3.5, 3.8, null, 3.7, 4.7, 4.2, null, 3.4, null, 4.3, null, null, null, 3.8, null, null, null, null, null, null, 6.0, 5.2, 3.2, null, null, 3.4, null, 4.0, 3.7, null, 5.0, 3.8, 3.7, null, null, 2.1, null, null, 5.0, 4.7, null, 4.2, 5.6, 3.6, 3.2, 3.9, null, null, 4.0, 2.3, 4.2, null, 3.9, null, 4.2, null, 5.2, null, 4.4, 4.2, null, 4.7, 3.9, null, null, null, 4.3, null, 4.4, null, null, null, null, null, null, 3.6, null, 4.5, 4.3, 2.9, null, 2.7, null, 2.7, 8.0, 3.8, null, null, null, null, null, null, null, null, null, 4.1, 3.3, null, 3.0, null, null, null, null, null, 2.9, 3.0, null, null, 3.9, null, 4.3, 2.4, 4.8, null, 3.2, 5.4, null, null, null, null, null, 4.4, 3.1, 4.9, null, 4.6, 3.4, 3.9, null, null, null, null, 3.7, null, null, 3.6, null, null, null, null, 3.4, 4.8, 3.4, null, 2.8, null, null, 3.5, 3.0, 3.9, 3.2, 3.9, null, null, null, null, null, null, 4.6, 4.9, null, 3.9, null, 3.4, 3.7, 5.2, null, null, 4.3, null, 3.3, null, null, null, 4.6, null, 4.5, 3.4, 3.8, null, 3.8, null, null, null, null, 5.2, null, null, null, null, null, 4.1, 3.9, 3.3, 6.1, 4.6, 2.6, 2.5, null, 4.1, 2.1], \"y0\": \" \", \"yaxis\": \"y\"}, {\"alignmentgroup\": \"True\", \"box\": {\"visible\": true}, \"hoverlabel\": {\"namelength\": 0}, \"hovertemplate\": \"class=%{x}<br>red blood cell count=%{y}\", \"legendgroup\": \"class=notckd\", \"marker\": {\"color\": \"#EF553B\"}, \"name\": \"class=notckd\", \"offsetgroup\": \"class=notckd\", \"orientation\": \"v\", \"scalegroup\": \"True\", \"showlegend\": true, \"type\": \"violin\", \"x\": [\"notckd\", \"notckd\", \"notckd\", \"notckd\", \"notckd\", \"notckd\", \"notckd\", \"notckd\", \"notckd\", \"notckd\", \"notckd\", \"notckd\", \"notckd\", \"notckd\", \"notckd\", \"notckd\", \"notckd\", \"notckd\", \"notckd\", \"notckd\", \"notckd\", \"notckd\", \"notckd\", \"notckd\", \"notckd\", \"notckd\", \"notckd\", \"notckd\", \"notckd\", \"notckd\", \"notckd\", \"notckd\", \"notckd\", \"notckd\", \"notckd\", \"notckd\", \"notckd\", \"notckd\", \"notckd\", \"notckd\", \"notckd\", \"notckd\", \"notckd\", \"notckd\", \"notckd\", \"notckd\", \"notckd\", \"notckd\", \"notckd\", \"notckd\", \"notckd\", \"notckd\", \"notckd\", \"notckd\", \"notckd\", \"notckd\", \"notckd\", \"notckd\", \"notckd\", \"notckd\", \"notckd\", \"notckd\", \"notckd\", \"notckd\", \"notckd\", \"notckd\", \"notckd\", \"notckd\", \"notckd\", \"notckd\", \"notckd\", \"notckd\", \"notckd\", \"notckd\", \"notckd\", \"notckd\", \"notckd\", \"notckd\", \"notckd\", \"notckd\", \"notckd\", \"notckd\", \"notckd\", \"notckd\", \"notckd\", \"notckd\", \"notckd\", \"notckd\", \"notckd\", \"notckd\", \"notckd\", \"notckd\", \"notckd\", \"notckd\", \"notckd\", \"notckd\", \"notckd\", \"notckd\", \"notckd\", \"notckd\", \"notckd\", \"notckd\", \"notckd\", \"notckd\", \"notckd\", \"notckd\", \"notckd\", \"notckd\", \"notckd\", \"notckd\", \"notckd\", \"notckd\", \"notckd\", \"notckd\", \"notckd\", \"notckd\", \"notckd\", \"notckd\", \"notckd\", \"notckd\", \"notckd\", \"notckd\", \"notckd\", \"notckd\", \"notckd\", \"notckd\", \"notckd\", \"notckd\", \"notckd\", \"notckd\", \"notckd\", \"notckd\", \"notckd\", \"notckd\", \"notckd\", \"notckd\", \"notckd\", \"notckd\", \"notckd\", \"notckd\", \"notckd\", \"notckd\", \"notckd\", \"notckd\", \"notckd\", \"notckd\", \"notckd\", \"notckd\", \"notckd\", \"notckd\"], \"x0\": \" \", \"xaxis\": \"x\", \"y\": [4.5, 5.0, 4.7, 6.2, 5.2, 6.3, 5.1, 5.8, 5.5, 5.2, 5.3, 4.9, 5.4, 5.2, 4.5, 5.0, 5.3, 4.8, 4.9, 5.3, 5.0, 4.5, 5.5, null, null, 4.6, 5.5, 4.8, 6.4, 5.6, 5.2, 6.0, 4.8, 5.7, 6.0, 5.9, 6.0, null, 5.1, 5.3, 5.9, 5.7, 5.0, 5.4, 5.8, 6.5, 5.9, 5.2, 4.9, 4.7, 5.8, 5.0, null, 6.1, 4.5, 5.2, 5.7, 4.5, 4.9, 5.9, 5.4, 5.6, 6.1, 4.8, 4.7, 4.4, 5.2, 4.9, 5.3, null, 6.2, 4.8, 4.9, 4.5, null, 6.5, 5.2, 5.8, 6.5, 5.1, null, 4.5, 6.1, 5.5, 4.5, 5.6, 5.2, 6.2, 4.5, 4.9, 5.9, 4.7, 6.3, 5.7, 4.7, 6.4, 5.8, 5.5, 6.4, 6.1, 4.5, 4.7, 5.2, 4.5, 5.1, 4.6, 6.1, 4.9, 5.6, 4.5, 6.2, 5.8, 4.8, 5.2, 4.7, 6.3, 5.3, 6.1, 5.9, 4.8, 5.4, 5.0, 5.5, 4.9, 6.4, 5.6, 5.2, 4.8, 5.5, 5.7, 4.9, 5.9, 6.5, 5.0, 4.5, 5.1, 6.5, 5.2, 6.4, 5.8, 5.3, 6.3, 5.5, 5.4, 4.6, 4.9, 6.2, 5.4, 5.9, 6.1], \"y0\": \" \", \"yaxis\": \"y\"}],\n",
              "                        {\"legend\": {\"tracegroupgap\": 0}, \"margin\": {\"t\": 60}, \"template\": {\"data\": {\"bar\": [{\"error_x\": {\"color\": \"#2a3f5f\"}, \"error_y\": {\"color\": \"#2a3f5f\"}, \"marker\": {\"line\": {\"color\": \"#E5ECF6\", \"width\": 0.5}}, \"type\": \"bar\"}], \"barpolar\": [{\"marker\": {\"line\": {\"color\": \"#E5ECF6\", \"width\": 0.5}}, \"type\": \"barpolar\"}], \"carpet\": [{\"aaxis\": {\"endlinecolor\": \"#2a3f5f\", \"gridcolor\": \"white\", \"linecolor\": \"white\", \"minorgridcolor\": \"white\", \"startlinecolor\": \"#2a3f5f\"}, \"baxis\": {\"endlinecolor\": \"#2a3f5f\", \"gridcolor\": \"white\", \"linecolor\": \"white\", \"minorgridcolor\": \"white\", \"startlinecolor\": \"#2a3f5f\"}, \"type\": \"carpet\"}], \"choropleth\": [{\"colorbar\": {\"outlinewidth\": 0, \"ticks\": \"\"}, \"type\": \"choropleth\"}], \"contour\": [{\"colorbar\": {\"outlinewidth\": 0, \"ticks\": \"\"}, \"colorscale\": [[0.0, \"#0d0887\"], [0.1111111111111111, \"#46039f\"], [0.2222222222222222, \"#7201a8\"], [0.3333333333333333, \"#9c179e\"], [0.4444444444444444, \"#bd3786\"], [0.5555555555555556, \"#d8576b\"], [0.6666666666666666, \"#ed7953\"], [0.7777777777777778, \"#fb9f3a\"], [0.8888888888888888, \"#fdca26\"], [1.0, \"#f0f921\"]], \"type\": \"contour\"}], \"contourcarpet\": [{\"colorbar\": {\"outlinewidth\": 0, \"ticks\": \"\"}, \"type\": \"contourcarpet\"}], \"heatmap\": [{\"colorbar\": {\"outlinewidth\": 0, \"ticks\": \"\"}, \"colorscale\": [[0.0, \"#0d0887\"], [0.1111111111111111, \"#46039f\"], [0.2222222222222222, \"#7201a8\"], [0.3333333333333333, \"#9c179e\"], [0.4444444444444444, \"#bd3786\"], [0.5555555555555556, \"#d8576b\"], [0.6666666666666666, \"#ed7953\"], [0.7777777777777778, \"#fb9f3a\"], [0.8888888888888888, \"#fdca26\"], [1.0, \"#f0f921\"]], \"type\": \"heatmap\"}], \"heatmapgl\": [{\"colorbar\": {\"outlinewidth\": 0, \"ticks\": \"\"}, \"colorscale\": [[0.0, \"#0d0887\"], [0.1111111111111111, \"#46039f\"], [0.2222222222222222, \"#7201a8\"], [0.3333333333333333, \"#9c179e\"], [0.4444444444444444, \"#bd3786\"], [0.5555555555555556, \"#d8576b\"], [0.6666666666666666, \"#ed7953\"], [0.7777777777777778, \"#fb9f3a\"], [0.8888888888888888, \"#fdca26\"], [1.0, \"#f0f921\"]], \"type\": \"heatmapgl\"}], \"histogram\": [{\"marker\": {\"colorbar\": {\"outlinewidth\": 0, \"ticks\": \"\"}}, \"type\": \"histogram\"}], \"histogram2d\": [{\"colorbar\": {\"outlinewidth\": 0, \"ticks\": \"\"}, \"colorscale\": [[0.0, \"#0d0887\"], [0.1111111111111111, \"#46039f\"], [0.2222222222222222, \"#7201a8\"], [0.3333333333333333, \"#9c179e\"], [0.4444444444444444, \"#bd3786\"], [0.5555555555555556, \"#d8576b\"], [0.6666666666666666, \"#ed7953\"], [0.7777777777777778, \"#fb9f3a\"], [0.8888888888888888, \"#fdca26\"], [1.0, \"#f0f921\"]], \"type\": \"histogram2d\"}], \"histogram2dcontour\": [{\"colorbar\": {\"outlinewidth\": 0, \"ticks\": \"\"}, \"colorscale\": [[0.0, \"#0d0887\"], [0.1111111111111111, \"#46039f\"], [0.2222222222222222, \"#7201a8\"], [0.3333333333333333, \"#9c179e\"], [0.4444444444444444, \"#bd3786\"], [0.5555555555555556, \"#d8576b\"], [0.6666666666666666, \"#ed7953\"], [0.7777777777777778, \"#fb9f3a\"], [0.8888888888888888, \"#fdca26\"], [1.0, \"#f0f921\"]], \"type\": \"histogram2dcontour\"}], \"mesh3d\": [{\"colorbar\": {\"outlinewidth\": 0, \"ticks\": \"\"}, \"type\": \"mesh3d\"}], \"parcoords\": [{\"line\": {\"colorbar\": {\"outlinewidth\": 0, \"ticks\": \"\"}}, \"type\": \"parcoords\"}], \"pie\": [{\"automargin\": true, \"type\": \"pie\"}], \"scatter\": [{\"marker\": {\"colorbar\": {\"outlinewidth\": 0, \"ticks\": \"\"}}, \"type\": \"scatter\"}], \"scatter3d\": [{\"line\": {\"colorbar\": {\"outlinewidth\": 0, \"ticks\": \"\"}}, \"marker\": {\"colorbar\": {\"outlinewidth\": 0, \"ticks\": \"\"}}, \"type\": \"scatter3d\"}], \"scattercarpet\": [{\"marker\": {\"colorbar\": {\"outlinewidth\": 0, \"ticks\": \"\"}}, \"type\": \"scattercarpet\"}], \"scattergeo\": [{\"marker\": {\"colorbar\": {\"outlinewidth\": 0, \"ticks\": \"\"}}, \"type\": \"scattergeo\"}], \"scattergl\": [{\"marker\": {\"colorbar\": {\"outlinewidth\": 0, \"ticks\": \"\"}}, \"type\": \"scattergl\"}], \"scattermapbox\": [{\"marker\": {\"colorbar\": {\"outlinewidth\": 0, \"ticks\": \"\"}}, \"type\": \"scattermapbox\"}], \"scatterpolar\": [{\"marker\": {\"colorbar\": {\"outlinewidth\": 0, \"ticks\": \"\"}}, \"type\": \"scatterpolar\"}], \"scatterpolargl\": [{\"marker\": {\"colorbar\": {\"outlinewidth\": 0, \"ticks\": \"\"}}, \"type\": \"scatterpolargl\"}], \"scatterternary\": [{\"marker\": {\"colorbar\": {\"outlinewidth\": 0, \"ticks\": \"\"}}, \"type\": \"scatterternary\"}], \"surface\": [{\"colorbar\": {\"outlinewidth\": 0, \"ticks\": \"\"}, \"colorscale\": [[0.0, \"#0d0887\"], [0.1111111111111111, \"#46039f\"], [0.2222222222222222, \"#7201a8\"], [0.3333333333333333, \"#9c179e\"], [0.4444444444444444, \"#bd3786\"], [0.5555555555555556, \"#d8576b\"], [0.6666666666666666, \"#ed7953\"], [0.7777777777777778, \"#fb9f3a\"], [0.8888888888888888, \"#fdca26\"], [1.0, \"#f0f921\"]], \"type\": \"surface\"}], \"table\": [{\"cells\": {\"fill\": {\"color\": \"#EBF0F8\"}, \"line\": {\"color\": \"white\"}}, \"header\": {\"fill\": {\"color\": \"#C8D4E3\"}, \"line\": {\"color\": \"white\"}}, \"type\": \"table\"}]}, \"layout\": {\"annotationdefaults\": {\"arrowcolor\": \"#2a3f5f\", \"arrowhead\": 0, \"arrowwidth\": 1}, \"coloraxis\": {\"colorbar\": {\"outlinewidth\": 0, \"ticks\": \"\"}}, \"colorscale\": {\"diverging\": [[0, \"#8e0152\"], [0.1, \"#c51b7d\"], [0.2, \"#de77ae\"], [0.3, \"#f1b6da\"], [0.4, \"#fde0ef\"], [0.5, \"#f7f7f7\"], [0.6, \"#e6f5d0\"], [0.7, \"#b8e186\"], [0.8, \"#7fbc41\"], [0.9, \"#4d9221\"], [1, \"#276419\"]], \"sequential\": [[0.0, \"#0d0887\"], [0.1111111111111111, \"#46039f\"], [0.2222222222222222, \"#7201a8\"], [0.3333333333333333, \"#9c179e\"], [0.4444444444444444, \"#bd3786\"], [0.5555555555555556, \"#d8576b\"], [0.6666666666666666, \"#ed7953\"], [0.7777777777777778, \"#fb9f3a\"], [0.8888888888888888, \"#fdca26\"], [1.0, \"#f0f921\"]], \"sequentialminus\": [[0.0, \"#0d0887\"], [0.1111111111111111, \"#46039f\"], [0.2222222222222222, \"#7201a8\"], [0.3333333333333333, \"#9c179e\"], [0.4444444444444444, \"#bd3786\"], [0.5555555555555556, \"#d8576b\"], [0.6666666666666666, \"#ed7953\"], [0.7777777777777778, \"#fb9f3a\"], [0.8888888888888888, \"#fdca26\"], [1.0, \"#f0f921\"]]}, \"colorway\": [\"#636efa\", \"#EF553B\", \"#00cc96\", \"#ab63fa\", \"#FFA15A\", \"#19d3f3\", \"#FF6692\", \"#B6E880\", \"#FF97FF\", \"#FECB52\"], \"font\": {\"color\": \"#2a3f5f\"}, \"geo\": {\"bgcolor\": \"white\", \"lakecolor\": \"white\", \"landcolor\": \"#E5ECF6\", \"showlakes\": true, \"showland\": true, \"subunitcolor\": \"white\"}, \"hoverlabel\": {\"align\": \"left\"}, \"hovermode\": \"closest\", \"mapbox\": {\"style\": \"light\"}, \"paper_bgcolor\": \"white\", \"plot_bgcolor\": \"#E5ECF6\", \"polar\": {\"angularaxis\": {\"gridcolor\": \"white\", \"linecolor\": \"white\", \"ticks\": \"\"}, \"bgcolor\": \"#E5ECF6\", \"radialaxis\": {\"gridcolor\": \"white\", \"linecolor\": \"white\", \"ticks\": \"\"}}, \"scene\": {\"xaxis\": {\"backgroundcolor\": \"#E5ECF6\", \"gridcolor\": \"white\", \"gridwidth\": 2, \"linecolor\": \"white\", \"showbackground\": true, \"ticks\": \"\", \"zerolinecolor\": \"white\"}, \"yaxis\": {\"backgroundcolor\": \"#E5ECF6\", \"gridcolor\": \"white\", \"gridwidth\": 2, \"linecolor\": \"white\", \"showbackground\": true, \"ticks\": \"\", \"zerolinecolor\": \"white\"}, \"zaxis\": {\"backgroundcolor\": \"#E5ECF6\", \"gridcolor\": \"white\", \"gridwidth\": 2, \"linecolor\": \"white\", \"showbackground\": true, \"ticks\": \"\", \"zerolinecolor\": \"white\"}}, \"shapedefaults\": {\"line\": {\"color\": \"#2a3f5f\"}}, \"ternary\": {\"aaxis\": {\"gridcolor\": \"white\", \"linecolor\": \"white\", \"ticks\": \"\"}, \"baxis\": {\"gridcolor\": \"white\", \"linecolor\": \"white\", \"ticks\": \"\"}, \"bgcolor\": \"#E5ECF6\", \"caxis\": {\"gridcolor\": \"white\", \"linecolor\": \"white\", \"ticks\": \"\"}}, \"title\": {\"x\": 0.05}, \"xaxis\": {\"automargin\": true, \"gridcolor\": \"white\", \"linecolor\": \"white\", \"ticks\": \"\", \"title\": {\"standoff\": 15}, \"zerolinecolor\": \"white\", \"zerolinewidth\": 2}, \"yaxis\": {\"automargin\": true, \"gridcolor\": \"white\", \"linecolor\": \"white\", \"ticks\": \"\", \"title\": {\"standoff\": 15}, \"zerolinecolor\": \"white\", \"zerolinewidth\": 2}}}, \"violinmode\": \"group\", \"xaxis\": {\"anchor\": \"y\", \"categoryarray\": [\"ckd\", \"notckd\"], \"categoryorder\": \"array\", \"domain\": [0.0, 1.0], \"title\": {\"text\": \"class\"}}, \"yaxis\": {\"anchor\": \"x\", \"domain\": [0.0, 1.0], \"title\": {\"text\": \"red blood cell count\"}}},\n",
              "                        {\"responsive\": true}\n",
              "                    ).then(function(){\n",
              "                            \n",
              "var gd = document.getElementById('bce381db-59c4-4346-8a51-39bafed44e23');\n",
              "var x = new MutationObserver(function (mutations, observer) {{\n",
              "        var display = window.getComputedStyle(gd).display;\n",
              "        if (!display || display === 'none') {{\n",
              "            console.log([gd, 'removed!']);\n",
              "            Plotly.purge(gd);\n",
              "            observer.disconnect();\n",
              "        }}\n",
              "}});\n",
              "\n",
              "// Listen for the removal of the full notebook cells\n",
              "var notebookContainer = gd.closest('#notebook-container');\n",
              "if (notebookContainer) {{\n",
              "    x.observe(notebookContainer, {childList: true});\n",
              "}}\n",
              "\n",
              "// Listen for the clearing of the current output cell\n",
              "var outputEl = gd.closest('.output');\n",
              "if (outputEl) {{\n",
              "    x.observe(outputEl, {childList: true});\n",
              "}}\n",
              "\n",
              "                        })\n",
              "                };\n",
              "                \n",
              "            </script>\n",
              "        </div>\n",
              "</body>\n",
              "</html>"
            ]
          },
          "metadata": {}
        }
      ]
    },
    {
      "cell_type": "markdown",
      "metadata": {
        "id": "uYSfhd-DiwJ4"
      },
      "source": [
        "skewness in data for chronic kidney disease"
      ]
    },
    {
      "cell_type": "code",
      "metadata": {
        "colab": {
          "base_uri": "https://localhost:8080/",
          "height": 0
        },
        "id": "lAbNsKUwjCBk",
        "outputId": "c381e9fd-68d5-4e74-b285-cb7e25d5317c"
      },
      "source": [
        "violin('packed cell volume')"
      ],
      "execution_count": 41,
      "outputs": [
        {
          "output_type": "display_data",
          "data": {
            "text/html": [
              "<html>\n",
              "<head><meta charset=\"utf-8\" /></head>\n",
              "<body>\n",
              "    <div>\n",
              "            <script src=\"https://cdnjs.cloudflare.com/ajax/libs/mathjax/2.7.5/MathJax.js?config=TeX-AMS-MML_SVG\"></script><script type=\"text/javascript\">if (window.MathJax) {MathJax.Hub.Config({SVG: {font: \"STIX-Web\"}});}</script>\n",
              "                <script type=\"text/javascript\">window.PlotlyConfig = {MathJaxConfig: 'local'};</script>\n",
              "        <script src=\"https://cdn.plot.ly/plotly-latest.min.js\"></script>    \n",
              "            <div id=\"2f1d2ee3-85c1-470c-af88-f26f4c70c888\" class=\"plotly-graph-div\" style=\"height:525px; width:100%;\"></div>\n",
              "            <script type=\"text/javascript\">\n",
              "                \n",
              "                    window.PLOTLYENV=window.PLOTLYENV || {};\n",
              "                    \n",
              "                if (document.getElementById(\"2f1d2ee3-85c1-470c-af88-f26f4c70c888\")) {\n",
              "                    Plotly.newPlot(\n",
              "                        '2f1d2ee3-85c1-470c-af88-f26f4c70c888',\n",
              "                        [{\"alignmentgroup\": \"True\", \"box\": {\"visible\": true}, \"hoverlabel\": {\"namelength\": 0}, \"hovertemplate\": \"class=%{x}<br>packed cell volume=%{y}\", \"legendgroup\": \"class=ckd\", \"marker\": {\"color\": \"#636efa\"}, \"name\": \"class=ckd\", \"offsetgroup\": \"class=ckd\", \"orientation\": \"v\", \"scalegroup\": \"True\", \"showlegend\": true, \"type\": \"violin\", \"x\": [\"ckd\", \"ckd\", \"ckd\", \"ckd\", \"ckd\", \"ckd\", \"ckd\", \"ckd\", \"ckd\", \"ckd\", \"ckd\", \"ckd\", \"ckd\", \"ckd\", \"ckd\", \"ckd\", \"ckd\", \"ckd\", \"ckd\", \"ckd\", \"ckd\", \"ckd\", \"ckd\", \"ckd\", \"ckd\", \"ckd\", \"ckd\", \"ckd\", \"ckd\", \"ckd\", \"ckd\", \"ckd\", \"ckd\", \"ckd\", \"ckd\", \"ckd\", \"ckd\", \"ckd\", \"ckd\", \"ckd\", \"ckd\", \"ckd\", \"ckd\", \"ckd\", \"ckd\", \"ckd\", \"ckd\", \"ckd\", \"ckd\", \"ckd\", \"ckd\", \"ckd\", \"ckd\", \"ckd\", \"ckd\", \"ckd\", \"ckd\", \"ckd\", \"ckd\", \"ckd\", \"ckd\", \"ckd\", \"ckd\", \"ckd\", \"ckd\", \"ckd\", \"ckd\", \"ckd\", \"ckd\", \"ckd\", \"ckd\", \"ckd\", \"ckd\", \"ckd\", \"ckd\", \"ckd\", \"ckd\", \"ckd\", \"ckd\", \"ckd\", \"ckd\", \"ckd\", \"ckd\", \"ckd\", \"ckd\", \"ckd\", \"ckd\", \"ckd\", \"ckd\", \"ckd\", \"ckd\", \"ckd\", \"ckd\", \"ckd\", \"ckd\", \"ckd\", \"ckd\", \"ckd\", \"ckd\", \"ckd\", \"ckd\", \"ckd\", \"ckd\", \"ckd\", \"ckd\", \"ckd\", \"ckd\", \"ckd\", \"ckd\", \"ckd\", \"ckd\", \"ckd\", \"ckd\", \"ckd\", \"ckd\", \"ckd\", \"ckd\", \"ckd\", \"ckd\", \"ckd\", \"ckd\", \"ckd\", \"ckd\", \"ckd\", \"ckd\", \"ckd\", \"ckd\", \"ckd\", \"ckd\", \"ckd\", \"ckd\", \"ckd\", \"ckd\", \"ckd\", \"ckd\", \"ckd\", \"ckd\", \"ckd\", \"ckd\", \"ckd\", \"ckd\", \"ckd\", \"ckd\", \"ckd\", \"ckd\", \"ckd\", \"ckd\", \"ckd\", \"ckd\", \"ckd\", \"ckd\", \"ckd\", \"ckd\", \"ckd\", \"ckd\", \"ckd\", \"ckd\", \"ckd\", \"ckd\", \"ckd\", \"ckd\", \"ckd\", \"ckd\", \"ckd\", \"ckd\", \"ckd\", \"ckd\", \"ckd\", \"ckd\", \"ckd\", \"ckd\", \"ckd\", \"ckd\", \"ckd\", \"ckd\", \"ckd\", \"ckd\", \"ckd\", \"ckd\", \"ckd\", \"ckd\", \"ckd\", \"ckd\", \"ckd\", \"ckd\", \"ckd\", \"ckd\", \"ckd\", \"ckd\", \"ckd\", \"ckd\", \"ckd\", \"ckd\", \"ckd\", \"ckd\", \"ckd\", \"ckd\", \"ckd\", \"ckd\", \"ckd\", \"ckd\", \"ckd\", \"ckd\", \"ckd\", \"ckd\", \"ckd\", \"ckd\", \"ckd\", \"ckd\", \"ckd\", \"ckd\", \"ckd\", \"ckd\", \"ckd\", \"ckd\", \"ckd\", \"ckd\", \"ckd\", \"ckd\", \"ckd\", \"ckd\", \"ckd\", \"ckd\", \"ckd\", \"ckd\", \"ckd\", \"ckd\", \"ckd\", \"ckd\", \"ckd\", \"ckd\", \"ckd\", \"ckd\", \"ckd\", \"ckd\", \"ckd\", \"ckd\", \"ckd\", \"ckd\", \"ckd\", \"ckd\", \"ckd\", \"ckd\", \"ckd\", \"ckd\", \"ckd\", \"ckd\", \"ckd\", \"ckd\", \"ckd\"], \"x0\": \" \", \"xaxis\": \"x\", \"y\": [44.0, 38.0, 31.0, 32.0, 35.0, 39.0, 36.0, 44.0, 33.0, 29.0, 28.0, 32.0, 28.0, null, 16.0, 24.0, null, null, 37.0, 30.0, 24.0, 32.0, 32.0, null, 39.0, 29.0, 35.0, 37.0, null, 38.0, null, 30.0, 34.0, 29.0, null, 36.0, 32.0, 28.0, null, 40.0, 32.0, null, 33.0, 24.0, 28.0, null, 37.0, 45.0, 29.0, 29.0, 28.0, 33.0, 34.0, 40.0, 40.0, 28.0, 30.0, null, 33.0, null, null, null, 33.0, 27.0, null, 48.0, null, null, 37.0, 52.0, 44.0, 28.0, null, 14.0, 29.0, null, 36.0, 34.0, 30.0, 40.0, 31.0, 29.0, null, null, 22.0, null, null, 32.0, null, null, 40.0, 52.0, 33.0, 30.0, 36.0, null, 36.0, 32.0, 18.0, 32.0, null, 33.0, 52.0, 36.0, null, 42.0, 17.0, 34.0, 37.0, null, 34.0, 32.0, 33.0, null, null, 44.0, null, 37.0, null, null, null, 46.0, null, 42.0, 28.0, null, 37.0, 35.0, 23.0, null, 22.0, 36.0, 24.0, 37.0, 33.0, 39.0, null, 29.0, null, 33.0, null, 19.0, null, null, 33.0, 24.0, null, 25.0, null, 32.0, 41.0, 30.0, 32.0, 22.0, 26.0, 36.0, null, 39.0, 31.0, 35.0, 35.0, 42.0, 37.0, 27.0, 40.0, null, null, 42.0, 39.0, 27.0, 33.0, 26.0, 34.0, 41.0, 35.0, null, 23.0, 41.0, 34.0, 39.0, 28.0, 30.0, 35.0, null, 31.0, 34.0, null, 34.0, 38.0, 29.0, 30.0, 26.0, null, 15.0, null, null, 24.0, null, 30.0, 25.0, 37.0, 21.0, 24.0, null, 31.0, 43.0, 41.0, 41.0, 41.0, null, 20.0, null, 31.0, 34.0, 43.0, null, 38.0, 36.0, 34.0, 28.0, 36.0, null, null, 38.0, null, 35.0, 26.0, 36.0, null, 31.0, null, 35.0, null, null, 44.0, 26.0, 25.0, 40.0, 28.0, 39.0, 36.0, 31.0, 28.0, 47.0, 40.0, 19.0, 26.0, null, 37.0, 9.0], \"y0\": \" \", \"yaxis\": \"y\"}, {\"alignmentgroup\": \"True\", \"box\": {\"visible\": true}, \"hoverlabel\": {\"namelength\": 0}, \"hovertemplate\": \"class=%{x}<br>packed cell volume=%{y}\", \"legendgroup\": \"class=notckd\", \"marker\": {\"color\": \"#EF553B\"}, \"name\": \"class=notckd\", \"offsetgroup\": \"class=notckd\", \"orientation\": \"v\", \"scalegroup\": \"True\", \"showlegend\": true, \"type\": \"violin\", \"x\": [\"notckd\", \"notckd\", \"notckd\", \"notckd\", \"notckd\", \"notckd\", \"notckd\", \"notckd\", \"notckd\", \"notckd\", \"notckd\", \"notckd\", \"notckd\", \"notckd\", \"notckd\", \"notckd\", \"notckd\", \"notckd\", \"notckd\", \"notckd\", \"notckd\", \"notckd\", \"notckd\", \"notckd\", \"notckd\", \"notckd\", \"notckd\", \"notckd\", \"notckd\", \"notckd\", \"notckd\", \"notckd\", \"notckd\", \"notckd\", \"notckd\", \"notckd\", \"notckd\", \"notckd\", \"notckd\", \"notckd\", \"notckd\", \"notckd\", \"notckd\", \"notckd\", \"notckd\", \"notckd\", \"notckd\", \"notckd\", \"notckd\", \"notckd\", \"notckd\", \"notckd\", \"notckd\", \"notckd\", \"notckd\", \"notckd\", \"notckd\", \"notckd\", \"notckd\", \"notckd\", \"notckd\", \"notckd\", \"notckd\", \"notckd\", \"notckd\", \"notckd\", \"notckd\", \"notckd\", \"notckd\", \"notckd\", \"notckd\", \"notckd\", \"notckd\", \"notckd\", \"notckd\", \"notckd\", \"notckd\", \"notckd\", \"notckd\", \"notckd\", \"notckd\", \"notckd\", \"notckd\", \"notckd\", \"notckd\", \"notckd\", \"notckd\", \"notckd\", \"notckd\", \"notckd\", \"notckd\", \"notckd\", \"notckd\", \"notckd\", \"notckd\", \"notckd\", \"notckd\", \"notckd\", \"notckd\", \"notckd\", \"notckd\", \"notckd\", \"notckd\", \"notckd\", \"notckd\", \"notckd\", \"notckd\", \"notckd\", \"notckd\", \"notckd\", \"notckd\", \"notckd\", \"notckd\", \"notckd\", \"notckd\", \"notckd\", \"notckd\", \"notckd\", \"notckd\", \"notckd\", \"notckd\", \"notckd\", \"notckd\", \"notckd\", \"notckd\", \"notckd\", \"notckd\", \"notckd\", \"notckd\", \"notckd\", \"notckd\", \"notckd\", \"notckd\", \"notckd\", \"notckd\", \"notckd\", \"notckd\", \"notckd\", \"notckd\", \"notckd\", \"notckd\", \"notckd\", \"notckd\", \"notckd\", \"notckd\", \"notckd\", \"notckd\", \"notckd\", \"notckd\", \"notckd\"], \"x0\": \" \", \"xaxis\": \"x\", \"y\": [48.0, 52.0, 46.0, 42.0, 49.0, 52.0, 41.0, 46.0, 44.0, 45.0, 45.0, 41.0, 43.0, 45.0, 50.0, 48.0, 41.0, 48.0, 53.0, 48.0, 41.0, 42.0, 42.0, null, 44.0, 43.0, 41.0, 50.0, 44.0, 48.0, 52.0, 41.0, 44.0, 43.0, 52.0, 41.0, 44.0, 43.0, 50.0, 43.0, 52.0, 41.0, 52.0, 48.0, 40.0, 50.0, 41.0, 45.0, 48.0, 52.0, 43.0, 41.0, 48.0, 50.0, 45.0, 41.0, 52.0, 44.0, 48.0, 40.0, 44.0, 45.0, 48.0, 52.0, 41.0, 48.0, 48.0, 40.0, 52.0, null, 44.0, 48.0, 43.0, 45.0, null, 50.0, 41.0, 44.0, 45.0, 48.0, 42.0, 46.0, 44.0, 46.0, 43.0, 48.0, 40.0, 52.0, 44.0, 48.0, 43.0, 41.0, 50.0, 50.0, 42.0, 42.0, 52.0, 43.0, 44.0, 52.0, 43.0, 40.0, 48.0, 51.0, 41.0, 52.0, 47.0, 42.0, 45.0, 53.0, 43.0, 54.0, 40.0, 44.0, 45.0, null, 46.0, 50.0, 45.0, 46.0, 50.0, 51.0, 52.0, 47.0, 40.0, 48.0, 53.0, 49.0, 42.0, 50.0, 54.0, 40.0, 51.0, 49.0, 42.0, 52.0, 43.0, 50.0, 46.0, 52.0, 52.0, 44.0, 46.0, 54.0, 45.0, 47.0, 54.0, 49.0, 51.0, 53.0], \"y0\": \" \", \"yaxis\": \"y\"}],\n",
              "                        {\"legend\": {\"tracegroupgap\": 0}, \"margin\": {\"t\": 60}, \"template\": {\"data\": {\"bar\": [{\"error_x\": {\"color\": \"#2a3f5f\"}, \"error_y\": {\"color\": \"#2a3f5f\"}, \"marker\": {\"line\": {\"color\": \"#E5ECF6\", \"width\": 0.5}}, \"type\": \"bar\"}], \"barpolar\": [{\"marker\": {\"line\": {\"color\": \"#E5ECF6\", \"width\": 0.5}}, \"type\": \"barpolar\"}], \"carpet\": [{\"aaxis\": {\"endlinecolor\": \"#2a3f5f\", \"gridcolor\": \"white\", \"linecolor\": \"white\", \"minorgridcolor\": \"white\", \"startlinecolor\": \"#2a3f5f\"}, \"baxis\": {\"endlinecolor\": \"#2a3f5f\", \"gridcolor\": \"white\", \"linecolor\": \"white\", \"minorgridcolor\": \"white\", \"startlinecolor\": \"#2a3f5f\"}, \"type\": \"carpet\"}], \"choropleth\": [{\"colorbar\": {\"outlinewidth\": 0, \"ticks\": \"\"}, \"type\": \"choropleth\"}], \"contour\": [{\"colorbar\": {\"outlinewidth\": 0, \"ticks\": \"\"}, \"colorscale\": [[0.0, \"#0d0887\"], [0.1111111111111111, \"#46039f\"], [0.2222222222222222, \"#7201a8\"], [0.3333333333333333, \"#9c179e\"], [0.4444444444444444, \"#bd3786\"], [0.5555555555555556, \"#d8576b\"], [0.6666666666666666, \"#ed7953\"], [0.7777777777777778, \"#fb9f3a\"], [0.8888888888888888, \"#fdca26\"], [1.0, \"#f0f921\"]], \"type\": \"contour\"}], \"contourcarpet\": [{\"colorbar\": {\"outlinewidth\": 0, \"ticks\": \"\"}, \"type\": \"contourcarpet\"}], \"heatmap\": [{\"colorbar\": {\"outlinewidth\": 0, \"ticks\": \"\"}, \"colorscale\": [[0.0, \"#0d0887\"], [0.1111111111111111, \"#46039f\"], [0.2222222222222222, \"#7201a8\"], [0.3333333333333333, \"#9c179e\"], [0.4444444444444444, \"#bd3786\"], [0.5555555555555556, \"#d8576b\"], [0.6666666666666666, \"#ed7953\"], [0.7777777777777778, \"#fb9f3a\"], [0.8888888888888888, \"#fdca26\"], [1.0, \"#f0f921\"]], \"type\": \"heatmap\"}], \"heatmapgl\": [{\"colorbar\": {\"outlinewidth\": 0, \"ticks\": \"\"}, \"colorscale\": [[0.0, \"#0d0887\"], [0.1111111111111111, \"#46039f\"], [0.2222222222222222, \"#7201a8\"], [0.3333333333333333, \"#9c179e\"], [0.4444444444444444, \"#bd3786\"], [0.5555555555555556, \"#d8576b\"], [0.6666666666666666, \"#ed7953\"], [0.7777777777777778, \"#fb9f3a\"], [0.8888888888888888, \"#fdca26\"], [1.0, \"#f0f921\"]], \"type\": \"heatmapgl\"}], \"histogram\": [{\"marker\": {\"colorbar\": {\"outlinewidth\": 0, \"ticks\": \"\"}}, \"type\": \"histogram\"}], \"histogram2d\": [{\"colorbar\": {\"outlinewidth\": 0, \"ticks\": \"\"}, \"colorscale\": [[0.0, \"#0d0887\"], [0.1111111111111111, \"#46039f\"], [0.2222222222222222, \"#7201a8\"], [0.3333333333333333, \"#9c179e\"], [0.4444444444444444, \"#bd3786\"], [0.5555555555555556, \"#d8576b\"], [0.6666666666666666, \"#ed7953\"], [0.7777777777777778, \"#fb9f3a\"], [0.8888888888888888, \"#fdca26\"], [1.0, \"#f0f921\"]], \"type\": \"histogram2d\"}], \"histogram2dcontour\": [{\"colorbar\": {\"outlinewidth\": 0, \"ticks\": \"\"}, \"colorscale\": [[0.0, \"#0d0887\"], [0.1111111111111111, \"#46039f\"], [0.2222222222222222, \"#7201a8\"], [0.3333333333333333, \"#9c179e\"], [0.4444444444444444, \"#bd3786\"], [0.5555555555555556, \"#d8576b\"], [0.6666666666666666, \"#ed7953\"], [0.7777777777777778, \"#fb9f3a\"], [0.8888888888888888, \"#fdca26\"], [1.0, \"#f0f921\"]], \"type\": \"histogram2dcontour\"}], \"mesh3d\": [{\"colorbar\": {\"outlinewidth\": 0, \"ticks\": \"\"}, \"type\": \"mesh3d\"}], \"parcoords\": [{\"line\": {\"colorbar\": {\"outlinewidth\": 0, \"ticks\": \"\"}}, \"type\": \"parcoords\"}], \"pie\": [{\"automargin\": true, \"type\": \"pie\"}], \"scatter\": [{\"marker\": {\"colorbar\": {\"outlinewidth\": 0, \"ticks\": \"\"}}, \"type\": \"scatter\"}], \"scatter3d\": [{\"line\": {\"colorbar\": {\"outlinewidth\": 0, \"ticks\": \"\"}}, \"marker\": {\"colorbar\": {\"outlinewidth\": 0, \"ticks\": \"\"}}, \"type\": \"scatter3d\"}], \"scattercarpet\": [{\"marker\": {\"colorbar\": {\"outlinewidth\": 0, \"ticks\": \"\"}}, \"type\": \"scattercarpet\"}], \"scattergeo\": [{\"marker\": {\"colorbar\": {\"outlinewidth\": 0, \"ticks\": \"\"}}, \"type\": \"scattergeo\"}], \"scattergl\": [{\"marker\": {\"colorbar\": {\"outlinewidth\": 0, \"ticks\": \"\"}}, \"type\": \"scattergl\"}], \"scattermapbox\": [{\"marker\": {\"colorbar\": {\"outlinewidth\": 0, \"ticks\": \"\"}}, \"type\": \"scattermapbox\"}], \"scatterpolar\": [{\"marker\": {\"colorbar\": {\"outlinewidth\": 0, \"ticks\": \"\"}}, \"type\": \"scatterpolar\"}], \"scatterpolargl\": [{\"marker\": {\"colorbar\": {\"outlinewidth\": 0, \"ticks\": \"\"}}, \"type\": \"scatterpolargl\"}], \"scatterternary\": [{\"marker\": {\"colorbar\": {\"outlinewidth\": 0, \"ticks\": \"\"}}, \"type\": \"scatterternary\"}], \"surface\": [{\"colorbar\": {\"outlinewidth\": 0, \"ticks\": \"\"}, \"colorscale\": [[0.0, \"#0d0887\"], [0.1111111111111111, \"#46039f\"], [0.2222222222222222, \"#7201a8\"], [0.3333333333333333, \"#9c179e\"], [0.4444444444444444, \"#bd3786\"], [0.5555555555555556, \"#d8576b\"], [0.6666666666666666, \"#ed7953\"], [0.7777777777777778, \"#fb9f3a\"], [0.8888888888888888, \"#fdca26\"], [1.0, \"#f0f921\"]], \"type\": \"surface\"}], \"table\": [{\"cells\": {\"fill\": {\"color\": \"#EBF0F8\"}, \"line\": {\"color\": \"white\"}}, \"header\": {\"fill\": {\"color\": \"#C8D4E3\"}, \"line\": {\"color\": \"white\"}}, \"type\": \"table\"}]}, \"layout\": {\"annotationdefaults\": {\"arrowcolor\": \"#2a3f5f\", \"arrowhead\": 0, \"arrowwidth\": 1}, \"coloraxis\": {\"colorbar\": {\"outlinewidth\": 0, \"ticks\": \"\"}}, \"colorscale\": {\"diverging\": [[0, \"#8e0152\"], [0.1, \"#c51b7d\"], [0.2, \"#de77ae\"], [0.3, \"#f1b6da\"], [0.4, \"#fde0ef\"], [0.5, \"#f7f7f7\"], [0.6, \"#e6f5d0\"], [0.7, \"#b8e186\"], [0.8, \"#7fbc41\"], [0.9, \"#4d9221\"], [1, \"#276419\"]], \"sequential\": [[0.0, \"#0d0887\"], [0.1111111111111111, \"#46039f\"], [0.2222222222222222, \"#7201a8\"], [0.3333333333333333, \"#9c179e\"], [0.4444444444444444, \"#bd3786\"], [0.5555555555555556, \"#d8576b\"], [0.6666666666666666, \"#ed7953\"], [0.7777777777777778, \"#fb9f3a\"], [0.8888888888888888, \"#fdca26\"], [1.0, \"#f0f921\"]], \"sequentialminus\": [[0.0, \"#0d0887\"], [0.1111111111111111, \"#46039f\"], [0.2222222222222222, \"#7201a8\"], [0.3333333333333333, \"#9c179e\"], [0.4444444444444444, \"#bd3786\"], [0.5555555555555556, \"#d8576b\"], [0.6666666666666666, \"#ed7953\"], [0.7777777777777778, \"#fb9f3a\"], [0.8888888888888888, \"#fdca26\"], [1.0, \"#f0f921\"]]}, \"colorway\": [\"#636efa\", \"#EF553B\", \"#00cc96\", \"#ab63fa\", \"#FFA15A\", \"#19d3f3\", \"#FF6692\", \"#B6E880\", \"#FF97FF\", \"#FECB52\"], \"font\": {\"color\": \"#2a3f5f\"}, \"geo\": {\"bgcolor\": \"white\", \"lakecolor\": \"white\", \"landcolor\": \"#E5ECF6\", \"showlakes\": true, \"showland\": true, \"subunitcolor\": \"white\"}, \"hoverlabel\": {\"align\": \"left\"}, \"hovermode\": \"closest\", \"mapbox\": {\"style\": \"light\"}, \"paper_bgcolor\": \"white\", \"plot_bgcolor\": \"#E5ECF6\", \"polar\": {\"angularaxis\": {\"gridcolor\": \"white\", \"linecolor\": \"white\", \"ticks\": \"\"}, \"bgcolor\": \"#E5ECF6\", \"radialaxis\": {\"gridcolor\": \"white\", \"linecolor\": \"white\", \"ticks\": \"\"}}, \"scene\": {\"xaxis\": {\"backgroundcolor\": \"#E5ECF6\", \"gridcolor\": \"white\", \"gridwidth\": 2, \"linecolor\": \"white\", \"showbackground\": true, \"ticks\": \"\", \"zerolinecolor\": \"white\"}, \"yaxis\": {\"backgroundcolor\": \"#E5ECF6\", \"gridcolor\": \"white\", \"gridwidth\": 2, \"linecolor\": \"white\", \"showbackground\": true, \"ticks\": \"\", \"zerolinecolor\": \"white\"}, \"zaxis\": {\"backgroundcolor\": \"#E5ECF6\", \"gridcolor\": \"white\", \"gridwidth\": 2, \"linecolor\": \"white\", \"showbackground\": true, \"ticks\": \"\", \"zerolinecolor\": \"white\"}}, \"shapedefaults\": {\"line\": {\"color\": \"#2a3f5f\"}}, \"ternary\": {\"aaxis\": {\"gridcolor\": \"white\", \"linecolor\": \"white\", \"ticks\": \"\"}, \"baxis\": {\"gridcolor\": \"white\", \"linecolor\": \"white\", \"ticks\": \"\"}, \"bgcolor\": \"#E5ECF6\", \"caxis\": {\"gridcolor\": \"white\", \"linecolor\": \"white\", \"ticks\": \"\"}}, \"title\": {\"x\": 0.05}, \"xaxis\": {\"automargin\": true, \"gridcolor\": \"white\", \"linecolor\": \"white\", \"ticks\": \"\", \"title\": {\"standoff\": 15}, \"zerolinecolor\": \"white\", \"zerolinewidth\": 2}, \"yaxis\": {\"automargin\": true, \"gridcolor\": \"white\", \"linecolor\": \"white\", \"ticks\": \"\", \"title\": {\"standoff\": 15}, \"zerolinecolor\": \"white\", \"zerolinewidth\": 2}}}, \"violinmode\": \"group\", \"xaxis\": {\"anchor\": \"y\", \"categoryarray\": [\"ckd\", \"notckd\"], \"categoryorder\": \"array\", \"domain\": [0.0, 1.0], \"title\": {\"text\": \"class\"}}, \"yaxis\": {\"anchor\": \"x\", \"domain\": [0.0, 1.0], \"title\": {\"text\": \"packed cell volume\"}}},\n",
              "                        {\"responsive\": true}\n",
              "                    ).then(function(){\n",
              "                            \n",
              "var gd = document.getElementById('2f1d2ee3-85c1-470c-af88-f26f4c70c888');\n",
              "var x = new MutationObserver(function (mutations, observer) {{\n",
              "        var display = window.getComputedStyle(gd).display;\n",
              "        if (!display || display === 'none') {{\n",
              "            console.log([gd, 'removed!']);\n",
              "            Plotly.purge(gd);\n",
              "            observer.disconnect();\n",
              "        }}\n",
              "}});\n",
              "\n",
              "// Listen for the removal of the full notebook cells\n",
              "var notebookContainer = gd.closest('#notebook-container');\n",
              "if (notebookContainer) {{\n",
              "    x.observe(notebookContainer, {childList: true});\n",
              "}}\n",
              "\n",
              "// Listen for the clearing of the current output cell\n",
              "var outputEl = gd.closest('.output');\n",
              "if (outputEl) {{\n",
              "    x.observe(outputEl, {childList: true});\n",
              "}}\n",
              "\n",
              "                        })\n",
              "                };\n",
              "                \n",
              "            </script>\n",
              "        </div>\n",
              "</body>\n",
              "</html>"
            ]
          },
          "metadata": {}
        }
      ]
    },
    {
      "cell_type": "markdown",
      "metadata": {
        "id": "9Exz39_QjIXi"
      },
      "source": [
        "When RBC count is between 35 to 56 then there is a high probabilty that the person is negative for Chronic Kidney Disease. RBC count < 35 means huge probability for testing positive for Chronic Kidney Disease."
      ]
    },
    {
      "cell_type": "code",
      "metadata": {
        "colab": {
          "base_uri": "https://localhost:8080/",
          "height": 0
        },
        "id": "_0KR9qyVjk6n",
        "outputId": "d752e5f6-7c69-4888-c0e8-a2a1a345ddc4"
      },
      "source": [
        "scatters('red blood cell count', 'albumin')"
      ],
      "execution_count": 42,
      "outputs": [
        {
          "output_type": "display_data",
          "data": {
            "text/html": [
              "<html>\n",
              "<head><meta charset=\"utf-8\" /></head>\n",
              "<body>\n",
              "    <div>\n",
              "            <script src=\"https://cdnjs.cloudflare.com/ajax/libs/mathjax/2.7.5/MathJax.js?config=TeX-AMS-MML_SVG\"></script><script type=\"text/javascript\">if (window.MathJax) {MathJax.Hub.Config({SVG: {font: \"STIX-Web\"}});}</script>\n",
              "                <script type=\"text/javascript\">window.PlotlyConfig = {MathJaxConfig: 'local'};</script>\n",
              "        <script src=\"https://cdn.plot.ly/plotly-latest.min.js\"></script>    \n",
              "            <div id=\"fab7d038-2b9f-41fb-be19-9cd439fd90ef\" class=\"plotly-graph-div\" style=\"height:525px; width:100%;\"></div>\n",
              "            <script type=\"text/javascript\">\n",
              "                \n",
              "                    window.PLOTLYENV=window.PLOTLYENV || {};\n",
              "                    \n",
              "                if (document.getElementById(\"fab7d038-2b9f-41fb-be19-9cd439fd90ef\")) {\n",
              "                    Plotly.newPlot(\n",
              "                        'fab7d038-2b9f-41fb-be19-9cd439fd90ef',\n",
              "                        [{\"hoverlabel\": {\"namelength\": 0}, \"hovertemplate\": \"class=ckd<br>red blood cell count=%{x}<br>albumin=%{y}\", \"legendgroup\": \"class=ckd\", \"marker\": {\"color\": \"#636efa\", \"symbol\": \"circle\"}, \"mode\": \"markers\", \"name\": \"class=ckd\", \"showlegend\": true, \"type\": \"scatter\", \"x\": [5.2, null, null, 3.9, 4.6, 4.4, null, 5.0, 4.0, 3.7, null, 3.8, 3.4, null, 2.6, 2.8, null, null, 4.3, 3.7, 3.2, 3.6, 3.4, null, 4.6, 3.7, 4.0, 4.1, null, null, null, 4.0, 4.0, null, null, 4.9, null, 2.5, null, 4.2, 4.1, null, 4.5, 3.1, null, null, 4.7, null, 3.5, 3.5, 3.8, null, 3.7, 4.7, 4.2, null, 3.4, null, 4.3, null, null, null, 3.8, null, null, null, null, null, null, 6.0, 5.2, 3.2, null, null, 3.4, null, 4.0, 3.7, null, 5.0, 3.8, 3.7, null, null, 2.1, null, null, 5.0, 4.7, null, 4.2, 5.6, 3.6, 3.2, 3.9, null, null, 4.0, 2.3, 4.2, null, 3.9, null, 4.2, null, 5.2, null, 4.4, 4.2, null, 4.7, 3.9, null, null, null, 4.3, null, 4.4, null, null, null, null, null, null, 3.6, null, 4.5, 4.3, 2.9, null, 2.7, null, 2.7, 8.0, 3.8, null, null, null, null, null, null, null, null, null, 4.1, 3.3, null, 3.0, null, null, null, null, null, 2.9, 3.0, null, null, 3.9, null, 4.3, 2.4, 4.8, null, 3.2, 5.4, null, null, null, null, null, 4.4, 3.1, 4.9, null, 4.6, 3.4, 3.9, null, null, null, null, 3.7, null, null, 3.6, null, null, null, null, 3.4, 4.8, 3.4, null, 2.8, null, null, 3.5, 3.0, 3.9, 3.2, 3.9, null, null, null, null, null, null, 4.6, 4.9, null, 3.9, null, 3.4, 3.7, 5.2, null, null, 4.3, null, 3.3, null, null, null, 4.6, null, 4.5, 3.4, 3.8, null, 3.8, null, null, null, null, 5.2, null, null, null, null, null, 4.1, 3.9, 3.3, 6.1, 4.6, 2.6, 2.5, null, 4.1, 2.1], \"xaxis\": \"x\", \"y\": [1.0, 4.0, 2.0, 4.0, 2.0, 3.0, 0.0, 2.0, 3.0, 2.0, 2.0, 3.0, 3.0, null, 3.0, 3.0, 2.0, null, 0.0, 1.0, 2.0, null, 4.0, 0.0, 4.0, 0.0, 0.0, 3.0, 1.0, 1.0, null, 3.0, 1.0, 2.0, 1.0, 2.0, 1.0, null, 3.0, 2.0, 2.0, 0.0, 0.0, 1.0, 3.0, 3.0, 0.0, 3.0, 0.0, 2.0, null, 3.0, 0.0, 0.0, 2.0, 3.0, 3.0, null, 2.0, null, 1.0, 1.0, 3.0, 1.0, 0.0, 1.0, 2.0, 3.0, 2.0, 0.0, 0.0, 1.0, 3.0, 2.0, 2.0, 1.0, 4.0, 1.0, null, 1.0, 0.0, null, null, 1.0, 3.0, 2.0, null, 1.0, 4.0, 0.0, 2.0, 4.0, 3.0, 3.0, 0.0, 1.0, 1.0, 1.0, null, 0.0, 4.0, 2.0, 0.0, 2.0, null, 0.0, null, 1.0, 0.0, null, 0.0, 3.0, 3.0, 0.0, 3.0, 0.0, 4.0, 0.0, 3.0, 0.0, 1.0, 3.0, null, 2.0, 0.0, null, 0.0, 4.0, 4.0, 1.0, 2.0, 0.0, null, 4.0, null, 0.0, null, 2.0, 1.0, 2.0, 0.0, 1.0, null, 1.0, 2.0, 5.0, 1.0, 3.0, null, 1.0, 3.0, null, 0.0, 2.0, 4.0, 3.0, 2.0, 3.0, 3.0, 1.0, null, 3.0, null, 0.0, 0.0, 0.0, null, 0.0, 4.0, 0.0, 2.0, 3.0, 1.0, 1.0, null, 0.0, 4.0, 2.0, 2.0, 2.0, 1.0, 2.0, 0.0, 0.0, 3.0, 1.0, 4.0, 2.0, null, 4.0, 4.0, 3.0, 0.0, 1.0, 2.0, 2.0, 3.0, null, 4.0, 0.0, 1.0, null, null, null, 4.0, null, 1.0, 0.0, null, 0.0, 4.0, 0.0, 3.0, 3.0, 0.0, 3.0, 0.0, 1.0, 0.0, 0.0, 0.0, 1.0, null, 0.0, 0.0, 3.0, 4.0, 0.0, null, 3.0, 2.0, null, 1.0, 2.0, 0.0, 2.0, null, 2.0, null, 2.0, 1.0, 1.0, 4.0, 2.0, 3.0, null, 3.0, 1.0, 1.0, 4.0], \"yaxis\": \"y\"}, {\"hoverlabel\": {\"namelength\": 0}, \"hovertemplate\": \"class=notckd<br>red blood cell count=%{x}<br>albumin=%{y}\", \"legendgroup\": \"class=notckd\", \"marker\": {\"color\": \"#EF553B\", \"symbol\": \"circle\"}, \"mode\": \"markers\", \"name\": \"class=notckd\", \"showlegend\": true, \"type\": \"scatter\", \"x\": [4.5, 5.0, 4.7, 6.2, 5.2, 6.3, 5.1, 5.8, 5.5, 5.2, 5.3, 4.9, 5.4, 5.2, 4.5, 5.0, 5.3, 4.8, 4.9, 5.3, 5.0, 4.5, 5.5, null, null, 4.6, 5.5, 4.8, 6.4, 5.6, 5.2, 6.0, 4.8, 5.7, 6.0, 5.9, 6.0, null, 5.1, 5.3, 5.9, 5.7, 5.0, 5.4, 5.8, 6.5, 5.9, 5.2, 4.9, 4.7, 5.8, 5.0, null, 6.1, 4.5, 5.2, 5.7, 4.5, 4.9, 5.9, 5.4, 5.6, 6.1, 4.8, 4.7, 4.4, 5.2, 4.9, 5.3, null, 6.2, 4.8, 4.9, 4.5, null, 6.5, 5.2, 5.8, 6.5, 5.1, null, 4.5, 6.1, 5.5, 4.5, 5.6, 5.2, 6.2, 4.5, 4.9, 5.9, 4.7, 6.3, 5.7, 4.7, 6.4, 5.8, 5.5, 6.4, 6.1, 4.5, 4.7, 5.2, 4.5, 5.1, 4.6, 6.1, 4.9, 5.6, 4.5, 6.2, 5.8, 4.8, 5.2, 4.7, 6.3, 5.3, 6.1, 5.9, 4.8, 5.4, 5.0, 5.5, 4.9, 6.4, 5.6, 5.2, 4.8, 5.5, 5.7, 4.9, 5.9, 6.5, 5.0, 4.5, 5.1, 6.5, 5.2, 6.4, 5.8, 5.3, 6.3, 5.5, 5.4, 4.6, 4.9, 6.2, 5.4, 5.9, 6.1], \"xaxis\": \"x\", \"y\": [0.0, 0.0, 0.0, 0.0, 0.0, 0.0, 0.0, 0.0, 0.0, 0.0, 0.0, 0.0, 0.0, 0.0, 0.0, 0.0, 0.0, 0.0, null, 0.0, 0.0, 0.0, 0.0, 0.0, 0.0, 0.0, 0.0, 0.0, 0.0, 0.0, null, 0.0, 0.0, 0.0, 0.0, 0.0, 0.0, 0.0, 0.0, 0.0, 0.0, 0.0, 0.0, 0.0, 0.0, null, 0.0, 0.0, 0.0, 0.0, 0.0, 0.0, 0.0, 0.0, 0.0, 0.0, 0.0, 0.0, 0.0, 0.0, 0.0, 0.0, 0.0, 0.0, 0.0, 0.0, 0.0, 0.0, 0.0, 0.0, 0.0, 0.0, null, 0.0, 0.0, 0.0, 0.0, 0.0, 0.0, 0.0, 0.0, 0.0, 0.0, 0.0, 0.0, 0.0, 0.0, 0.0, 0.0, 0.0, 0.0, 0.0, 0.0, 0.0, 0.0, 0.0, null, 0.0, 0.0, 0.0, 0.0, 0.0, 0.0, 0.0, 0.0, 0.0, 0.0, 0.0, 0.0, 0.0, 0.0, 0.0, 0.0, 0.0, 0.0, 0.0, 0.0, 0.0, 0.0, 0.0, 0.0, 0.0, 0.0, 0.0, 0.0, 0.0, 0.0, 0.0, 0.0, 0.0, 0.0, 0.0, 0.0, 0.0, 0.0, 0.0, 0.0, 0.0, 0.0, 0.0, 0.0, 0.0, 0.0, 0.0, 0.0, 0.0, 0.0, 0.0, 0.0, 0.0], \"yaxis\": \"y\"}],\n",
              "                        {\"legend\": {\"tracegroupgap\": 0}, \"margin\": {\"t\": 60}, \"template\": {\"data\": {\"bar\": [{\"error_x\": {\"color\": \"#2a3f5f\"}, \"error_y\": {\"color\": \"#2a3f5f\"}, \"marker\": {\"line\": {\"color\": \"#E5ECF6\", \"width\": 0.5}}, \"type\": \"bar\"}], \"barpolar\": [{\"marker\": {\"line\": {\"color\": \"#E5ECF6\", \"width\": 0.5}}, \"type\": \"barpolar\"}], \"carpet\": [{\"aaxis\": {\"endlinecolor\": \"#2a3f5f\", \"gridcolor\": \"white\", \"linecolor\": \"white\", \"minorgridcolor\": \"white\", \"startlinecolor\": \"#2a3f5f\"}, \"baxis\": {\"endlinecolor\": \"#2a3f5f\", \"gridcolor\": \"white\", \"linecolor\": \"white\", \"minorgridcolor\": \"white\", \"startlinecolor\": \"#2a3f5f\"}, \"type\": \"carpet\"}], \"choropleth\": [{\"colorbar\": {\"outlinewidth\": 0, \"ticks\": \"\"}, \"type\": \"choropleth\"}], \"contour\": [{\"colorbar\": {\"outlinewidth\": 0, \"ticks\": \"\"}, \"colorscale\": [[0.0, \"#0d0887\"], [0.1111111111111111, \"#46039f\"], [0.2222222222222222, \"#7201a8\"], [0.3333333333333333, \"#9c179e\"], [0.4444444444444444, \"#bd3786\"], [0.5555555555555556, \"#d8576b\"], [0.6666666666666666, \"#ed7953\"], [0.7777777777777778, \"#fb9f3a\"], [0.8888888888888888, \"#fdca26\"], [1.0, \"#f0f921\"]], \"type\": \"contour\"}], \"contourcarpet\": [{\"colorbar\": {\"outlinewidth\": 0, \"ticks\": \"\"}, \"type\": \"contourcarpet\"}], \"heatmap\": [{\"colorbar\": {\"outlinewidth\": 0, \"ticks\": \"\"}, \"colorscale\": [[0.0, \"#0d0887\"], [0.1111111111111111, \"#46039f\"], [0.2222222222222222, \"#7201a8\"], [0.3333333333333333, \"#9c179e\"], [0.4444444444444444, \"#bd3786\"], [0.5555555555555556, \"#d8576b\"], [0.6666666666666666, \"#ed7953\"], [0.7777777777777778, \"#fb9f3a\"], [0.8888888888888888, \"#fdca26\"], [1.0, \"#f0f921\"]], \"type\": \"heatmap\"}], \"heatmapgl\": [{\"colorbar\": {\"outlinewidth\": 0, \"ticks\": \"\"}, \"colorscale\": [[0.0, \"#0d0887\"], [0.1111111111111111, \"#46039f\"], [0.2222222222222222, \"#7201a8\"], [0.3333333333333333, \"#9c179e\"], [0.4444444444444444, \"#bd3786\"], [0.5555555555555556, \"#d8576b\"], [0.6666666666666666, \"#ed7953\"], [0.7777777777777778, \"#fb9f3a\"], [0.8888888888888888, \"#fdca26\"], [1.0, \"#f0f921\"]], \"type\": \"heatmapgl\"}], \"histogram\": [{\"marker\": {\"colorbar\": {\"outlinewidth\": 0, \"ticks\": \"\"}}, \"type\": \"histogram\"}], \"histogram2d\": [{\"colorbar\": {\"outlinewidth\": 0, \"ticks\": \"\"}, \"colorscale\": [[0.0, \"#0d0887\"], [0.1111111111111111, \"#46039f\"], [0.2222222222222222, \"#7201a8\"], [0.3333333333333333, \"#9c179e\"], [0.4444444444444444, \"#bd3786\"], [0.5555555555555556, \"#d8576b\"], [0.6666666666666666, \"#ed7953\"], [0.7777777777777778, \"#fb9f3a\"], [0.8888888888888888, \"#fdca26\"], [1.0, \"#f0f921\"]], \"type\": \"histogram2d\"}], \"histogram2dcontour\": [{\"colorbar\": {\"outlinewidth\": 0, \"ticks\": \"\"}, \"colorscale\": [[0.0, \"#0d0887\"], [0.1111111111111111, \"#46039f\"], [0.2222222222222222, \"#7201a8\"], [0.3333333333333333, \"#9c179e\"], [0.4444444444444444, \"#bd3786\"], [0.5555555555555556, \"#d8576b\"], [0.6666666666666666, \"#ed7953\"], [0.7777777777777778, \"#fb9f3a\"], [0.8888888888888888, \"#fdca26\"], [1.0, \"#f0f921\"]], \"type\": \"histogram2dcontour\"}], \"mesh3d\": [{\"colorbar\": {\"outlinewidth\": 0, \"ticks\": \"\"}, \"type\": \"mesh3d\"}], \"parcoords\": [{\"line\": {\"colorbar\": {\"outlinewidth\": 0, \"ticks\": \"\"}}, \"type\": \"parcoords\"}], \"pie\": [{\"automargin\": true, \"type\": \"pie\"}], \"scatter\": [{\"marker\": {\"colorbar\": {\"outlinewidth\": 0, \"ticks\": \"\"}}, \"type\": \"scatter\"}], \"scatter3d\": [{\"line\": {\"colorbar\": {\"outlinewidth\": 0, \"ticks\": \"\"}}, \"marker\": {\"colorbar\": {\"outlinewidth\": 0, \"ticks\": \"\"}}, \"type\": \"scatter3d\"}], \"scattercarpet\": [{\"marker\": {\"colorbar\": {\"outlinewidth\": 0, \"ticks\": \"\"}}, \"type\": \"scattercarpet\"}], \"scattergeo\": [{\"marker\": {\"colorbar\": {\"outlinewidth\": 0, \"ticks\": \"\"}}, \"type\": \"scattergeo\"}], \"scattergl\": [{\"marker\": {\"colorbar\": {\"outlinewidth\": 0, \"ticks\": \"\"}}, \"type\": \"scattergl\"}], \"scattermapbox\": [{\"marker\": {\"colorbar\": {\"outlinewidth\": 0, \"ticks\": \"\"}}, \"type\": \"scattermapbox\"}], \"scatterpolar\": [{\"marker\": {\"colorbar\": {\"outlinewidth\": 0, \"ticks\": \"\"}}, \"type\": \"scatterpolar\"}], \"scatterpolargl\": [{\"marker\": {\"colorbar\": {\"outlinewidth\": 0, \"ticks\": \"\"}}, \"type\": \"scatterpolargl\"}], \"scatterternary\": [{\"marker\": {\"colorbar\": {\"outlinewidth\": 0, \"ticks\": \"\"}}, \"type\": \"scatterternary\"}], \"surface\": [{\"colorbar\": {\"outlinewidth\": 0, \"ticks\": \"\"}, \"colorscale\": [[0.0, \"#0d0887\"], [0.1111111111111111, \"#46039f\"], [0.2222222222222222, \"#7201a8\"], [0.3333333333333333, \"#9c179e\"], [0.4444444444444444, \"#bd3786\"], [0.5555555555555556, \"#d8576b\"], [0.6666666666666666, \"#ed7953\"], [0.7777777777777778, \"#fb9f3a\"], [0.8888888888888888, \"#fdca26\"], [1.0, \"#f0f921\"]], \"type\": \"surface\"}], \"table\": [{\"cells\": {\"fill\": {\"color\": \"#EBF0F8\"}, \"line\": {\"color\": \"white\"}}, \"header\": {\"fill\": {\"color\": \"#C8D4E3\"}, \"line\": {\"color\": \"white\"}}, \"type\": \"table\"}]}, \"layout\": {\"annotationdefaults\": {\"arrowcolor\": \"#2a3f5f\", \"arrowhead\": 0, \"arrowwidth\": 1}, \"coloraxis\": {\"colorbar\": {\"outlinewidth\": 0, \"ticks\": \"\"}}, \"colorscale\": {\"diverging\": [[0, \"#8e0152\"], [0.1, \"#c51b7d\"], [0.2, \"#de77ae\"], [0.3, \"#f1b6da\"], [0.4, \"#fde0ef\"], [0.5, \"#f7f7f7\"], [0.6, \"#e6f5d0\"], [0.7, \"#b8e186\"], [0.8, \"#7fbc41\"], [0.9, \"#4d9221\"], [1, \"#276419\"]], \"sequential\": [[0.0, \"#0d0887\"], [0.1111111111111111, \"#46039f\"], [0.2222222222222222, \"#7201a8\"], [0.3333333333333333, \"#9c179e\"], [0.4444444444444444, \"#bd3786\"], [0.5555555555555556, \"#d8576b\"], [0.6666666666666666, \"#ed7953\"], [0.7777777777777778, \"#fb9f3a\"], [0.8888888888888888, \"#fdca26\"], [1.0, \"#f0f921\"]], \"sequentialminus\": [[0.0, \"#0d0887\"], [0.1111111111111111, \"#46039f\"], [0.2222222222222222, \"#7201a8\"], [0.3333333333333333, \"#9c179e\"], [0.4444444444444444, \"#bd3786\"], [0.5555555555555556, \"#d8576b\"], [0.6666666666666666, \"#ed7953\"], [0.7777777777777778, \"#fb9f3a\"], [0.8888888888888888, \"#fdca26\"], [1.0, \"#f0f921\"]]}, \"colorway\": [\"#636efa\", \"#EF553B\", \"#00cc96\", \"#ab63fa\", \"#FFA15A\", \"#19d3f3\", \"#FF6692\", \"#B6E880\", \"#FF97FF\", \"#FECB52\"], \"font\": {\"color\": \"#2a3f5f\"}, \"geo\": {\"bgcolor\": \"white\", \"lakecolor\": \"white\", \"landcolor\": \"#E5ECF6\", \"showlakes\": true, \"showland\": true, \"subunitcolor\": \"white\"}, \"hoverlabel\": {\"align\": \"left\"}, \"hovermode\": \"closest\", \"mapbox\": {\"style\": \"light\"}, \"paper_bgcolor\": \"white\", \"plot_bgcolor\": \"#E5ECF6\", \"polar\": {\"angularaxis\": {\"gridcolor\": \"white\", \"linecolor\": \"white\", \"ticks\": \"\"}, \"bgcolor\": \"#E5ECF6\", \"radialaxis\": {\"gridcolor\": \"white\", \"linecolor\": \"white\", \"ticks\": \"\"}}, \"scene\": {\"xaxis\": {\"backgroundcolor\": \"#E5ECF6\", \"gridcolor\": \"white\", \"gridwidth\": 2, \"linecolor\": \"white\", \"showbackground\": true, \"ticks\": \"\", \"zerolinecolor\": \"white\"}, \"yaxis\": {\"backgroundcolor\": \"#E5ECF6\", \"gridcolor\": \"white\", \"gridwidth\": 2, \"linecolor\": \"white\", \"showbackground\": true, \"ticks\": \"\", \"zerolinecolor\": \"white\"}, \"zaxis\": {\"backgroundcolor\": \"#E5ECF6\", \"gridcolor\": \"white\", \"gridwidth\": 2, \"linecolor\": \"white\", \"showbackground\": true, \"ticks\": \"\", \"zerolinecolor\": \"white\"}}, \"shapedefaults\": {\"line\": {\"color\": \"#2a3f5f\"}}, \"ternary\": {\"aaxis\": {\"gridcolor\": \"white\", \"linecolor\": \"white\", \"ticks\": \"\"}, \"baxis\": {\"gridcolor\": \"white\", \"linecolor\": \"white\", \"ticks\": \"\"}, \"bgcolor\": \"#E5ECF6\", \"caxis\": {\"gridcolor\": \"white\", \"linecolor\": \"white\", \"ticks\": \"\"}}, \"title\": {\"x\": 0.05}, \"xaxis\": {\"automargin\": true, \"gridcolor\": \"white\", \"linecolor\": \"white\", \"ticks\": \"\", \"title\": {\"standoff\": 15}, \"zerolinecolor\": \"white\", \"zerolinewidth\": 2}, \"yaxis\": {\"automargin\": true, \"gridcolor\": \"white\", \"linecolor\": \"white\", \"ticks\": \"\", \"title\": {\"standoff\": 15}, \"zerolinecolor\": \"white\", \"zerolinewidth\": 2}}}, \"xaxis\": {\"anchor\": \"y\", \"domain\": [0.0, 1.0], \"title\": {\"text\": \"red blood cell count\"}}, \"yaxis\": {\"anchor\": \"x\", \"domain\": [0.0, 1.0], \"title\": {\"text\": \"albumin\"}}},\n",
              "                        {\"responsive\": true}\n",
              "                    ).then(function(){\n",
              "                            \n",
              "var gd = document.getElementById('fab7d038-2b9f-41fb-be19-9cd439fd90ef');\n",
              "var x = new MutationObserver(function (mutations, observer) {{\n",
              "        var display = window.getComputedStyle(gd).display;\n",
              "        if (!display || display === 'none') {{\n",
              "            console.log([gd, 'removed!']);\n",
              "            Plotly.purge(gd);\n",
              "            observer.disconnect();\n",
              "        }}\n",
              "}});\n",
              "\n",
              "// Listen for the removal of the full notebook cells\n",
              "var notebookContainer = gd.closest('#notebook-container');\n",
              "if (notebookContainer) {{\n",
              "    x.observe(notebookContainer, {childList: true});\n",
              "}}\n",
              "\n",
              "// Listen for the clearing of the current output cell\n",
              "var outputEl = gd.closest('.output');\n",
              "if (outputEl) {{\n",
              "    x.observe(outputEl, {childList: true});\n",
              "}}\n",
              "\n",
              "                        })\n",
              "                };\n",
              "                \n",
              "            </script>\n",
              "        </div>\n",
              "</body>\n",
              "</html>"
            ]
          },
          "metadata": {}
        }
      ]
    },
    {
      "cell_type": "markdown",
      "metadata": {
        "id": "6qydn_7KjpmP"
      },
      "source": [
        "Albumin levels > 0 affect the chronic kidney disease largely. (increases the chances)"
      ]
    },
    {
      "cell_type": "code",
      "metadata": {
        "id": "qpj1QNr6j0dn"
      },
      "source": [
        ""
      ],
      "execution_count": 42,
      "outputs": []
    },
    {
      "cell_type": "markdown",
      "metadata": {
        "id": "1tQUIpQvmHXr"
      },
      "source": [
        "# Dealing with missing values"
      ]
    },
    {
      "cell_type": "code",
      "metadata": {
        "colab": {
          "base_uri": "https://localhost:8080/"
        },
        "id": "uM6-CYOKmKeu",
        "outputId": "9b4864f4-252a-46ac-a02a-5be35ff0d8bf"
      },
      "source": [
        "df.isna().sum().sort_values(ascending=False)"
      ],
      "execution_count": 43,
      "outputs": [
        {
          "output_type": "execute_result",
          "data": {
            "text/plain": [
              "red blood cells            152\n",
              "red blood cell count       131\n",
              "white blood cell count     106\n",
              "potassium                   88\n",
              "sodium                      87\n",
              "packed cell volume          71\n",
              " pus cell                   65\n",
              "haemoglobin                 52\n",
              "sugar                       49\n",
              "specific gravity            47\n",
              "albumin                     46\n",
              "blood glucose random        44\n",
              "blood urea                  19\n",
              "serum creatinine            17\n",
              "blood pressure              12\n",
              "age                          9\n",
              "bacteria                     4\n",
              "pus cell clumps              4\n",
              "ypertension                  2\n",
              "diabetes mellitus            2\n",
              "coronary artery disease      2\n",
              "anemia                       1\n",
              "appetite                     1\n",
              "pedal edema                  1\n",
              "class                        0\n",
              "dtype: int64"
            ]
          },
          "metadata": {},
          "execution_count": 43
        }
      ]
    },
    {
      "cell_type": "markdown",
      "metadata": {
        "id": "5jB-hPVamnmX"
      },
      "source": [
        "We can fill the missing values with (1) Mean (2) Median (3) Standard Deviation (4) Random\n",
        "\n",
        "For large ratios of missing values in dataset, mean negatively affects the prediction/ learning/ distribution\n",
        "\n",
        "We have to maintain the distribution of the data distribution\n",
        "\n",
        "We are going to fill random values to prevent change in ratio"
      ]
    },
    {
      "cell_type": "code",
      "metadata": {
        "colab": {
          "base_uri": "https://localhost:8080/"
        },
        "id": "LILy0aP3mQ5H",
        "outputId": "42531d42-3931-4a12-c91f-96694c75954d"
      },
      "source": [
        "df['red blood cells'].dropna().sample()"
      ],
      "execution_count": 44,
      "outputs": [
        {
          "output_type": "execute_result",
          "data": {
            "text/plain": [
              "225    abnormal\n",
              "Name: red blood cells, dtype: object"
            ]
          },
          "metadata": {},
          "execution_count": 44
        }
      ]
    },
    {
      "cell_type": "code",
      "metadata": {
        "colab": {
          "base_uri": "https://localhost:8080/"
        },
        "id": "nldTGoPd_kZ3",
        "outputId": "11bfc307-6a98-4de9-a601-47066c31b913"
      },
      "source": [
        "df['red blood cells'].isnull().sum()"
      ],
      "execution_count": 45,
      "outputs": [
        {
          "output_type": "execute_result",
          "data": {
            "text/plain": [
              "152"
            ]
          },
          "metadata": {},
          "execution_count": 45
        }
      ]
    },
    {
      "cell_type": "code",
      "metadata": {
        "colab": {
          "base_uri": "https://localhost:8080/"
        },
        "id": "BaUkjHBt_s6-",
        "outputId": "5eac6b78-e103-4ee9-88f3-c51f61beec86"
      },
      "source": [
        "random_sample=df['red blood cells'].dropna().sample(df['red blood cells'].isnull().sum())\n",
        "random_sample"
      ],
      "execution_count": 46,
      "outputs": [
        {
          "output_type": "execute_result",
          "data": {
            "text/plain": [
              "294      normal\n",
              "357      normal\n",
              "116    abnormal\n",
              "239      normal\n",
              "337      normal\n",
              "         ...   \n",
              "133      normal\n",
              "292      normal\n",
              "392      normal\n",
              "7        normal\n",
              "272      normal\n",
              "Name: red blood cells, Length: 152, dtype: object"
            ]
          },
          "metadata": {},
          "execution_count": 46
        }
      ]
    },
    {
      "cell_type": "code",
      "metadata": {
        "colab": {
          "base_uri": "https://localhost:8080/"
        },
        "id": "fHnw5_vA_34l",
        "outputId": "f76084e7-6dc6-4acc-fda9-0bef8628944d"
      },
      "source": [
        "df[df['red blood cells'].isnull()].index"
      ],
      "execution_count": 47,
      "outputs": [
        {
          "output_type": "execute_result",
          "data": {
            "text/plain": [
              "Int64Index([  0,   1,   5,   6,  10,  12,  13,  15,  16,  17,\n",
              "            ...\n",
              "            245, 268, 280, 290, 295, 309, 322, 349, 350, 381],\n",
              "           dtype='int64', length=152)"
            ]
          },
          "metadata": {},
          "execution_count": 47
        }
      ]
    },
    {
      "cell_type": "code",
      "metadata": {
        "colab": {
          "base_uri": "https://localhost:8080/"
        },
        "id": "QtpaejKDAHnl",
        "outputId": "aa864f5b-cfc3-4d67-b5a2-000f037611ac"
      },
      "source": [
        "random_sample.index"
      ],
      "execution_count": 48,
      "outputs": [
        {
          "output_type": "execute_result",
          "data": {
            "text/plain": [
              "Int64Index([294, 357, 116, 239, 337, 308,  63, 363, 376, 330,\n",
              "            ...\n",
              "            341, 103, 176, 159, 155, 133, 292, 392,   7, 272],\n",
              "           dtype='int64', length=152)"
            ]
          },
          "metadata": {},
          "execution_count": 48
        }
      ]
    },
    {
      "cell_type": "code",
      "metadata": {
        "colab": {
          "base_uri": "https://localhost:8080/"
        },
        "id": "2F_t2Ls6AWPd",
        "outputId": "e59bb9ee-3891-4832-8b12-622da72e53db"
      },
      "source": [
        "random_sample.index= df[df['red blood cells'].isnull()].index\n",
        "random_sample.index"
      ],
      "execution_count": 49,
      "outputs": [
        {
          "output_type": "execute_result",
          "data": {
            "text/plain": [
              "Int64Index([  0,   1,   5,   6,  10,  12,  13,  15,  16,  17,\n",
              "            ...\n",
              "            245, 268, 280, 290, 295, 309, 322, 349, 350, 381],\n",
              "           dtype='int64', length=152)"
            ]
          },
          "metadata": {},
          "execution_count": 49
        }
      ]
    },
    {
      "cell_type": "code",
      "metadata": {
        "colab": {
          "base_uri": "https://localhost:8080/"
        },
        "id": "aeHm9PuVAlpx",
        "outputId": "97dc3729-0fad-4fa1-f1df-56838866a35d"
      },
      "source": [
        "random_sample"
      ],
      "execution_count": 50,
      "outputs": [
        {
          "output_type": "execute_result",
          "data": {
            "text/plain": [
              "0        normal\n",
              "1        normal\n",
              "5      abnormal\n",
              "6        normal\n",
              "10       normal\n",
              "         ...   \n",
              "309      normal\n",
              "322      normal\n",
              "349      normal\n",
              "350      normal\n",
              "381      normal\n",
              "Name: red blood cells, Length: 152, dtype: object"
            ]
          },
          "metadata": {},
          "execution_count": 50
        }
      ]
    },
    {
      "cell_type": "code",
      "metadata": {
        "id": "cp6ndIWCAmb4"
      },
      "source": [
        "df.loc[df['red blood cells'].isnull(), 'red blood cells']= random_sample"
      ],
      "execution_count": 51,
      "outputs": []
    },
    {
      "cell_type": "code",
      "metadata": {
        "colab": {
          "base_uri": "https://localhost:8080/",
          "height": 0
        },
        "id": "U8CoLa5xA1Ef",
        "outputId": "fe843e03-7299-4464-c16c-4b709db22555"
      },
      "source": [
        "df.head()"
      ],
      "execution_count": 52,
      "outputs": [
        {
          "output_type": "execute_result",
          "data": {
            "text/html": [
              "<div>\n",
              "<style scoped>\n",
              "    .dataframe tbody tr th:only-of-type {\n",
              "        vertical-align: middle;\n",
              "    }\n",
              "\n",
              "    .dataframe tbody tr th {\n",
              "        vertical-align: top;\n",
              "    }\n",
              "\n",
              "    .dataframe thead th {\n",
              "        text-align: right;\n",
              "    }\n",
              "</style>\n",
              "<table border=\"1\" class=\"dataframe\">\n",
              "  <thead>\n",
              "    <tr style=\"text-align: right;\">\n",
              "      <th></th>\n",
              "      <th>age</th>\n",
              "      <th>blood pressure</th>\n",
              "      <th>specific gravity</th>\n",
              "      <th>albumin</th>\n",
              "      <th>sugar</th>\n",
              "      <th>red blood cells</th>\n",
              "      <th>pus cell</th>\n",
              "      <th>pus cell clumps</th>\n",
              "      <th>bacteria</th>\n",
              "      <th>blood glucose random</th>\n",
              "      <th>blood urea</th>\n",
              "      <th>serum creatinine</th>\n",
              "      <th>sodium</th>\n",
              "      <th>potassium</th>\n",
              "      <th>haemoglobin</th>\n",
              "      <th>packed cell volume</th>\n",
              "      <th>white blood cell count</th>\n",
              "      <th>red blood cell count</th>\n",
              "      <th>ypertension</th>\n",
              "      <th>diabetes mellitus</th>\n",
              "      <th>coronary artery disease</th>\n",
              "      <th>appetite</th>\n",
              "      <th>pedal edema</th>\n",
              "      <th>anemia</th>\n",
              "      <th>class</th>\n",
              "    </tr>\n",
              "  </thead>\n",
              "  <tbody>\n",
              "    <tr>\n",
              "      <th>0</th>\n",
              "      <td>48.0</td>\n",
              "      <td>80.0</td>\n",
              "      <td>1.020</td>\n",
              "      <td>1.0</td>\n",
              "      <td>0.0</td>\n",
              "      <td>normal</td>\n",
              "      <td>normal</td>\n",
              "      <td>notpresent</td>\n",
              "      <td>notpresent</td>\n",
              "      <td>121.0</td>\n",
              "      <td>36.0</td>\n",
              "      <td>1.2</td>\n",
              "      <td>NaN</td>\n",
              "      <td>NaN</td>\n",
              "      <td>15.4</td>\n",
              "      <td>44.0</td>\n",
              "      <td>7800.0</td>\n",
              "      <td>5.2</td>\n",
              "      <td>yes</td>\n",
              "      <td>yes</td>\n",
              "      <td>no</td>\n",
              "      <td>good</td>\n",
              "      <td>no</td>\n",
              "      <td>no</td>\n",
              "      <td>ckd</td>\n",
              "    </tr>\n",
              "    <tr>\n",
              "      <th>1</th>\n",
              "      <td>7.0</td>\n",
              "      <td>50.0</td>\n",
              "      <td>1.020</td>\n",
              "      <td>4.0</td>\n",
              "      <td>0.0</td>\n",
              "      <td>normal</td>\n",
              "      <td>normal</td>\n",
              "      <td>notpresent</td>\n",
              "      <td>notpresent</td>\n",
              "      <td>NaN</td>\n",
              "      <td>18.0</td>\n",
              "      <td>0.8</td>\n",
              "      <td>NaN</td>\n",
              "      <td>NaN</td>\n",
              "      <td>11.3</td>\n",
              "      <td>38.0</td>\n",
              "      <td>6000.0</td>\n",
              "      <td>NaN</td>\n",
              "      <td>no</td>\n",
              "      <td>no</td>\n",
              "      <td>no</td>\n",
              "      <td>good</td>\n",
              "      <td>no</td>\n",
              "      <td>no</td>\n",
              "      <td>ckd</td>\n",
              "    </tr>\n",
              "    <tr>\n",
              "      <th>2</th>\n",
              "      <td>62.0</td>\n",
              "      <td>80.0</td>\n",
              "      <td>1.010</td>\n",
              "      <td>2.0</td>\n",
              "      <td>3.0</td>\n",
              "      <td>normal</td>\n",
              "      <td>normal</td>\n",
              "      <td>notpresent</td>\n",
              "      <td>notpresent</td>\n",
              "      <td>423.0</td>\n",
              "      <td>53.0</td>\n",
              "      <td>1.8</td>\n",
              "      <td>NaN</td>\n",
              "      <td>NaN</td>\n",
              "      <td>9.6</td>\n",
              "      <td>31.0</td>\n",
              "      <td>7500.0</td>\n",
              "      <td>NaN</td>\n",
              "      <td>no</td>\n",
              "      <td>yes</td>\n",
              "      <td>no</td>\n",
              "      <td>poor</td>\n",
              "      <td>no</td>\n",
              "      <td>yes</td>\n",
              "      <td>ckd</td>\n",
              "    </tr>\n",
              "    <tr>\n",
              "      <th>3</th>\n",
              "      <td>48.0</td>\n",
              "      <td>70.0</td>\n",
              "      <td>1.005</td>\n",
              "      <td>4.0</td>\n",
              "      <td>0.0</td>\n",
              "      <td>normal</td>\n",
              "      <td>abnormal</td>\n",
              "      <td>present</td>\n",
              "      <td>notpresent</td>\n",
              "      <td>117.0</td>\n",
              "      <td>56.0</td>\n",
              "      <td>3.8</td>\n",
              "      <td>111.0</td>\n",
              "      <td>2.5</td>\n",
              "      <td>11.2</td>\n",
              "      <td>32.0</td>\n",
              "      <td>6700.0</td>\n",
              "      <td>3.9</td>\n",
              "      <td>yes</td>\n",
              "      <td>no</td>\n",
              "      <td>no</td>\n",
              "      <td>poor</td>\n",
              "      <td>yes</td>\n",
              "      <td>yes</td>\n",
              "      <td>ckd</td>\n",
              "    </tr>\n",
              "    <tr>\n",
              "      <th>4</th>\n",
              "      <td>51.0</td>\n",
              "      <td>80.0</td>\n",
              "      <td>1.010</td>\n",
              "      <td>2.0</td>\n",
              "      <td>0.0</td>\n",
              "      <td>normal</td>\n",
              "      <td>normal</td>\n",
              "      <td>notpresent</td>\n",
              "      <td>notpresent</td>\n",
              "      <td>106.0</td>\n",
              "      <td>26.0</td>\n",
              "      <td>1.4</td>\n",
              "      <td>NaN</td>\n",
              "      <td>NaN</td>\n",
              "      <td>11.6</td>\n",
              "      <td>35.0</td>\n",
              "      <td>7300.0</td>\n",
              "      <td>4.6</td>\n",
              "      <td>no</td>\n",
              "      <td>no</td>\n",
              "      <td>no</td>\n",
              "      <td>good</td>\n",
              "      <td>no</td>\n",
              "      <td>no</td>\n",
              "      <td>ckd</td>\n",
              "    </tr>\n",
              "  </tbody>\n",
              "</table>\n",
              "</div>"
            ],
            "text/plain": [
              "    age  blood pressure  specific gravity  ...  pedal edema  anemia class\n",
              "0  48.0            80.0             1.020  ...           no      no   ckd\n",
              "1   7.0            50.0             1.020  ...           no      no   ckd\n",
              "2  62.0            80.0             1.010  ...           no     yes   ckd\n",
              "3  48.0            70.0             1.005  ...          yes     yes   ckd\n",
              "4  51.0            80.0             1.010  ...           no      no   ckd\n",
              "\n",
              "[5 rows x 25 columns]"
            ]
          },
          "metadata": {},
          "execution_count": 52
        }
      ]
    },
    {
      "cell_type": "code",
      "metadata": {
        "colab": {
          "base_uri": "https://localhost:8080/"
        },
        "id": "zyKqMPGsA2om",
        "outputId": "3afee0fe-d2a7-4909-cd74-a6fefa17e95a"
      },
      "source": [
        "df['red blood cells'].isnull().sum()"
      ],
      "execution_count": 53,
      "outputs": [
        {
          "output_type": "execute_result",
          "data": {
            "text/plain": [
              "0"
            ]
          },
          "metadata": {},
          "execution_count": 53
        }
      ]
    },
    {
      "cell_type": "code",
      "metadata": {
        "colab": {
          "base_uri": "https://localhost:8080/",
          "height": 0
        },
        "id": "vO4FBHbBBQB9",
        "outputId": "802c4f22-ed45-462d-fe51-3e7063e6b534"
      },
      "source": [
        "sns.countplot(df['red blood cells'])"
      ],
      "execution_count": 54,
      "outputs": [
        {
          "output_type": "stream",
          "name": "stderr",
          "text": [
            "/usr/local/lib/python3.7/dist-packages/seaborn/_decorators.py:43: FutureWarning:\n",
            "\n",
            "Pass the following variable as a keyword arg: x. From version 0.12, the only valid positional argument will be `data`, and passing other arguments without an explicit keyword will result in an error or misinterpretation.\n",
            "\n"
          ]
        },
        {
          "output_type": "execute_result",
          "data": {
            "text/plain": [
              "<matplotlib.axes._subplots.AxesSubplot at 0x7f5270078890>"
            ]
          },
          "metadata": {},
          "execution_count": 54
        },
        {
          "output_type": "display_data",
          "data": {
            "image/png": "[encoded data removed]",
            "text/plain": [
              "<Figure size 432x288 with 1 Axes>"
            ]
          },
          "metadata": {
            "needs_background": "light"
          }
        }
      ]
    },
    {
      "cell_type": "markdown",
      "metadata": {
        "id": "LA2jfAHWBC73"
      },
      "source": [
        "Automating the task by creating a function"
      ]
    },
    {
      "cell_type": "code",
      "metadata": {
        "id": "mz_jR-FKA_h3"
      },
      "source": [
        "def Random_value_imputation(feature):\n",
        "  random_sample= df[feature].dropna().sample(df[feature].isnull().sum())\n",
        "  random_sample.index= df[df[feature].isnull()].index\n",
        "  df.loc[df[feature].isnull(), feature]= random_sample"
      ],
      "execution_count": 55,
      "outputs": []
    },
    {
      "cell_type": "markdown",
      "metadata": {
        "id": "ZNvMWWkQDJZ1"
      },
      "source": [
        "Filling up the missing values"
      ]
    },
    {
      "cell_type": "code",
      "metadata": {
        "id": "TwWJiQXgCS-M"
      },
      "source": [
        "for col in num_col:\n",
        "  Random_value_imputation(col)"
      ],
      "execution_count": 56,
      "outputs": []
    },
    {
      "cell_type": "code",
      "metadata": {
        "colab": {
          "base_uri": "https://localhost:8080/"
        },
        "id": "adg6J94WD5tT",
        "outputId": "5db25a5f-dd2e-464c-8c1e-180935dd0e06"
      },
      "source": [
        "df[cat_col].isnull().sum()"
      ],
      "execution_count": 57,
      "outputs": [
        {
          "output_type": "execute_result",
          "data": {
            "text/plain": [
              "red blood cells             0\n",
              " pus cell                  65\n",
              "pus cell clumps             4\n",
              "bacteria                    4\n",
              "ypertension                 2\n",
              "diabetes mellitus           2\n",
              "coronary artery disease     2\n",
              "appetite                    1\n",
              "pedal edema                 1\n",
              "anemia                      1\n",
              "class                       0\n",
              "dtype: int64"
            ]
          },
          "metadata": {},
          "execution_count": 57
        }
      ]
    },
    {
      "cell_type": "code",
      "metadata": {
        "id": "T3Q4J7HcEN3w"
      },
      "source": [
        "Random_value_imputation(' pus cell')"
      ],
      "execution_count": 58,
      "outputs": []
    },
    {
      "cell_type": "markdown",
      "metadata": {
        "id": "5BbqBL1fEbWE"
      },
      "source": [
        "For less number we can use MODE"
      ]
    },
    {
      "cell_type": "code",
      "metadata": {
        "colab": {
          "base_uri": "https://localhost:8080/",
          "height": 0
        },
        "id": "VzzuK9ANETcP",
        "outputId": "2d1fbf1d-4a97-4c0f-bf44-e259588d3f58"
      },
      "source": [
        "df['pus cell clumps'].mode()[0]"
      ],
      "execution_count": 59,
      "outputs": [
        {
          "output_type": "execute_result",
          "data": {
            "application/vnd.google.colaboratory.intrinsic+json": {
              "type": "string"
            },
            "text/plain": [
              "'notpresent'"
            ]
          },
          "metadata": {},
          "execution_count": 59
        }
      ]
    },
    {
      "cell_type": "markdown",
      "metadata": {
        "id": "IAGkCoc6Es8p"
      },
      "source": [
        "Creating function to impute mode"
      ]
    },
    {
      "cell_type": "code",
      "metadata": {
        "id": "6oYUNSJMEkt0"
      },
      "source": [
        "def impute_mode(feature):\n",
        "  mode= df[feature].mode()[0]\n",
        "  df[feature]= df[feature].fillna(mode)"
      ],
      "execution_count": 60,
      "outputs": []
    },
    {
      "cell_type": "code",
      "metadata": {
        "id": "2_mt0R2LFFHF"
      },
      "source": [
        "for col in cat_col:\n",
        "  impute_mode(col)"
      ],
      "execution_count": 61,
      "outputs": []
    },
    {
      "cell_type": "code",
      "metadata": {
        "colab": {
          "base_uri": "https://localhost:8080/"
        },
        "id": "RBqc8i0IFLMG",
        "outputId": "b537ed30-8cf1-4017-f541-e3800f13f03f"
      },
      "source": [
        "df[cat_col].isnull().sum()"
      ],
      "execution_count": 62,
      "outputs": [
        {
          "output_type": "execute_result",
          "data": {
            "text/plain": [
              "red blood cells            0\n",
              " pus cell                  0\n",
              "pus cell clumps            0\n",
              "bacteria                   0\n",
              "ypertension                0\n",
              "diabetes mellitus          0\n",
              "coronary artery disease    0\n",
              "appetite                   0\n",
              "pedal edema                0\n",
              "anemia                     0\n",
              "class                      0\n",
              "dtype: int64"
            ]
          },
          "metadata": {},
          "execution_count": 62
        }
      ]
    },
    {
      "cell_type": "code",
      "metadata": {
        "id": "a-dYW3VJFUaT"
      },
      "source": [
        ""
      ],
      "execution_count": 62,
      "outputs": []
    },
    {
      "cell_type": "markdown",
      "metadata": {
        "id": "CRHcR4TVFvlZ"
      },
      "source": [
        "# Feature Encoding"
      ]
    },
    {
      "cell_type": "code",
      "metadata": {
        "colab": {
          "base_uri": "https://localhost:8080/"
        },
        "id": "uvouyICxFytV",
        "outputId": "9a814e3c-a8bd-4c9f-8f44-1d1164e5a835"
      },
      "source": [
        "for col in cat_col:\n",
        "  print('{} has {} unique categories'.format(col, df[col].nunique()))"
      ],
      "execution_count": 63,
      "outputs": [
        {
          "output_type": "stream",
          "name": "stdout",
          "text": [
            "red blood cells has 2 unique categories\n",
            " pus cell has 2 unique categories\n",
            "pus cell clumps has 2 unique categories\n",
            "bacteria has 2 unique categories\n",
            "ypertension has 2 unique categories\n",
            "diabetes mellitus has 3 unique categories\n",
            "coronary artery disease has 2 unique categories\n",
            "appetite has 2 unique categories\n",
            "pedal edema has 2 unique categories\n",
            "anemia has 2 unique categories\n",
            "class has 2 unique categories\n"
          ]
        }
      ]
    },
    {
      "cell_type": "markdown",
      "metadata": {
        "id": "avxbHuOWQ-w2"
      },
      "source": [
        "Label Encoding\n",
        "\n",
        "(1) Normal is replaced with 0\n",
        "\n",
        "(2) Abnormal is replaced with 1\n",
        "\n",
        "(3) Anything else is replaced with 2"
      ]
    },
    {
      "cell_type": "code",
      "metadata": {
        "id": "0KlvtxBMQ0lg"
      },
      "source": [
        "le= LabelEncoder()"
      ],
      "execution_count": 64,
      "outputs": []
    },
    {
      "cell_type": "code",
      "metadata": {
        "id": "4klXYdWiRzRi"
      },
      "source": [
        "for col in cat_col:\n",
        "  df[col]= le.fit_transform(df[col])"
      ],
      "execution_count": 65,
      "outputs": []
    },
    {
      "cell_type": "code",
      "metadata": {
        "colab": {
          "base_uri": "https://localhost:8080/",
          "height": 0
        },
        "id": "v5ZkIP-GR9WD",
        "outputId": "7d8311d8-e45e-4da6-cdae-194d7f24b021"
      },
      "source": [
        "df.head()"
      ],
      "execution_count": 66,
      "outputs": [
        {
          "output_type": "execute_result",
          "data": {
            "text/html": [
              "<div>\n",
              "<style scoped>\n",
              "    .dataframe tbody tr th:only-of-type {\n",
              "        vertical-align: middle;\n",
              "    }\n",
              "\n",
              "    .dataframe tbody tr th {\n",
              "        vertical-align: top;\n",
              "    }\n",
              "\n",
              "    .dataframe thead th {\n",
              "        text-align: right;\n",
              "    }\n",
              "</style>\n",
              "<table border=\"1\" class=\"dataframe\">\n",
              "  <thead>\n",
              "    <tr style=\"text-align: right;\">\n",
              "      <th></th>\n",
              "      <th>age</th>\n",
              "      <th>blood pressure</th>\n",
              "      <th>specific gravity</th>\n",
              "      <th>albumin</th>\n",
              "      <th>sugar</th>\n",
              "      <th>red blood cells</th>\n",
              "      <th>pus cell</th>\n",
              "      <th>pus cell clumps</th>\n",
              "      <th>bacteria</th>\n",
              "      <th>blood glucose random</th>\n",
              "      <th>blood urea</th>\n",
              "      <th>serum creatinine</th>\n",
              "      <th>sodium</th>\n",
              "      <th>potassium</th>\n",
              "      <th>haemoglobin</th>\n",
              "      <th>packed cell volume</th>\n",
              "      <th>white blood cell count</th>\n",
              "      <th>red blood cell count</th>\n",
              "      <th>ypertension</th>\n",
              "      <th>diabetes mellitus</th>\n",
              "      <th>coronary artery disease</th>\n",
              "      <th>appetite</th>\n",
              "      <th>pedal edema</th>\n",
              "      <th>anemia</th>\n",
              "      <th>class</th>\n",
              "    </tr>\n",
              "  </thead>\n",
              "  <tbody>\n",
              "    <tr>\n",
              "      <th>0</th>\n",
              "      <td>48.0</td>\n",
              "      <td>80.0</td>\n",
              "      <td>1.020</td>\n",
              "      <td>1.0</td>\n",
              "      <td>0.0</td>\n",
              "      <td>1</td>\n",
              "      <td>1</td>\n",
              "      <td>0</td>\n",
              "      <td>0</td>\n",
              "      <td>121.0</td>\n",
              "      <td>36.0</td>\n",
              "      <td>1.2</td>\n",
              "      <td>135.0</td>\n",
              "      <td>3.8</td>\n",
              "      <td>15.4</td>\n",
              "      <td>44.0</td>\n",
              "      <td>7800.0</td>\n",
              "      <td>5.2</td>\n",
              "      <td>1</td>\n",
              "      <td>2</td>\n",
              "      <td>0</td>\n",
              "      <td>0</td>\n",
              "      <td>0</td>\n",
              "      <td>0</td>\n",
              "      <td>0</td>\n",
              "    </tr>\n",
              "    <tr>\n",
              "      <th>1</th>\n",
              "      <td>7.0</td>\n",
              "      <td>50.0</td>\n",
              "      <td>1.020</td>\n",
              "      <td>4.0</td>\n",
              "      <td>0.0</td>\n",
              "      <td>1</td>\n",
              "      <td>1</td>\n",
              "      <td>0</td>\n",
              "      <td>0</td>\n",
              "      <td>99.0</td>\n",
              "      <td>18.0</td>\n",
              "      <td>0.8</td>\n",
              "      <td>136.0</td>\n",
              "      <td>6.6</td>\n",
              "      <td>11.3</td>\n",
              "      <td>38.0</td>\n",
              "      <td>6000.0</td>\n",
              "      <td>4.8</td>\n",
              "      <td>0</td>\n",
              "      <td>1</td>\n",
              "      <td>0</td>\n",
              "      <td>0</td>\n",
              "      <td>0</td>\n",
              "      <td>0</td>\n",
              "      <td>0</td>\n",
              "    </tr>\n",
              "    <tr>\n",
              "      <th>2</th>\n",
              "      <td>62.0</td>\n",
              "      <td>80.0</td>\n",
              "      <td>1.010</td>\n",
              "      <td>2.0</td>\n",
              "      <td>3.0</td>\n",
              "      <td>1</td>\n",
              "      <td>1</td>\n",
              "      <td>0</td>\n",
              "      <td>0</td>\n",
              "      <td>423.0</td>\n",
              "      <td>53.0</td>\n",
              "      <td>1.8</td>\n",
              "      <td>138.0</td>\n",
              "      <td>4.9</td>\n",
              "      <td>9.6</td>\n",
              "      <td>31.0</td>\n",
              "      <td>7500.0</td>\n",
              "      <td>4.2</td>\n",
              "      <td>0</td>\n",
              "      <td>2</td>\n",
              "      <td>0</td>\n",
              "      <td>1</td>\n",
              "      <td>0</td>\n",
              "      <td>1</td>\n",
              "      <td>0</td>\n",
              "    </tr>\n",
              "    <tr>\n",
              "      <th>3</th>\n",
              "      <td>48.0</td>\n",
              "      <td>70.0</td>\n",
              "      <td>1.005</td>\n",
              "      <td>4.0</td>\n",
              "      <td>0.0</td>\n",
              "      <td>1</td>\n",
              "      <td>0</td>\n",
              "      <td>1</td>\n",
              "      <td>0</td>\n",
              "      <td>117.0</td>\n",
              "      <td>56.0</td>\n",
              "      <td>3.8</td>\n",
              "      <td>111.0</td>\n",
              "      <td>2.5</td>\n",
              "      <td>11.2</td>\n",
              "      <td>32.0</td>\n",
              "      <td>6700.0</td>\n",
              "      <td>3.9</td>\n",
              "      <td>1</td>\n",
              "      <td>1</td>\n",
              "      <td>0</td>\n",
              "      <td>1</td>\n",
              "      <td>1</td>\n",
              "      <td>1</td>\n",
              "      <td>0</td>\n",
              "    </tr>\n",
              "    <tr>\n",
              "      <th>4</th>\n",
              "      <td>51.0</td>\n",
              "      <td>80.0</td>\n",
              "      <td>1.010</td>\n",
              "      <td>2.0</td>\n",
              "      <td>0.0</td>\n",
              "      <td>1</td>\n",
              "      <td>1</td>\n",
              "      <td>0</td>\n",
              "      <td>0</td>\n",
              "      <td>106.0</td>\n",
              "      <td>26.0</td>\n",
              "      <td>1.4</td>\n",
              "      <td>136.0</td>\n",
              "      <td>5.0</td>\n",
              "      <td>11.6</td>\n",
              "      <td>35.0</td>\n",
              "      <td>7300.0</td>\n",
              "      <td>4.6</td>\n",
              "      <td>0</td>\n",
              "      <td>1</td>\n",
              "      <td>0</td>\n",
              "      <td>0</td>\n",
              "      <td>0</td>\n",
              "      <td>0</td>\n",
              "      <td>0</td>\n",
              "    </tr>\n",
              "  </tbody>\n",
              "</table>\n",
              "</div>"
            ],
            "text/plain": [
              "    age  blood pressure  specific gravity  ...  pedal edema  anemia  class\n",
              "0  48.0            80.0             1.020  ...            0       0      0\n",
              "1   7.0            50.0             1.020  ...            0       0      0\n",
              "2  62.0            80.0             1.010  ...            0       1      0\n",
              "3  48.0            70.0             1.005  ...            1       1      0\n",
              "4  51.0            80.0             1.010  ...            0       0      0\n",
              "\n",
              "[5 rows x 25 columns]"
            ]
          },
          "metadata": {},
          "execution_count": 66
        }
      ]
    },
    {
      "cell_type": "markdown",
      "metadata": {
        "id": "25XIKfjpSHIq"
      },
      "source": [
        "All categorical labels are now converted to numerical labels"
      ]
    },
    {
      "cell_type": "code",
      "metadata": {
        "id": "4tAwRS0WR-9b"
      },
      "source": [
        ""
      ],
      "execution_count": 66,
      "outputs": []
    },
    {
      "cell_type": "markdown",
      "metadata": {
        "id": "trW9KajKSyz3"
      },
      "source": [
        "# Selecting best features"
      ]
    },
    {
      "cell_type": "code",
      "metadata": {
        "id": "7IY_86q3Tmte"
      },
      "source": [
        "ind_col= [col for col in df.columns if col!='class']\n",
        "dep_col= 'class'"
      ],
      "execution_count": 67,
      "outputs": []
    },
    {
      "cell_type": "code",
      "metadata": {
        "id": "mKcAogZ4TxtI"
      },
      "source": [
        "x= df[ind_col]\n",
        "y= df[dep_col]"
      ],
      "execution_count": 68,
      "outputs": []
    },
    {
      "cell_type": "code",
      "metadata": {
        "colab": {
          "base_uri": "https://localhost:8080/",
          "height": 0
        },
        "id": "hSCDy--NT_oX",
        "outputId": "8e72acf7-d86d-4f63-95ae-f59f93245997"
      },
      "source": [
        "x.head()"
      ],
      "execution_count": 69,
      "outputs": [
        {
          "output_type": "execute_result",
          "data": {
            "text/html": [
              "<div>\n",
              "<style scoped>\n",
              "    .dataframe tbody tr th:only-of-type {\n",
              "        vertical-align: middle;\n",
              "    }\n",
              "\n",
              "    .dataframe tbody tr th {\n",
              "        vertical-align: top;\n",
              "    }\n",
              "\n",
              "    .dataframe thead th {\n",
              "        text-align: right;\n",
              "    }\n",
              "</style>\n",
              "<table border=\"1\" class=\"dataframe\">\n",
              "  <thead>\n",
              "    <tr style=\"text-align: right;\">\n",
              "      <th></th>\n",
              "      <th>age</th>\n",
              "      <th>blood pressure</th>\n",
              "      <th>specific gravity</th>\n",
              "      <th>albumin</th>\n",
              "      <th>sugar</th>\n",
              "      <th>red blood cells</th>\n",
              "      <th>pus cell</th>\n",
              "      <th>pus cell clumps</th>\n",
              "      <th>bacteria</th>\n",
              "      <th>blood glucose random</th>\n",
              "      <th>blood urea</th>\n",
              "      <th>serum creatinine</th>\n",
              "      <th>sodium</th>\n",
              "      <th>potassium</th>\n",
              "      <th>haemoglobin</th>\n",
              "      <th>packed cell volume</th>\n",
              "      <th>white blood cell count</th>\n",
              "      <th>red blood cell count</th>\n",
              "      <th>ypertension</th>\n",
              "      <th>diabetes mellitus</th>\n",
              "      <th>coronary artery disease</th>\n",
              "      <th>appetite</th>\n",
              "      <th>pedal edema</th>\n",
              "      <th>anemia</th>\n",
              "    </tr>\n",
              "  </thead>\n",
              "  <tbody>\n",
              "    <tr>\n",
              "      <th>0</th>\n",
              "      <td>48.0</td>\n",
              "      <td>80.0</td>\n",
              "      <td>1.020</td>\n",
              "      <td>1.0</td>\n",
              "      <td>0.0</td>\n",
              "      <td>1</td>\n",
              "      <td>1</td>\n",
              "      <td>0</td>\n",
              "      <td>0</td>\n",
              "      <td>121.0</td>\n",
              "      <td>36.0</td>\n",
              "      <td>1.2</td>\n",
              "      <td>135.0</td>\n",
              "      <td>3.8</td>\n",
              "      <td>15.4</td>\n",
              "      <td>44.0</td>\n",
              "      <td>7800.0</td>\n",
              "      <td>5.2</td>\n",
              "      <td>1</td>\n",
              "      <td>2</td>\n",
              "      <td>0</td>\n",
              "      <td>0</td>\n",
              "      <td>0</td>\n",
              "      <td>0</td>\n",
              "    </tr>\n",
              "    <tr>\n",
              "      <th>1</th>\n",
              "      <td>7.0</td>\n",
              "      <td>50.0</td>\n",
              "      <td>1.020</td>\n",
              "      <td>4.0</td>\n",
              "      <td>0.0</td>\n",
              "      <td>1</td>\n",
              "      <td>1</td>\n",
              "      <td>0</td>\n",
              "      <td>0</td>\n",
              "      <td>99.0</td>\n",
              "      <td>18.0</td>\n",
              "      <td>0.8</td>\n",
              "      <td>136.0</td>\n",
              "      <td>6.6</td>\n",
              "      <td>11.3</td>\n",
              "      <td>38.0</td>\n",
              "      <td>6000.0</td>\n",
              "      <td>4.8</td>\n",
              "      <td>0</td>\n",
              "      <td>1</td>\n",
              "      <td>0</td>\n",
              "      <td>0</td>\n",
              "      <td>0</td>\n",
              "      <td>0</td>\n",
              "    </tr>\n",
              "    <tr>\n",
              "      <th>2</th>\n",
              "      <td>62.0</td>\n",
              "      <td>80.0</td>\n",
              "      <td>1.010</td>\n",
              "      <td>2.0</td>\n",
              "      <td>3.0</td>\n",
              "      <td>1</td>\n",
              "      <td>1</td>\n",
              "      <td>0</td>\n",
              "      <td>0</td>\n",
              "      <td>423.0</td>\n",
              "      <td>53.0</td>\n",
              "      <td>1.8</td>\n",
              "      <td>138.0</td>\n",
              "      <td>4.9</td>\n",
              "      <td>9.6</td>\n",
              "      <td>31.0</td>\n",
              "      <td>7500.0</td>\n",
              "      <td>4.2</td>\n",
              "      <td>0</td>\n",
              "      <td>2</td>\n",
              "      <td>0</td>\n",
              "      <td>1</td>\n",
              "      <td>0</td>\n",
              "      <td>1</td>\n",
              "    </tr>\n",
              "    <tr>\n",
              "      <th>3</th>\n",
              "      <td>48.0</td>\n",
              "      <td>70.0</td>\n",
              "      <td>1.005</td>\n",
              "      <td>4.0</td>\n",
              "      <td>0.0</td>\n",
              "      <td>1</td>\n",
              "      <td>0</td>\n",
              "      <td>1</td>\n",
              "      <td>0</td>\n",
              "      <td>117.0</td>\n",
              "      <td>56.0</td>\n",
              "      <td>3.8</td>\n",
              "      <td>111.0</td>\n",
              "      <td>2.5</td>\n",
              "      <td>11.2</td>\n",
              "      <td>32.0</td>\n",
              "      <td>6700.0</td>\n",
              "      <td>3.9</td>\n",
              "      <td>1</td>\n",
              "      <td>1</td>\n",
              "      <td>0</td>\n",
              "      <td>1</td>\n",
              "      <td>1</td>\n",
              "      <td>1</td>\n",
              "    </tr>\n",
              "    <tr>\n",
              "      <th>4</th>\n",
              "      <td>51.0</td>\n",
              "      <td>80.0</td>\n",
              "      <td>1.010</td>\n",
              "      <td>2.0</td>\n",
              "      <td>0.0</td>\n",
              "      <td>1</td>\n",
              "      <td>1</td>\n",
              "      <td>0</td>\n",
              "      <td>0</td>\n",
              "      <td>106.0</td>\n",
              "      <td>26.0</td>\n",
              "      <td>1.4</td>\n",
              "      <td>136.0</td>\n",
              "      <td>5.0</td>\n",
              "      <td>11.6</td>\n",
              "      <td>35.0</td>\n",
              "      <td>7300.0</td>\n",
              "      <td>4.6</td>\n",
              "      <td>0</td>\n",
              "      <td>1</td>\n",
              "      <td>0</td>\n",
              "      <td>0</td>\n",
              "      <td>0</td>\n",
              "      <td>0</td>\n",
              "    </tr>\n",
              "  </tbody>\n",
              "</table>\n",
              "</div>"
            ],
            "text/plain": [
              "    age  blood pressure  specific gravity  ...  appetite  pedal edema  anemia\n",
              "0  48.0            80.0             1.020  ...         0            0       0\n",
              "1   7.0            50.0             1.020  ...         0            0       0\n",
              "2  62.0            80.0             1.010  ...         1            0       1\n",
              "3  48.0            70.0             1.005  ...         1            1       1\n",
              "4  51.0            80.0             1.010  ...         0            0       0\n",
              "\n",
              "[5 rows x 24 columns]"
            ]
          },
          "metadata": {},
          "execution_count": 69
        }
      ]
    },
    {
      "cell_type": "code",
      "metadata": {
        "colab": {
          "base_uri": "https://localhost:8080/"
        },
        "id": "KGvv7O5fUBgw",
        "outputId": "f2407a97-88a0-472d-cce0-8993aba953e6"
      },
      "source": [
        "y"
      ],
      "execution_count": 70,
      "outputs": [
        {
          "output_type": "execute_result",
          "data": {
            "text/plain": [
              "0      0\n",
              "1      0\n",
              "2      0\n",
              "3      0\n",
              "4      0\n",
              "      ..\n",
              "395    1\n",
              "396    1\n",
              "397    1\n",
              "398    1\n",
              "399    1\n",
              "Name: class, Length: 400, dtype: int64"
            ]
          },
          "metadata": {},
          "execution_count": 70
        }
      ]
    },
    {
      "cell_type": "code",
      "metadata": {
        "id": "JmhwtavAUFEu"
      },
      "source": [
        "ordered_rank_features= SelectKBest(score_func= chi2, k=20)\n",
        "ordered_feature= ordered_rank_features.fit(x,y)"
      ],
      "execution_count": 71,
      "outputs": []
    },
    {
      "cell_type": "code",
      "metadata": {
        "colab": {
          "base_uri": "https://localhost:8080/"
        },
        "id": "8vYE17dyUe5x",
        "outputId": "57f1d714-6f21-458f-fb73-45db58a597ca"
      },
      "source": [
        "ordered_feature"
      ],
      "execution_count": 72,
      "outputs": [
        {
          "output_type": "execute_result",
          "data": {
            "text/plain": [
              "SelectKBest(k=20, score_func=<function chi2 at 0x7f528afb0200>)"
            ]
          },
          "metadata": {},
          "execution_count": 72
        }
      ]
    },
    {
      "cell_type": "code",
      "metadata": {
        "colab": {
          "base_uri": "https://localhost:8080/"
        },
        "id": "7Aeaok83UhTf",
        "outputId": "ff69206e-4988-4fd2-b92a-bbd34d24cc9a"
      },
      "source": [
        "ordered_feature.scores_"
      ],
      "execution_count": 73,
      "outputs": [
        {
          "output_type": "execute_result",
          "data": {
            "text/plain": [
              "array([1.17315634e+02, 7.45966754e+01, 5.23771912e-03, 2.29768977e+02,\n",
              "       1.06800000e+02, 8.67811861e+00, 1.55463203e+01, 2.52000000e+01,\n",
              "       1.32000000e+01, 2.53725416e+03, 2.29186701e+03, 3.26854556e+02,\n",
              "       3.44595579e+01, 3.04847985e+00, 1.16966024e+02, 3.51176391e+02,\n",
              "       1.31984632e+04, 2.22159211e+01, 8.82000000e+01, 2.04392523e+01,\n",
              "       2.04000000e+01, 4.92000000e+01, 4.56000000e+01, 3.60000000e+01])"
            ]
          },
          "metadata": {},
          "execution_count": 73
        }
      ]
    },
    {
      "cell_type": "code",
      "metadata": {
        "id": "n0OFQr1TUqLi"
      },
      "source": [
        "datascores= pd.DataFrame(ordered_feature.scores_, columns=['Score'])"
      ],
      "execution_count": 74,
      "outputs": []
    },
    {
      "cell_type": "code",
      "metadata": {
        "colab": {
          "base_uri": "https://localhost:8080/",
          "height": 0
        },
        "id": "7sl34uCJU3Z8",
        "outputId": "718fd835-f01d-4e67-dbe0-92a3ced7d474"
      },
      "source": [
        "datascores"
      ],
      "execution_count": 75,
      "outputs": [
        {
          "output_type": "execute_result",
          "data": {
            "text/html": [
              "<div>\n",
              "<style scoped>\n",
              "    .dataframe tbody tr th:only-of-type {\n",
              "        vertical-align: middle;\n",
              "    }\n",
              "\n",
              "    .dataframe tbody tr th {\n",
              "        vertical-align: top;\n",
              "    }\n",
              "\n",
              "    .dataframe thead th {\n",
              "        text-align: right;\n",
              "    }\n",
              "</style>\n",
              "<table border=\"1\" class=\"dataframe\">\n",
              "  <thead>\n",
              "    <tr style=\"text-align: right;\">\n",
              "      <th></th>\n",
              "      <th>Score</th>\n",
              "    </tr>\n",
              "  </thead>\n",
              "  <tbody>\n",
              "    <tr>\n",
              "      <th>0</th>\n",
              "      <td>117.315634</td>\n",
              "    </tr>\n",
              "    <tr>\n",
              "      <th>1</th>\n",
              "      <td>74.596675</td>\n",
              "    </tr>\n",
              "    <tr>\n",
              "      <th>2</th>\n",
              "      <td>0.005238</td>\n",
              "    </tr>\n",
              "    <tr>\n",
              "      <th>3</th>\n",
              "      <td>229.768977</td>\n",
              "    </tr>\n",
              "    <tr>\n",
              "      <th>4</th>\n",
              "      <td>106.800000</td>\n",
              "    </tr>\n",
              "    <tr>\n",
              "      <th>5</th>\n",
              "      <td>8.678119</td>\n",
              "    </tr>\n",
              "    <tr>\n",
              "      <th>6</th>\n",
              "      <td>15.546320</td>\n",
              "    </tr>\n",
              "    <tr>\n",
              "      <th>7</th>\n",
              "      <td>25.200000</td>\n",
              "    </tr>\n",
              "    <tr>\n",
              "      <th>8</th>\n",
              "      <td>13.200000</td>\n",
              "    </tr>\n",
              "    <tr>\n",
              "      <th>9</th>\n",
              "      <td>2537.254161</td>\n",
              "    </tr>\n",
              "    <tr>\n",
              "      <th>10</th>\n",
              "      <td>2291.867005</td>\n",
              "    </tr>\n",
              "    <tr>\n",
              "      <th>11</th>\n",
              "      <td>326.854556</td>\n",
              "    </tr>\n",
              "    <tr>\n",
              "      <th>12</th>\n",
              "      <td>34.459558</td>\n",
              "    </tr>\n",
              "    <tr>\n",
              "      <th>13</th>\n",
              "      <td>3.048480</td>\n",
              "    </tr>\n",
              "    <tr>\n",
              "      <th>14</th>\n",
              "      <td>116.966024</td>\n",
              "    </tr>\n",
              "    <tr>\n",
              "      <th>15</th>\n",
              "      <td>351.176391</td>\n",
              "    </tr>\n",
              "    <tr>\n",
              "      <th>16</th>\n",
              "      <td>13198.463180</td>\n",
              "    </tr>\n",
              "    <tr>\n",
              "      <th>17</th>\n",
              "      <td>22.215921</td>\n",
              "    </tr>\n",
              "    <tr>\n",
              "      <th>18</th>\n",
              "      <td>88.200000</td>\n",
              "    </tr>\n",
              "    <tr>\n",
              "      <th>19</th>\n",
              "      <td>20.439252</td>\n",
              "    </tr>\n",
              "    <tr>\n",
              "      <th>20</th>\n",
              "      <td>20.400000</td>\n",
              "    </tr>\n",
              "    <tr>\n",
              "      <th>21</th>\n",
              "      <td>49.200000</td>\n",
              "    </tr>\n",
              "    <tr>\n",
              "      <th>22</th>\n",
              "      <td>45.600000</td>\n",
              "    </tr>\n",
              "    <tr>\n",
              "      <th>23</th>\n",
              "      <td>36.000000</td>\n",
              "    </tr>\n",
              "  </tbody>\n",
              "</table>\n",
              "</div>"
            ],
            "text/plain": [
              "           Score\n",
              "0     117.315634\n",
              "1      74.596675\n",
              "2       0.005238\n",
              "3     229.768977\n",
              "4     106.800000\n",
              "5       8.678119\n",
              "6      15.546320\n",
              "7      25.200000\n",
              "8      13.200000\n",
              "9    2537.254161\n",
              "10   2291.867005\n",
              "11    326.854556\n",
              "12     34.459558\n",
              "13      3.048480\n",
              "14    116.966024\n",
              "15    351.176391\n",
              "16  13198.463180\n",
              "17     22.215921\n",
              "18     88.200000\n",
              "19     20.439252\n",
              "20     20.400000\n",
              "21     49.200000\n",
              "22     45.600000\n",
              "23     36.000000"
            ]
          },
          "metadata": {},
          "execution_count": 75
        }
      ]
    },
    {
      "cell_type": "code",
      "metadata": {
        "colab": {
          "base_uri": "https://localhost:8080/",
          "height": 0
        },
        "id": "LSGycngtU74O",
        "outputId": "93ad947a-e8a3-486f-abe7-a718e89b80d5"
      },
      "source": [
        "dfcols= pd.DataFrame(x.columns)\n",
        "dfcols"
      ],
      "execution_count": 76,
      "outputs": [
        {
          "output_type": "execute_result",
          "data": {
            "text/html": [
              "<div>\n",
              "<style scoped>\n",
              "    .dataframe tbody tr th:only-of-type {\n",
              "        vertical-align: middle;\n",
              "    }\n",
              "\n",
              "    .dataframe tbody tr th {\n",
              "        vertical-align: top;\n",
              "    }\n",
              "\n",
              "    .dataframe thead th {\n",
              "        text-align: right;\n",
              "    }\n",
              "</style>\n",
              "<table border=\"1\" class=\"dataframe\">\n",
              "  <thead>\n",
              "    <tr style=\"text-align: right;\">\n",
              "      <th></th>\n",
              "      <th>0</th>\n",
              "    </tr>\n",
              "  </thead>\n",
              "  <tbody>\n",
              "    <tr>\n",
              "      <th>0</th>\n",
              "      <td>age</td>\n",
              "    </tr>\n",
              "    <tr>\n",
              "      <th>1</th>\n",
              "      <td>blood pressure</td>\n",
              "    </tr>\n",
              "    <tr>\n",
              "      <th>2</th>\n",
              "      <td>specific gravity</td>\n",
              "    </tr>\n",
              "    <tr>\n",
              "      <th>3</th>\n",
              "      <td>albumin</td>\n",
              "    </tr>\n",
              "    <tr>\n",
              "      <th>4</th>\n",
              "      <td>sugar</td>\n",
              "    </tr>\n",
              "    <tr>\n",
              "      <th>5</th>\n",
              "      <td>red blood cells</td>\n",
              "    </tr>\n",
              "    <tr>\n",
              "      <th>6</th>\n",
              "      <td>pus cell</td>\n",
              "    </tr>\n",
              "    <tr>\n",
              "      <th>7</th>\n",
              "      <td>pus cell clumps</td>\n",
              "    </tr>\n",
              "    <tr>\n",
              "      <th>8</th>\n",
              "      <td>bacteria</td>\n",
              "    </tr>\n",
              "    <tr>\n",
              "      <th>9</th>\n",
              "      <td>blood glucose random</td>\n",
              "    </tr>\n",
              "    <tr>\n",
              "      <th>10</th>\n",
              "      <td>blood urea</td>\n",
              "    </tr>\n",
              "    <tr>\n",
              "      <th>11</th>\n",
              "      <td>serum creatinine</td>\n",
              "    </tr>\n",
              "    <tr>\n",
              "      <th>12</th>\n",
              "      <td>sodium</td>\n",
              "    </tr>\n",
              "    <tr>\n",
              "      <th>13</th>\n",
              "      <td>potassium</td>\n",
              "    </tr>\n",
              "    <tr>\n",
              "      <th>14</th>\n",
              "      <td>haemoglobin</td>\n",
              "    </tr>\n",
              "    <tr>\n",
              "      <th>15</th>\n",
              "      <td>packed cell volume</td>\n",
              "    </tr>\n",
              "    <tr>\n",
              "      <th>16</th>\n",
              "      <td>white blood cell count</td>\n",
              "    </tr>\n",
              "    <tr>\n",
              "      <th>17</th>\n",
              "      <td>red blood cell count</td>\n",
              "    </tr>\n",
              "    <tr>\n",
              "      <th>18</th>\n",
              "      <td>ypertension</td>\n",
              "    </tr>\n",
              "    <tr>\n",
              "      <th>19</th>\n",
              "      <td>diabetes mellitus</td>\n",
              "    </tr>\n",
              "    <tr>\n",
              "      <th>20</th>\n",
              "      <td>coronary artery disease</td>\n",
              "    </tr>\n",
              "    <tr>\n",
              "      <th>21</th>\n",
              "      <td>appetite</td>\n",
              "    </tr>\n",
              "    <tr>\n",
              "      <th>22</th>\n",
              "      <td>pedal edema</td>\n",
              "    </tr>\n",
              "    <tr>\n",
              "      <th>23</th>\n",
              "      <td>anemia</td>\n",
              "    </tr>\n",
              "  </tbody>\n",
              "</table>\n",
              "</div>"
            ],
            "text/plain": [
              "                          0\n",
              "0                       age\n",
              "1            blood pressure\n",
              "2          specific gravity\n",
              "3                   albumin\n",
              "4                     sugar\n",
              "5           red blood cells\n",
              "6                  pus cell\n",
              "7           pus cell clumps\n",
              "8                  bacteria\n",
              "9      blood glucose random\n",
              "10               blood urea\n",
              "11         serum creatinine\n",
              "12                   sodium\n",
              "13                potassium\n",
              "14              haemoglobin\n",
              "15       packed cell volume\n",
              "16   white blood cell count\n",
              "17     red blood cell count\n",
              "18              ypertension\n",
              "19        diabetes mellitus\n",
              "20  coronary artery disease\n",
              "21                 appetite\n",
              "22              pedal edema\n",
              "23                   anemia"
            ]
          },
          "metadata": {},
          "execution_count": 76
        }
      ]
    },
    {
      "cell_type": "code",
      "metadata": {
        "id": "EYBPW37wVHst"
      },
      "source": [
        "features_rank=pd.concat([dfcols, datascores], axis= 1)"
      ],
      "execution_count": 77,
      "outputs": []
    },
    {
      "cell_type": "code",
      "metadata": {
        "colab": {
          "base_uri": "https://localhost:8080/",
          "height": 0
        },
        "id": "rpbHMX0NVO_U",
        "outputId": "62366508-0b42-4c45-868e-05eb472de302"
      },
      "source": [
        "features_rank"
      ],
      "execution_count": 78,
      "outputs": [
        {
          "output_type": "execute_result",
          "data": {
            "text/html": [
              "<div>\n",
              "<style scoped>\n",
              "    .dataframe tbody tr th:only-of-type {\n",
              "        vertical-align: middle;\n",
              "    }\n",
              "\n",
              "    .dataframe tbody tr th {\n",
              "        vertical-align: top;\n",
              "    }\n",
              "\n",
              "    .dataframe thead th {\n",
              "        text-align: right;\n",
              "    }\n",
              "</style>\n",
              "<table border=\"1\" class=\"dataframe\">\n",
              "  <thead>\n",
              "    <tr style=\"text-align: right;\">\n",
              "      <th></th>\n",
              "      <th>0</th>\n",
              "      <th>Score</th>\n",
              "    </tr>\n",
              "  </thead>\n",
              "  <tbody>\n",
              "    <tr>\n",
              "      <th>0</th>\n",
              "      <td>age</td>\n",
              "      <td>117.315634</td>\n",
              "    </tr>\n",
              "    <tr>\n",
              "      <th>1</th>\n",
              "      <td>blood pressure</td>\n",
              "      <td>74.596675</td>\n",
              "    </tr>\n",
              "    <tr>\n",
              "      <th>2</th>\n",
              "      <td>specific gravity</td>\n",
              "      <td>0.005238</td>\n",
              "    </tr>\n",
              "    <tr>\n",
              "      <th>3</th>\n",
              "      <td>albumin</td>\n",
              "      <td>229.768977</td>\n",
              "    </tr>\n",
              "    <tr>\n",
              "      <th>4</th>\n",
              "      <td>sugar</td>\n",
              "      <td>106.800000</td>\n",
              "    </tr>\n",
              "    <tr>\n",
              "      <th>5</th>\n",
              "      <td>red blood cells</td>\n",
              "      <td>8.678119</td>\n",
              "    </tr>\n",
              "    <tr>\n",
              "      <th>6</th>\n",
              "      <td>pus cell</td>\n",
              "      <td>15.546320</td>\n",
              "    </tr>\n",
              "    <tr>\n",
              "      <th>7</th>\n",
              "      <td>pus cell clumps</td>\n",
              "      <td>25.200000</td>\n",
              "    </tr>\n",
              "    <tr>\n",
              "      <th>8</th>\n",
              "      <td>bacteria</td>\n",
              "      <td>13.200000</td>\n",
              "    </tr>\n",
              "    <tr>\n",
              "      <th>9</th>\n",
              "      <td>blood glucose random</td>\n",
              "      <td>2537.254161</td>\n",
              "    </tr>\n",
              "    <tr>\n",
              "      <th>10</th>\n",
              "      <td>blood urea</td>\n",
              "      <td>2291.867005</td>\n",
              "    </tr>\n",
              "    <tr>\n",
              "      <th>11</th>\n",
              "      <td>serum creatinine</td>\n",
              "      <td>326.854556</td>\n",
              "    </tr>\n",
              "    <tr>\n",
              "      <th>12</th>\n",
              "      <td>sodium</td>\n",
              "      <td>34.459558</td>\n",
              "    </tr>\n",
              "    <tr>\n",
              "      <th>13</th>\n",
              "      <td>potassium</td>\n",
              "      <td>3.048480</td>\n",
              "    </tr>\n",
              "    <tr>\n",
              "      <th>14</th>\n",
              "      <td>haemoglobin</td>\n",
              "      <td>116.966024</td>\n",
              "    </tr>\n",
              "    <tr>\n",
              "      <th>15</th>\n",
              "      <td>packed cell volume</td>\n",
              "      <td>351.176391</td>\n",
              "    </tr>\n",
              "    <tr>\n",
              "      <th>16</th>\n",
              "      <td>white blood cell count</td>\n",
              "      <td>13198.463180</td>\n",
              "    </tr>\n",
              "    <tr>\n",
              "      <th>17</th>\n",
              "      <td>red blood cell count</td>\n",
              "      <td>22.215921</td>\n",
              "    </tr>\n",
              "    <tr>\n",
              "      <th>18</th>\n",
              "      <td>ypertension</td>\n",
              "      <td>88.200000</td>\n",
              "    </tr>\n",
              "    <tr>\n",
              "      <th>19</th>\n",
              "      <td>diabetes mellitus</td>\n",
              "      <td>20.439252</td>\n",
              "    </tr>\n",
              "    <tr>\n",
              "      <th>20</th>\n",
              "      <td>coronary artery disease</td>\n",
              "      <td>20.400000</td>\n",
              "    </tr>\n",
              "    <tr>\n",
              "      <th>21</th>\n",
              "      <td>appetite</td>\n",
              "      <td>49.200000</td>\n",
              "    </tr>\n",
              "    <tr>\n",
              "      <th>22</th>\n",
              "      <td>pedal edema</td>\n",
              "      <td>45.600000</td>\n",
              "    </tr>\n",
              "    <tr>\n",
              "      <th>23</th>\n",
              "      <td>anemia</td>\n",
              "      <td>36.000000</td>\n",
              "    </tr>\n",
              "  </tbody>\n",
              "</table>\n",
              "</div>"
            ],
            "text/plain": [
              "                          0         Score\n",
              "0                       age    117.315634\n",
              "1            blood pressure     74.596675\n",
              "2          specific gravity      0.005238\n",
              "3                   albumin    229.768977\n",
              "4                     sugar    106.800000\n",
              "5           red blood cells      8.678119\n",
              "6                  pus cell     15.546320\n",
              "7           pus cell clumps     25.200000\n",
              "8                  bacteria     13.200000\n",
              "9      blood glucose random   2537.254161\n",
              "10               blood urea   2291.867005\n",
              "11         serum creatinine    326.854556\n",
              "12                   sodium     34.459558\n",
              "13                potassium      3.048480\n",
              "14              haemoglobin    116.966024\n",
              "15       packed cell volume    351.176391\n",
              "16   white blood cell count  13198.463180\n",
              "17     red blood cell count     22.215921\n",
              "18              ypertension     88.200000\n",
              "19        diabetes mellitus     20.439252\n",
              "20  coronary artery disease     20.400000\n",
              "21                 appetite     49.200000\n",
              "22              pedal edema     45.600000\n",
              "23                   anemia     36.000000"
            ]
          },
          "metadata": {},
          "execution_count": 78
        }
      ]
    },
    {
      "cell_type": "code",
      "metadata": {
        "colab": {
          "base_uri": "https://localhost:8080/",
          "height": 0
        },
        "id": "uSGt2fMPWPLM",
        "outputId": "fa2838de-7320-40fb-9508-7d6085eb5071"
      },
      "source": [
        "features_rank.columns= ['features', 'Score']\n",
        "features_rank"
      ],
      "execution_count": 79,
      "outputs": [
        {
          "output_type": "execute_result",
          "data": {
            "text/html": [
              "<div>\n",
              "<style scoped>\n",
              "    .dataframe tbody tr th:only-of-type {\n",
              "        vertical-align: middle;\n",
              "    }\n",
              "\n",
              "    .dataframe tbody tr th {\n",
              "        vertical-align: top;\n",
              "    }\n",
              "\n",
              "    .dataframe thead th {\n",
              "        text-align: right;\n",
              "    }\n",
              "</style>\n",
              "<table border=\"1\" class=\"dataframe\">\n",
              "  <thead>\n",
              "    <tr style=\"text-align: right;\">\n",
              "      <th></th>\n",
              "      <th>features</th>\n",
              "      <th>Score</th>\n",
              "    </tr>\n",
              "  </thead>\n",
              "  <tbody>\n",
              "    <tr>\n",
              "      <th>0</th>\n",
              "      <td>age</td>\n",
              "      <td>117.315634</td>\n",
              "    </tr>\n",
              "    <tr>\n",
              "      <th>1</th>\n",
              "      <td>blood pressure</td>\n",
              "      <td>74.596675</td>\n",
              "    </tr>\n",
              "    <tr>\n",
              "      <th>2</th>\n",
              "      <td>specific gravity</td>\n",
              "      <td>0.005238</td>\n",
              "    </tr>\n",
              "    <tr>\n",
              "      <th>3</th>\n",
              "      <td>albumin</td>\n",
              "      <td>229.768977</td>\n",
              "    </tr>\n",
              "    <tr>\n",
              "      <th>4</th>\n",
              "      <td>sugar</td>\n",
              "      <td>106.800000</td>\n",
              "    </tr>\n",
              "    <tr>\n",
              "      <th>5</th>\n",
              "      <td>red blood cells</td>\n",
              "      <td>8.678119</td>\n",
              "    </tr>\n",
              "    <tr>\n",
              "      <th>6</th>\n",
              "      <td>pus cell</td>\n",
              "      <td>15.546320</td>\n",
              "    </tr>\n",
              "    <tr>\n",
              "      <th>7</th>\n",
              "      <td>pus cell clumps</td>\n",
              "      <td>25.200000</td>\n",
              "    </tr>\n",
              "    <tr>\n",
              "      <th>8</th>\n",
              "      <td>bacteria</td>\n",
              "      <td>13.200000</td>\n",
              "    </tr>\n",
              "    <tr>\n",
              "      <th>9</th>\n",
              "      <td>blood glucose random</td>\n",
              "      <td>2537.254161</td>\n",
              "    </tr>\n",
              "    <tr>\n",
              "      <th>10</th>\n",
              "      <td>blood urea</td>\n",
              "      <td>2291.867005</td>\n",
              "    </tr>\n",
              "    <tr>\n",
              "      <th>11</th>\n",
              "      <td>serum creatinine</td>\n",
              "      <td>326.854556</td>\n",
              "    </tr>\n",
              "    <tr>\n",
              "      <th>12</th>\n",
              "      <td>sodium</td>\n",
              "      <td>34.459558</td>\n",
              "    </tr>\n",
              "    <tr>\n",
              "      <th>13</th>\n",
              "      <td>potassium</td>\n",
              "      <td>3.048480</td>\n",
              "    </tr>\n",
              "    <tr>\n",
              "      <th>14</th>\n",
              "      <td>haemoglobin</td>\n",
              "      <td>116.966024</td>\n",
              "    </tr>\n",
              "    <tr>\n",
              "      <th>15</th>\n",
              "      <td>packed cell volume</td>\n",
              "      <td>351.176391</td>\n",
              "    </tr>\n",
              "    <tr>\n",
              "      <th>16</th>\n",
              "      <td>white blood cell count</td>\n",
              "      <td>13198.463180</td>\n",
              "    </tr>\n",
              "    <tr>\n",
              "      <th>17</th>\n",
              "      <td>red blood cell count</td>\n",
              "      <td>22.215921</td>\n",
              "    </tr>\n",
              "    <tr>\n",
              "      <th>18</th>\n",
              "      <td>ypertension</td>\n",
              "      <td>88.200000</td>\n",
              "    </tr>\n",
              "    <tr>\n",
              "      <th>19</th>\n",
              "      <td>diabetes mellitus</td>\n",
              "      <td>20.439252</td>\n",
              "    </tr>\n",
              "    <tr>\n",
              "      <th>20</th>\n",
              "      <td>coronary artery disease</td>\n",
              "      <td>20.400000</td>\n",
              "    </tr>\n",
              "    <tr>\n",
              "      <th>21</th>\n",
              "      <td>appetite</td>\n",
              "      <td>49.200000</td>\n",
              "    </tr>\n",
              "    <tr>\n",
              "      <th>22</th>\n",
              "      <td>pedal edema</td>\n",
              "      <td>45.600000</td>\n",
              "    </tr>\n",
              "    <tr>\n",
              "      <th>23</th>\n",
              "      <td>anemia</td>\n",
              "      <td>36.000000</td>\n",
              "    </tr>\n",
              "  </tbody>\n",
              "</table>\n",
              "</div>"
            ],
            "text/plain": [
              "                   features         Score\n",
              "0                       age    117.315634\n",
              "1            blood pressure     74.596675\n",
              "2          specific gravity      0.005238\n",
              "3                   albumin    229.768977\n",
              "4                     sugar    106.800000\n",
              "5           red blood cells      8.678119\n",
              "6                  pus cell     15.546320\n",
              "7           pus cell clumps     25.200000\n",
              "8                  bacteria     13.200000\n",
              "9      blood glucose random   2537.254161\n",
              "10               blood urea   2291.867005\n",
              "11         serum creatinine    326.854556\n",
              "12                   sodium     34.459558\n",
              "13                potassium      3.048480\n",
              "14              haemoglobin    116.966024\n",
              "15       packed cell volume    351.176391\n",
              "16   white blood cell count  13198.463180\n",
              "17     red blood cell count     22.215921\n",
              "18              ypertension     88.200000\n",
              "19        diabetes mellitus     20.439252\n",
              "20  coronary artery disease     20.400000\n",
              "21                 appetite     49.200000\n",
              "22              pedal edema     45.600000\n",
              "23                   anemia     36.000000"
            ]
          },
          "metadata": {},
          "execution_count": 79
        }
      ]
    },
    {
      "cell_type": "code",
      "metadata": {
        "colab": {
          "base_uri": "https://localhost:8080/",
          "height": 0
        },
        "id": "BBrQaW4-Wfv0",
        "outputId": "bd555664-ba5f-4d5f-9de5-120fdb4ace89"
      },
      "source": [
        "features_rank.nlargest(10, 'Score')"
      ],
      "execution_count": 80,
      "outputs": [
        {
          "output_type": "execute_result",
          "data": {
            "text/html": [
              "<div>\n",
              "<style scoped>\n",
              "    .dataframe tbody tr th:only-of-type {\n",
              "        vertical-align: middle;\n",
              "    }\n",
              "\n",
              "    .dataframe tbody tr th {\n",
              "        vertical-align: top;\n",
              "    }\n",
              "\n",
              "    .dataframe thead th {\n",
              "        text-align: right;\n",
              "    }\n",
              "</style>\n",
              "<table border=\"1\" class=\"dataframe\">\n",
              "  <thead>\n",
              "    <tr style=\"text-align: right;\">\n",
              "      <th></th>\n",
              "      <th>features</th>\n",
              "      <th>Score</th>\n",
              "    </tr>\n",
              "  </thead>\n",
              "  <tbody>\n",
              "    <tr>\n",
              "      <th>16</th>\n",
              "      <td>white blood cell count</td>\n",
              "      <td>13198.463180</td>\n",
              "    </tr>\n",
              "    <tr>\n",
              "      <th>9</th>\n",
              "      <td>blood glucose random</td>\n",
              "      <td>2537.254161</td>\n",
              "    </tr>\n",
              "    <tr>\n",
              "      <th>10</th>\n",
              "      <td>blood urea</td>\n",
              "      <td>2291.867005</td>\n",
              "    </tr>\n",
              "    <tr>\n",
              "      <th>15</th>\n",
              "      <td>packed cell volume</td>\n",
              "      <td>351.176391</td>\n",
              "    </tr>\n",
              "    <tr>\n",
              "      <th>11</th>\n",
              "      <td>serum creatinine</td>\n",
              "      <td>326.854556</td>\n",
              "    </tr>\n",
              "    <tr>\n",
              "      <th>3</th>\n",
              "      <td>albumin</td>\n",
              "      <td>229.768977</td>\n",
              "    </tr>\n",
              "    <tr>\n",
              "      <th>0</th>\n",
              "      <td>age</td>\n",
              "      <td>117.315634</td>\n",
              "    </tr>\n",
              "    <tr>\n",
              "      <th>14</th>\n",
              "      <td>haemoglobin</td>\n",
              "      <td>116.966024</td>\n",
              "    </tr>\n",
              "    <tr>\n",
              "      <th>4</th>\n",
              "      <td>sugar</td>\n",
              "      <td>106.800000</td>\n",
              "    </tr>\n",
              "    <tr>\n",
              "      <th>18</th>\n",
              "      <td>ypertension</td>\n",
              "      <td>88.200000</td>\n",
              "    </tr>\n",
              "  </tbody>\n",
              "</table>\n",
              "</div>"
            ],
            "text/plain": [
              "                  features         Score\n",
              "16  white blood cell count  13198.463180\n",
              "9     blood glucose random   2537.254161\n",
              "10              blood urea   2291.867005\n",
              "15      packed cell volume    351.176391\n",
              "11        serum creatinine    326.854556\n",
              "3                  albumin    229.768977\n",
              "0                      age    117.315634\n",
              "14             haemoglobin    116.966024\n",
              "4                    sugar    106.800000\n",
              "18             ypertension     88.200000"
            ]
          },
          "metadata": {},
          "execution_count": 80
        }
      ]
    },
    {
      "cell_type": "code",
      "metadata": {
        "id": "CI6CwC-6Wl3k"
      },
      "source": [
        "selected_columns= features_rank.nlargest(10, 'Score')['features'].values"
      ],
      "execution_count": 81,
      "outputs": []
    },
    {
      "cell_type": "code",
      "metadata": {
        "colab": {
          "base_uri": "https://localhost:8080/"
        },
        "id": "5egQfkdsWxqb",
        "outputId": "bd2129a6-e619-4794-a585-66f799f77716"
      },
      "source": [
        "selected_columns"
      ],
      "execution_count": 82,
      "outputs": [
        {
          "output_type": "execute_result",
          "data": {
            "text/plain": [
              "array(['white blood cell count', 'blood glucose random', 'blood urea',\n",
              "       'packed cell volume', 'serum creatinine', 'albumin', 'age',\n",
              "       'haemoglobin', 'sugar', 'ypertension'], dtype=object)"
            ]
          },
          "metadata": {},
          "execution_count": 82
        }
      ]
    },
    {
      "cell_type": "code",
      "metadata": {
        "colab": {
          "base_uri": "https://localhost:8080/",
          "height": 0
        },
        "id": "1RZBIAgFWylx",
        "outputId": "55a2b708-33d7-4724-87b2-63d451c65619"
      },
      "source": [
        "x_new= df[selected_columns]\n",
        "x_new.head()"
      ],
      "execution_count": 83,
      "outputs": [
        {
          "output_type": "execute_result",
          "data": {
            "text/html": [
              "<div>\n",
              "<style scoped>\n",
              "    .dataframe tbody tr th:only-of-type {\n",
              "        vertical-align: middle;\n",
              "    }\n",
              "\n",
              "    .dataframe tbody tr th {\n",
              "        vertical-align: top;\n",
              "    }\n",
              "\n",
              "    .dataframe thead th {\n",
              "        text-align: right;\n",
              "    }\n",
              "</style>\n",
              "<table border=\"1\" class=\"dataframe\">\n",
              "  <thead>\n",
              "    <tr style=\"text-align: right;\">\n",
              "      <th></th>\n",
              "      <th>white blood cell count</th>\n",
              "      <th>blood glucose random</th>\n",
              "      <th>blood urea</th>\n",
              "      <th>packed cell volume</th>\n",
              "      <th>serum creatinine</th>\n",
              "      <th>albumin</th>\n",
              "      <th>age</th>\n",
              "      <th>haemoglobin</th>\n",
              "      <th>sugar</th>\n",
              "      <th>ypertension</th>\n",
              "    </tr>\n",
              "  </thead>\n",
              "  <tbody>\n",
              "    <tr>\n",
              "      <th>0</th>\n",
              "      <td>7800.0</td>\n",
              "      <td>121.0</td>\n",
              "      <td>36.0</td>\n",
              "      <td>44.0</td>\n",
              "      <td>1.2</td>\n",
              "      <td>1.0</td>\n",
              "      <td>48.0</td>\n",
              "      <td>15.4</td>\n",
              "      <td>0.0</td>\n",
              "      <td>1</td>\n",
              "    </tr>\n",
              "    <tr>\n",
              "      <th>1</th>\n",
              "      <td>6000.0</td>\n",
              "      <td>99.0</td>\n",
              "      <td>18.0</td>\n",
              "      <td>38.0</td>\n",
              "      <td>0.8</td>\n",
              "      <td>4.0</td>\n",
              "      <td>7.0</td>\n",
              "      <td>11.3</td>\n",
              "      <td>0.0</td>\n",
              "      <td>0</td>\n",
              "    </tr>\n",
              "    <tr>\n",
              "      <th>2</th>\n",
              "      <td>7500.0</td>\n",
              "      <td>423.0</td>\n",
              "      <td>53.0</td>\n",
              "      <td>31.0</td>\n",
              "      <td>1.8</td>\n",
              "      <td>2.0</td>\n",
              "      <td>62.0</td>\n",
              "      <td>9.6</td>\n",
              "      <td>3.0</td>\n",
              "      <td>0</td>\n",
              "    </tr>\n",
              "    <tr>\n",
              "      <th>3</th>\n",
              "      <td>6700.0</td>\n",
              "      <td>117.0</td>\n",
              "      <td>56.0</td>\n",
              "      <td>32.0</td>\n",
              "      <td>3.8</td>\n",
              "      <td>4.0</td>\n",
              "      <td>48.0</td>\n",
              "      <td>11.2</td>\n",
              "      <td>0.0</td>\n",
              "      <td>1</td>\n",
              "    </tr>\n",
              "    <tr>\n",
              "      <th>4</th>\n",
              "      <td>7300.0</td>\n",
              "      <td>106.0</td>\n",
              "      <td>26.0</td>\n",
              "      <td>35.0</td>\n",
              "      <td>1.4</td>\n",
              "      <td>2.0</td>\n",
              "      <td>51.0</td>\n",
              "      <td>11.6</td>\n",
              "      <td>0.0</td>\n",
              "      <td>0</td>\n",
              "    </tr>\n",
              "  </tbody>\n",
              "</table>\n",
              "</div>"
            ],
            "text/plain": [
              "   white blood cell count  blood glucose random  ...  sugar  ypertension\n",
              "0                  7800.0                 121.0  ...    0.0            1\n",
              "1                  6000.0                  99.0  ...    0.0            0\n",
              "2                  7500.0                 423.0  ...    3.0            0\n",
              "3                  6700.0                 117.0  ...    0.0            1\n",
              "4                  7300.0                 106.0  ...    0.0            0\n",
              "\n",
              "[5 rows x 10 columns]"
            ]
          },
          "metadata": {},
          "execution_count": 83
        }
      ]
    },
    {
      "cell_type": "code",
      "metadata": {
        "colab": {
          "base_uri": "https://localhost:8080/"
        },
        "id": "xhI26y8OW6qi",
        "outputId": "9cd5af2a-b0ce-4540-d8ca-ea0a8772df92"
      },
      "source": [
        "len(x_new)"
      ],
      "execution_count": 84,
      "outputs": [
        {
          "output_type": "execute_result",
          "data": {
            "text/plain": [
              "400"
            ]
          },
          "metadata": {},
          "execution_count": 84
        }
      ]
    },
    {
      "cell_type": "code",
      "metadata": {
        "colab": {
          "base_uri": "https://localhost:8080/"
        },
        "id": "cblb5oOeXBxk",
        "outputId": "60557782-55ab-4c62-a8c9-021f17724581"
      },
      "source": [
        "x_new.shape"
      ],
      "execution_count": 85,
      "outputs": [
        {
          "output_type": "execute_result",
          "data": {
            "text/plain": [
              "(400, 10)"
            ]
          },
          "metadata": {},
          "execution_count": 85
        }
      ]
    },
    {
      "cell_type": "code",
      "metadata": {
        "id": "0BjneUN9XDTF"
      },
      "source": [
        ""
      ],
      "execution_count": 85,
      "outputs": []
    },
    {
      "cell_type": "markdown",
      "metadata": {
        "id": "xhXKEKCDXzJN"
      },
      "source": [
        "# The Model"
      ]
    },
    {
      "cell_type": "code",
      "metadata": {
        "id": "gSLhTkFiX10E"
      },
      "source": [
        "X_train, X_test, y_train, y_test= train_test_split(x_new, y, random_state=0, test_size= 0.25)"
      ],
      "execution_count": 86,
      "outputs": []
    },
    {
      "cell_type": "code",
      "metadata": {
        "colab": {
          "base_uri": "https://localhost:8080/"
        },
        "id": "bbO2ATeIYwMs",
        "outputId": "fe734d4a-9220-4807-f372-1d3cf1a413cc"
      },
      "source": [
        "print(X_train.shape)"
      ],
      "execution_count": 87,
      "outputs": [
        {
          "output_type": "stream",
          "name": "stdout",
          "text": [
            "(300, 10)\n"
          ]
        }
      ]
    },
    {
      "cell_type": "code",
      "metadata": {
        "colab": {
          "base_uri": "https://localhost:8080/"
        },
        "id": "U2n4dS7yYyqx",
        "outputId": "ad4d4dd1-f557-49c7-8025-5cae9f105f9c"
      },
      "source": [
        "print(X_test.shape)"
      ],
      "execution_count": 88,
      "outputs": [
        {
          "output_type": "stream",
          "name": "stdout",
          "text": [
            "(100, 10)\n"
          ]
        }
      ]
    },
    {
      "cell_type": "code",
      "metadata": {
        "colab": {
          "base_uri": "https://localhost:8080/"
        },
        "id": "MYYSXAUHY2NF",
        "outputId": "f8ae415a-eed1-47c1-cf92-766c3dcb8b88"
      },
      "source": [
        "y_train.value_counts()"
      ],
      "execution_count": 89,
      "outputs": [
        {
          "output_type": "execute_result",
          "data": {
            "text/plain": [
              "0    188\n",
              "1    112\n",
              "Name: class, dtype: int64"
            ]
          },
          "metadata": {},
          "execution_count": 89
        }
      ]
    },
    {
      "cell_type": "code",
      "metadata": {
        "id": "vy5SLZbAY8BG"
      },
      "source": [
        "XGBClassifier()\n",
        "classifier= XGBClassifier()"
      ],
      "execution_count": 90,
      "outputs": []
    },
    {
      "cell_type": "code",
      "metadata": {
        "id": "HOSdBIkhZt6M"
      },
      "source": [
        "params={\n",
        "    'learning_rate': [0.05,0.20,0.25],\n",
        "    'max_depth': [5, 8, 10],\n",
        "    'min_child_weight': [1,3,5,7],\n",
        "    'gamma': [0.0, 0.1, 0.2, 0.4],\n",
        "    'colsample_bytree': [0.3, 0.4, 0.7]\n",
        "}"
      ],
      "execution_count": 91,
      "outputs": []
    },
    {
      "cell_type": "code",
      "metadata": {
        "id": "k7ERmBpHaQKf"
      },
      "source": [
        "random_search= RandomizedSearchCV(classifier, param_distributions= params, n_iter=5, scoring='roc_auc', n_jobs= -1, cv= 5, verbose= 3)"
      ],
      "execution_count": 92,
      "outputs": []
    },
    {
      "cell_type": "code",
      "metadata": {
        "colab": {
          "base_uri": "https://localhost:8080/"
        },
        "id": "KIamtObYbSuE",
        "outputId": "f5e98cb4-b02a-4c41-d74e-c3fa5affdf1a"
      },
      "source": [
        "random_search.fit(X_train, y_train)"
      ],
      "execution_count": 93,
      "outputs": [
        {
          "output_type": "stream",
          "name": "stdout",
          "text": [
            "Fitting 5 folds for each of 5 candidates, totalling 25 fits\n"
          ]
        },
        {
          "output_type": "stream",
          "name": "stderr",
          "text": [
            "[Parallel(n_jobs=-1)]: Using backend LokyBackend with 2 concurrent workers.\n",
            "[Parallel(n_jobs=-1)]: Done  25 out of  25 | elapsed:    1.9s finished\n"
          ]
        },
        {
          "output_type": "execute_result",
          "data": {
            "text/plain": [
              "RandomizedSearchCV(cv=5, error_score=nan,\n",
              "                   estimator=XGBClassifier(base_score=0.5, booster='gbtree',\n",
              "                                           colsample_bylevel=1,\n",
              "                                           colsample_bynode=1,\n",
              "                                           colsample_bytree=1, gamma=0,\n",
              "                                           learning_rate=0.1, max_delta_step=0,\n",
              "                                           max_depth=3, min_child_weight=1,\n",
              "                                           missing=None, n_estimators=100,\n",
              "                                           n_jobs=1, nthread=None,\n",
              "                                           objective='binary:logistic',\n",
              "                                           random_state=0, reg_alpha=0,\n",
              "                                           reg_lambda=1, sc...\n",
              "                                           seed=None, silent=None, subsample=1,\n",
              "                                           verbosity=1),\n",
              "                   iid='deprecated', n_iter=5, n_jobs=-1,\n",
              "                   param_distributions={'colsample_bytree': [0.3, 0.4, 0.7],\n",
              "                                        'gamma': [0.0, 0.1, 0.2, 0.4],\n",
              "                                        'learning_rate': [0.05, 0.2, 0.25],\n",
              "                                        'max_depth': [5, 8, 10],\n",
              "                                        'min_child_weight': [1, 3, 5, 7]},\n",
              "                   pre_dispatch='2*n_jobs', random_state=None, refit=True,\n",
              "                   return_train_score=False, scoring='roc_auc', verbose=3)"
            ]
          },
          "metadata": {},
          "execution_count": 93
        }
      ]
    },
    {
      "cell_type": "code",
      "metadata": {
        "colab": {
          "base_uri": "https://localhost:8080/"
        },
        "id": "t6kxmwYhbfIg",
        "outputId": "15f9606c-7e3e-4753-a8f7-f3fa823c5c4d"
      },
      "source": [
        "random_search.best_estimator_"
      ],
      "execution_count": 94,
      "outputs": [
        {
          "output_type": "execute_result",
          "data": {
            "text/plain": [
              "XGBClassifier(base_score=0.5, booster='gbtree', colsample_bylevel=1,\n",
              "              colsample_bynode=1, colsample_bytree=0.4, gamma=0.2,\n",
              "              learning_rate=0.05, max_delta_step=0, max_depth=8,\n",
              "              min_child_weight=3, missing=None, n_estimators=100, n_jobs=1,\n",
              "              nthread=None, objective='binary:logistic', random_state=0,\n",
              "              reg_alpha=0, reg_lambda=1, scale_pos_weight=1, seed=None,\n",
              "              silent=None, subsample=1, verbosity=1)"
            ]
          },
          "metadata": {},
          "execution_count": 94
        }
      ]
    },
    {
      "cell_type": "code",
      "metadata": {
        "colab": {
          "base_uri": "https://localhost:8080/"
        },
        "id": "CaUyERU2bmll",
        "outputId": "f075f6fe-d99c-45ff-eceb-c5116d520a64"
      },
      "source": [
        "random_search.best_params_"
      ],
      "execution_count": 95,
      "outputs": [
        {
          "output_type": "execute_result",
          "data": {
            "text/plain": [
              "{'colsample_bytree': 0.4,\n",
              " 'gamma': 0.2,\n",
              " 'learning_rate': 0.05,\n",
              " 'max_depth': 8,\n",
              " 'min_child_weight': 3}"
            ]
          },
          "metadata": {},
          "execution_count": 95
        }
      ]
    },
    {
      "cell_type": "code",
      "metadata": {
        "id": "cQl3plP4bxRB"
      },
      "source": [
        "classifier= XGBClassifier(base_score=0.5, booster='gbtree', colsample_bylevel=1,\n",
        "              colsample_bynode=1, colsample_bytree=0.4, gamma=0.4,\n",
        "              learning_rate=0.2, max_delta_step=0, max_depth=5,\n",
        "              min_child_weight=1, missing=None, n_estimators=100, n_jobs=1,\n",
        "              nthread=None, objective='binary:logistic', random_state=0,\n",
        "              reg_alpha=0, reg_lambda=1, scale_pos_weight=1, seed=None,\n",
        "              silent=None, subsample=1, verbosity=1)"
      ],
      "execution_count": 96,
      "outputs": []
    },
    {
      "cell_type": "code",
      "metadata": {
        "colab": {
          "base_uri": "https://localhost:8080/"
        },
        "id": "cjdhlJtGb9QP",
        "outputId": "c298d1d9-a384-4f56-fd1f-1fe8177197c9"
      },
      "source": [
        "classifier.fit(X_train, y_train)"
      ],
      "execution_count": 97,
      "outputs": [
        {
          "output_type": "execute_result",
          "data": {
            "text/plain": [
              "XGBClassifier(base_score=0.5, booster='gbtree', colsample_bylevel=1,\n",
              "              colsample_bynode=1, colsample_bytree=0.4, gamma=0.4,\n",
              "              learning_rate=0.2, max_delta_step=0, max_depth=5,\n",
              "              min_child_weight=1, missing=None, n_estimators=100, n_jobs=1,\n",
              "              nthread=None, objective='binary:logistic', random_state=0,\n",
              "              reg_alpha=0, reg_lambda=1, scale_pos_weight=1, seed=None,\n",
              "              silent=None, subsample=1, verbosity=1)"
            ]
          },
          "metadata": {},
          "execution_count": 97
        }
      ]
    },
    {
      "cell_type": "code",
      "metadata": {
        "id": "QtsHB2uccAgU"
      },
      "source": [
        "y_pred= classifier.predict(X_test)"
      ],
      "execution_count": 98,
      "outputs": []
    },
    {
      "cell_type": "code",
      "metadata": {
        "colab": {
          "base_uri": "https://localhost:8080/"
        },
        "id": "dXn-gDGlcGKj",
        "outputId": "27d72810-ad0d-4e8c-c361-86d3b34a8ad4"
      },
      "source": [
        "y_pred"
      ],
      "execution_count": 99,
      "outputs": [
        {
          "output_type": "execute_result",
          "data": {
            "text/plain": [
              "array([0, 1, 1, 0, 0, 0, 0, 1, 0, 0, 0, 0, 1, 1, 0, 0, 1, 0, 0, 0, 0, 1,\n",
              "       0, 1, 0, 1, 0, 0, 1, 1, 0, 1, 1, 0, 1, 0, 0, 0, 0, 1, 0, 0, 0, 0,\n",
              "       1, 0, 1, 1, 0, 0, 0, 0, 1, 0, 0, 1, 0, 0, 0, 0, 0, 1, 0, 1, 0, 1,\n",
              "       0, 0, 0, 1, 0, 1, 0, 0, 0, 0, 1, 1, 1, 1, 1, 1, 0, 0, 1, 0, 0, 1,\n",
              "       1, 1, 1, 1, 0, 0, 0, 0, 0, 1, 1, 1])"
            ]
          },
          "metadata": {},
          "execution_count": 99
        }
      ]
    },
    {
      "cell_type": "code",
      "metadata": {
        "colab": {
          "base_uri": "https://localhost:8080/"
        },
        "id": "kd5VhEyLcfkL",
        "outputId": "d0a2a43a-4a20-4ecc-e346-c40a05e55a81"
      },
      "source": [
        "confusion_matrix(y_test, y_pred)"
      ],
      "execution_count": 100,
      "outputs": [
        {
          "output_type": "execute_result",
          "data": {
            "text/plain": [
              "array([[58,  4],\n",
              "       [ 2, 36]])"
            ]
          },
          "metadata": {},
          "execution_count": 100
        }
      ]
    },
    {
      "cell_type": "code",
      "metadata": {
        "colab": {
          "base_uri": "https://localhost:8080/"
        },
        "id": "2P1fpTCEexgZ",
        "outputId": "300fa706-11d0-4abb-f539-d703b2cf78f2"
      },
      "source": [
        "accuracy_score(y_test, y_pred)"
      ],
      "execution_count": 101,
      "outputs": [
        {
          "output_type": "execute_result",
          "data": {
            "text/plain": [
              "0.94"
            ]
          },
          "metadata": {},
          "execution_count": 101
        }
      ]
    },
    {
      "cell_type": "code",
      "metadata": {
        "id": "4A8B2Y8tf5bq"
      },
      "source": [
        ""
      ],
      "execution_count": null,
      "outputs": []
    }
  ]
}